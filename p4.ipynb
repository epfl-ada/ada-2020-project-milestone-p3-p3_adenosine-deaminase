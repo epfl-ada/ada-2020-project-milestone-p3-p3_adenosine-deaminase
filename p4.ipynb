{
 "cells": [
  {
   "cell_type": "markdown",
   "metadata": {},
   "source": [
    "# Predicting NASDAQ indexes during the COVID-19 pandemic"
   ]
  },
  {
   "cell_type": "markdown",
   "metadata": {},
   "source": [
    "## Data preprocessing"
   ]
  },
  {
   "cell_type": "code",
   "execution_count": 1,
   "metadata": {},
   "outputs": [],
   "source": [
    "import matplotlib.pyplot as plt\n",
    "import numpy as np\n",
    "import pandas as pd\n",
    "import statsmodels.api as sm\n",
    "from sklearn.linear_model import LinearRegression"
   ]
  },
  {
   "cell_type": "code",
   "execution_count": 2,
   "metadata": {},
   "outputs": [
    {
     "data": {
      "text/html": [
       "<div>\n",
       "<style scoped>\n",
       "    .dataframe tbody tr th:only-of-type {\n",
       "        vertical-align: middle;\n",
       "    }\n",
       "\n",
       "    .dataframe tbody tr th {\n",
       "        vertical-align: top;\n",
       "    }\n",
       "\n",
       "    .dataframe thead th {\n",
       "        text-align: right;\n",
       "    }\n",
       "</style>\n",
       "<table border=\"1\" class=\"dataframe\">\n",
       "  <thead>\n",
       "    <tr style=\"text-align: right;\">\n",
       "      <th></th>\n",
       "      <th>Date</th>\n",
       "      <th>Open</th>\n",
       "      <th>High</th>\n",
       "      <th>Low</th>\n",
       "      <th>Close</th>\n",
       "      <th>Adj Close</th>\n",
       "      <th>Volume</th>\n",
       "    </tr>\n",
       "  </thead>\n",
       "  <tbody>\n",
       "    <tr>\n",
       "      <th>257</th>\n",
       "      <td>2020-11-02</td>\n",
       "      <td>1023.380005</td>\n",
       "      <td>1100.969971</td>\n",
       "      <td>1003.500000</td>\n",
       "      <td>1087.619995</td>\n",
       "      <td>1087.619995</td>\n",
       "      <td>5046800</td>\n",
       "    </tr>\n",
       "    <tr>\n",
       "      <th>258</th>\n",
       "      <td>2020-11-09</td>\n",
       "      <td>1099.530029</td>\n",
       "      <td>1106.780029</td>\n",
       "      <td>1065.349976</td>\n",
       "      <td>1104.359985</td>\n",
       "      <td>1104.359985</td>\n",
       "      <td>6324500</td>\n",
       "    </tr>\n",
       "    <tr>\n",
       "      <th>259</th>\n",
       "      <td>2020-11-16</td>\n",
       "      <td>1111.469971</td>\n",
       "      <td>1111.489990</td>\n",
       "      <td>1078.869995</td>\n",
       "      <td>1091.459961</td>\n",
       "      <td>1091.459961</td>\n",
       "      <td>5446500</td>\n",
       "    </tr>\n",
       "    <tr>\n",
       "      <th>260</th>\n",
       "      <td>2020-11-23</td>\n",
       "      <td>1098.770020</td>\n",
       "      <td>1123.569946</td>\n",
       "      <td>1088.209961</td>\n",
       "      <td>1123.569946</td>\n",
       "      <td>1123.569946</td>\n",
       "      <td>3373000</td>\n",
       "    </tr>\n",
       "    <tr>\n",
       "      <th>261</th>\n",
       "      <td>2020-11-30</td>\n",
       "      <td>1132.060059</td>\n",
       "      <td>1135.439941</td>\n",
       "      <td>1116.579956</td>\n",
       "      <td>1135.010010</td>\n",
       "      <td>1135.010010</td>\n",
       "      <td>3571800</td>\n",
       "    </tr>\n",
       "  </tbody>\n",
       "</table>\n",
       "</div>"
      ],
      "text/plain": [
       "           Date         Open         High          Low        Close  \\\n",
       "257  2020-11-02  1023.380005  1100.969971  1003.500000  1087.619995   \n",
       "258  2020-11-09  1099.530029  1106.780029  1065.349976  1104.359985   \n",
       "259  2020-11-16  1111.469971  1111.489990  1078.869995  1091.459961   \n",
       "260  2020-11-23  1098.770020  1123.569946  1088.209961  1123.569946   \n",
       "261  2020-11-30  1132.060059  1135.439941  1116.579956  1135.010010   \n",
       "\n",
       "       Adj Close   Volume  \n",
       "257  1087.619995  5046800  \n",
       "258  1104.359985  6324500  \n",
       "259  1091.459961  5446500  \n",
       "260  1123.569946  3373000  \n",
       "261  1135.010010  3571800  "
      ]
     },
     "execution_count": 2,
     "metadata": {},
     "output_type": "execute_result"
    }
   ],
   "source": [
    "DATA_DIR = './my_data/'\n",
    "df_healthcare = pd.read_csv(DATA_DIR + 'IXHC.csv')\n",
    "df_biotech = pd.read_csv(DATA_DIR + 'NBI.csv')\n",
    "df_healthcare.tail()"
   ]
  },
  {
   "cell_type": "markdown",
   "metadata": {},
   "source": [
    "Our datasets include stock indexes from 2015/12/01 to 2020/12/01.\n",
    "\n",
    "The names of columns are quite staightforward. Here we take **NASDAQ HealthCare** as an example:\n",
    "+ Date: the first day of every week.\n",
    "+ Open: the opening price in each week.\n",
    "+ High: the highest price in each week.\n",
    "+ Low: the lowest price in each week.\n",
    "+ Close: the closing price in each week. To be more specific, closing prices on every Friday.\n",
    "\n",
    "It's noted that **Date** is the first day of the weekly summary rather than the last day and that is the first issue. Besides, as we can observe, 2020-11-30 is the first day of the week so the last row of **NASDAQ HealthCare** dataframe is just the summary of prices for two days (2020-11-30 and 2020/12/01). It's safe to drop it."
   ]
  },
  {
   "cell_type": "code",
   "execution_count": 3,
   "metadata": {},
   "outputs": [],
   "source": [
    "df_healthcare['Date'] = pd.to_datetime(df_healthcare['Date'])\n",
    "df_healthcare['Date'] = df_healthcare['Date'] + pd.Timedelta('6d')\n",
    "df_healthcare.set_index('Date', inplace=True)\n",
    "df_healthcare = df_healthcare[0:-1]"
   ]
  },
  {
   "cell_type": "markdown",
   "metadata": {},
   "source": [
    "Now the **NASDAQ HealthCare** dateset is exactly what we want:"
   ]
  },
  {
   "cell_type": "code",
   "execution_count": 4,
   "metadata": {},
   "outputs": [
    {
     "data": {
      "text/html": [
       "<div>\n",
       "<style scoped>\n",
       "    .dataframe tbody tr th:only-of-type {\n",
       "        vertical-align: middle;\n",
       "    }\n",
       "\n",
       "    .dataframe tbody tr th {\n",
       "        vertical-align: top;\n",
       "    }\n",
       "\n",
       "    .dataframe thead th {\n",
       "        text-align: right;\n",
       "    }\n",
       "</style>\n",
       "<table border=\"1\" class=\"dataframe\">\n",
       "  <thead>\n",
       "    <tr style=\"text-align: right;\">\n",
       "      <th></th>\n",
       "      <th>Open</th>\n",
       "      <th>High</th>\n",
       "      <th>Low</th>\n",
       "      <th>Close</th>\n",
       "      <th>Adj Close</th>\n",
       "      <th>Volume</th>\n",
       "    </tr>\n",
       "    <tr>\n",
       "      <th>Date</th>\n",
       "      <th></th>\n",
       "      <th></th>\n",
       "      <th></th>\n",
       "      <th></th>\n",
       "      <th></th>\n",
       "      <th></th>\n",
       "    </tr>\n",
       "  </thead>\n",
       "  <tbody>\n",
       "    <tr>\n",
       "      <th>2020-11-01</th>\n",
       "      <td>1059.619995</td>\n",
       "      <td>1067.189941</td>\n",
       "      <td>1003.510010</td>\n",
       "      <td>1013.820007</td>\n",
       "      <td>1013.820007</td>\n",
       "      <td>4118400</td>\n",
       "    </tr>\n",
       "    <tr>\n",
       "      <th>2020-11-08</th>\n",
       "      <td>1023.380005</td>\n",
       "      <td>1100.969971</td>\n",
       "      <td>1003.500000</td>\n",
       "      <td>1087.619995</td>\n",
       "      <td>1087.619995</td>\n",
       "      <td>5046800</td>\n",
       "    </tr>\n",
       "    <tr>\n",
       "      <th>2020-11-15</th>\n",
       "      <td>1099.530029</td>\n",
       "      <td>1106.780029</td>\n",
       "      <td>1065.349976</td>\n",
       "      <td>1104.359985</td>\n",
       "      <td>1104.359985</td>\n",
       "      <td>6324500</td>\n",
       "    </tr>\n",
       "    <tr>\n",
       "      <th>2020-11-22</th>\n",
       "      <td>1111.469971</td>\n",
       "      <td>1111.489990</td>\n",
       "      <td>1078.869995</td>\n",
       "      <td>1091.459961</td>\n",
       "      <td>1091.459961</td>\n",
       "      <td>5446500</td>\n",
       "    </tr>\n",
       "    <tr>\n",
       "      <th>2020-11-29</th>\n",
       "      <td>1098.770020</td>\n",
       "      <td>1123.569946</td>\n",
       "      <td>1088.209961</td>\n",
       "      <td>1123.569946</td>\n",
       "      <td>1123.569946</td>\n",
       "      <td>3373000</td>\n",
       "    </tr>\n",
       "  </tbody>\n",
       "</table>\n",
       "</div>"
      ],
      "text/plain": [
       "                   Open         High          Low        Close    Adj Close  \\\n",
       "Date                                                                          \n",
       "2020-11-01  1059.619995  1067.189941  1003.510010  1013.820007  1013.820007   \n",
       "2020-11-08  1023.380005  1100.969971  1003.500000  1087.619995  1087.619995   \n",
       "2020-11-15  1099.530029  1106.780029  1065.349976  1104.359985  1104.359985   \n",
       "2020-11-22  1111.469971  1111.489990  1078.869995  1091.459961  1091.459961   \n",
       "2020-11-29  1098.770020  1123.569946  1088.209961  1123.569946  1123.569946   \n",
       "\n",
       "             Volume  \n",
       "Date                 \n",
       "2020-11-01  4118400  \n",
       "2020-11-08  5046800  \n",
       "2020-11-15  6324500  \n",
       "2020-11-22  5446500  \n",
       "2020-11-29  3373000  "
      ]
     },
     "execution_count": 4,
     "metadata": {},
     "output_type": "execute_result"
    }
   ],
   "source": [
    "df_healthcare.tail()"
   ]
  },
  {
   "cell_type": "markdown",
   "metadata": {},
   "source": [
    "We do the same process again for **NASDAQ Biotechnology** dataset:"
   ]
  },
  {
   "cell_type": "code",
   "execution_count": 5,
   "metadata": {},
   "outputs": [],
   "source": [
    "df_biotech['Date'] = pd.to_datetime(df_biotech['Date'])\n",
    "df_biotech['Date'] = df_biotech['Date'] + pd.Timedelta('6d')\n",
    "df_biotech.set_index('Date', inplace=True)\n",
    "df_biotech = df_biotech[0:-1]"
   ]
  },
  {
   "cell_type": "code",
   "execution_count": 6,
   "metadata": {},
   "outputs": [
    {
     "data": {
      "text/html": [
       "<div>\n",
       "<style scoped>\n",
       "    .dataframe tbody tr th:only-of-type {\n",
       "        vertical-align: middle;\n",
       "    }\n",
       "\n",
       "    .dataframe tbody tr th {\n",
       "        vertical-align: top;\n",
       "    }\n",
       "\n",
       "    .dataframe thead th {\n",
       "        text-align: right;\n",
       "    }\n",
       "</style>\n",
       "<table border=\"1\" class=\"dataframe\">\n",
       "  <thead>\n",
       "    <tr style=\"text-align: right;\">\n",
       "      <th></th>\n",
       "      <th>Open</th>\n",
       "      <th>High</th>\n",
       "      <th>Low</th>\n",
       "      <th>Close</th>\n",
       "      <th>Adj Close</th>\n",
       "      <th>Volume</th>\n",
       "    </tr>\n",
       "    <tr>\n",
       "      <th>Date</th>\n",
       "      <th></th>\n",
       "      <th></th>\n",
       "      <th></th>\n",
       "      <th></th>\n",
       "      <th></th>\n",
       "      <th></th>\n",
       "    </tr>\n",
       "  </thead>\n",
       "  <tbody>\n",
       "    <tr>\n",
       "      <th>2020-11-01</th>\n",
       "      <td>4252.459961</td>\n",
       "      <td>4286.129883</td>\n",
       "      <td>4054.510010</td>\n",
       "      <td>4097.970215</td>\n",
       "      <td>4097.970215</td>\n",
       "      <td>1099300</td>\n",
       "    </tr>\n",
       "    <tr>\n",
       "      <th>2020-11-08</th>\n",
       "      <td>4125.450195</td>\n",
       "      <td>4469.339844</td>\n",
       "      <td>4033.139893</td>\n",
       "      <td>4355.970215</td>\n",
       "      <td>4355.970215</td>\n",
       "      <td>1197000</td>\n",
       "    </tr>\n",
       "    <tr>\n",
       "      <th>2020-11-15</th>\n",
       "      <td>4374.060059</td>\n",
       "      <td>4446.140137</td>\n",
       "      <td>4277.850098</td>\n",
       "      <td>4436.250000</td>\n",
       "      <td>4436.250000</td>\n",
       "      <td>1014200</td>\n",
       "    </tr>\n",
       "    <tr>\n",
       "      <th>2020-11-22</th>\n",
       "      <td>4466.890137</td>\n",
       "      <td>4466.890137</td>\n",
       "      <td>4318.939941</td>\n",
       "      <td>4364.149902</td>\n",
       "      <td>4364.149902</td>\n",
       "      <td>1243900</td>\n",
       "    </tr>\n",
       "    <tr>\n",
       "      <th>2020-11-29</th>\n",
       "      <td>4395.709961</td>\n",
       "      <td>4505.310059</td>\n",
       "      <td>4342.129883</td>\n",
       "      <td>4505.310059</td>\n",
       "      <td>4505.310059</td>\n",
       "      <td>595300</td>\n",
       "    </tr>\n",
       "  </tbody>\n",
       "</table>\n",
       "</div>"
      ],
      "text/plain": [
       "                   Open         High          Low        Close    Adj Close  \\\n",
       "Date                                                                          \n",
       "2020-11-01  4252.459961  4286.129883  4054.510010  4097.970215  4097.970215   \n",
       "2020-11-08  4125.450195  4469.339844  4033.139893  4355.970215  4355.970215   \n",
       "2020-11-15  4374.060059  4446.140137  4277.850098  4436.250000  4436.250000   \n",
       "2020-11-22  4466.890137  4466.890137  4318.939941  4364.149902  4364.149902   \n",
       "2020-11-29  4395.709961  4505.310059  4342.129883  4505.310059  4505.310059   \n",
       "\n",
       "             Volume  \n",
       "Date                 \n",
       "2020-11-01  1099300  \n",
       "2020-11-08  1197000  \n",
       "2020-11-15  1014200  \n",
       "2020-11-22  1243900  \n",
       "2020-11-29   595300  "
      ]
     },
     "execution_count": 6,
     "metadata": {},
     "output_type": "execute_result"
    }
   ],
   "source": [
    "df_biotech.tail()"
   ]
  },
  {
   "cell_type": "markdown",
   "metadata": {},
   "source": [
    "Here, We process Google Trends data (also from 2015/12/01 to 2020/12/01) about topic \"Vaccine\". The tail of the result dataframe matches the previous NASDAQ data."
   ]
  },
  {
   "cell_type": "code",
   "execution_count": 7,
   "metadata": {},
   "outputs": [],
   "source": [
    "df_trends = pd.read_csv(DATA_DIR + 'trends_data.csv')\n",
    "df_trends.drop(labels=['Week'], axis=0, inplace=True)\n",
    "df_trends.index = pd.to_datetime(df_trends.index)\n",
    "df_trends.index.set_names('Date', inplace=True)\n",
    "df_trends.rename(columns={'Category: All categories': 'Vaccine'}, inplace=True)\n",
    "df_trends['Vaccine'] = df_trends['Vaccine'].apply(lambda x: int(x))"
   ]
  },
  {
   "cell_type": "code",
   "execution_count": 8,
   "metadata": {},
   "outputs": [
    {
     "data": {
      "text/html": [
       "<div>\n",
       "<style scoped>\n",
       "    .dataframe tbody tr th:only-of-type {\n",
       "        vertical-align: middle;\n",
       "    }\n",
       "\n",
       "    .dataframe tbody tr th {\n",
       "        vertical-align: top;\n",
       "    }\n",
       "\n",
       "    .dataframe thead th {\n",
       "        text-align: right;\n",
       "    }\n",
       "</style>\n",
       "<table border=\"1\" class=\"dataframe\">\n",
       "  <thead>\n",
       "    <tr style=\"text-align: right;\">\n",
       "      <th></th>\n",
       "      <th>Vaccine</th>\n",
       "    </tr>\n",
       "    <tr>\n",
       "      <th>Date</th>\n",
       "      <th></th>\n",
       "    </tr>\n",
       "  </thead>\n",
       "  <tbody>\n",
       "    <tr>\n",
       "      <th>2020-11-01</th>\n",
       "      <td>27</td>\n",
       "    </tr>\n",
       "    <tr>\n",
       "      <th>2020-11-08</th>\n",
       "      <td>85</td>\n",
       "    </tr>\n",
       "    <tr>\n",
       "      <th>2020-11-15</th>\n",
       "      <td>84</td>\n",
       "    </tr>\n",
       "    <tr>\n",
       "      <th>2020-11-22</th>\n",
       "      <td>70</td>\n",
       "    </tr>\n",
       "    <tr>\n",
       "      <th>2020-11-29</th>\n",
       "      <td>100</td>\n",
       "    </tr>\n",
       "  </tbody>\n",
       "</table>\n",
       "</div>"
      ],
      "text/plain": [
       "            Vaccine\n",
       "Date               \n",
       "2020-11-01       27\n",
       "2020-11-08       85\n",
       "2020-11-15       84\n",
       "2020-11-22       70\n",
       "2020-11-29      100"
      ]
     },
     "execution_count": 8,
     "metadata": {},
     "output_type": "execute_result"
    }
   ],
   "source": [
    "df_trends.tail()"
   ]
  },
  {
   "cell_type": "markdown",
   "metadata": {},
   "source": [
    "After the individual processing, all three datesets share the same time index and can be merged perfectly. We first experiment with the closing prices of both stocks."
   ]
  },
  {
   "cell_type": "code",
   "execution_count": 9,
   "metadata": {},
   "outputs": [],
   "source": [
    "data = pd.DataFrame({'healthcare': df_healthcare['Close'],\n",
    "                     'biotech': df_biotech['Close'],\n",
    "                     'vaccine': df_trends['Vaccine']})"
   ]
  },
  {
   "cell_type": "code",
   "execution_count": 43,
   "metadata": {},
   "outputs": [
    {
     "data": {
      "text/plain": [
       "[<matplotlib.lines.Line2D at 0x201e3642430>]"
      ]
     },
     "execution_count": 43,
     "metadata": {},
     "output_type": "execute_result"
    },
    {
     "data": {
      "image/png": "[encoded data removed]",
      "text/plain": [
       "<Figure size 432x288 with 1 Axes>"
      ]
     },
     "metadata": {
      "needs_background": "light"
     },
     "output_type": "display_data"
    }
   ],
   "source": [
    "plt.plot(data[pd.Timestamp('2020-01-01'):]['vaccine'])"
   ]
  },
  {
   "cell_type": "code",
   "execution_count": 10,
   "metadata": {},
   "outputs": [
    {
     "data": {
      "text/html": [
       "<div>\n",
       "<style scoped>\n",
       "    .dataframe tbody tr th:only-of-type {\n",
       "        vertical-align: middle;\n",
       "    }\n",
       "\n",
       "    .dataframe tbody tr th {\n",
       "        vertical-align: top;\n",
       "    }\n",
       "\n",
       "    .dataframe thead th {\n",
       "        text-align: right;\n",
       "    }\n",
       "</style>\n",
       "<table border=\"1\" class=\"dataframe\">\n",
       "  <thead>\n",
       "    <tr style=\"text-align: right;\">\n",
       "      <th></th>\n",
       "      <th>healthcare</th>\n",
       "      <th>biotech</th>\n",
       "      <th>vaccine</th>\n",
       "    </tr>\n",
       "    <tr>\n",
       "      <th>Date</th>\n",
       "      <th></th>\n",
       "      <th></th>\n",
       "      <th></th>\n",
       "    </tr>\n",
       "  </thead>\n",
       "  <tbody>\n",
       "    <tr>\n",
       "      <th>2015-12-06</th>\n",
       "      <td>743.700012</td>\n",
       "      <td>3470.639893</td>\n",
       "      <td>12</td>\n",
       "    </tr>\n",
       "    <tr>\n",
       "      <th>2015-12-13</th>\n",
       "      <td>718.440002</td>\n",
       "      <td>3347.600098</td>\n",
       "      <td>12</td>\n",
       "    </tr>\n",
       "    <tr>\n",
       "      <th>2015-12-20</th>\n",
       "      <td>735.000000</td>\n",
       "      <td>3449.010010</td>\n",
       "      <td>9</td>\n",
       "    </tr>\n",
       "    <tr>\n",
       "      <th>2015-12-27</th>\n",
       "      <td>757.659973</td>\n",
       "      <td>3555.060059</td>\n",
       "      <td>9</td>\n",
       "    </tr>\n",
       "    <tr>\n",
       "      <th>2016-01-03</th>\n",
       "      <td>752.390015</td>\n",
       "      <td>3540.439941</td>\n",
       "      <td>12</td>\n",
       "    </tr>\n",
       "  </tbody>\n",
       "</table>\n",
       "</div>"
      ],
      "text/plain": [
       "            healthcare      biotech  vaccine\n",
       "Date                                        \n",
       "2015-12-06  743.700012  3470.639893       12\n",
       "2015-12-13  718.440002  3347.600098       12\n",
       "2015-12-20  735.000000  3449.010010        9\n",
       "2015-12-27  757.659973  3555.060059        9\n",
       "2016-01-03  752.390015  3540.439941       12"
      ]
     },
     "execution_count": 10,
     "metadata": {},
     "output_type": "execute_result"
    }
   ],
   "source": [
    "data.head(5)"
   ]
  },
  {
   "cell_type": "markdown",
   "metadata": {},
   "source": [
    "Let's take a look at the trends for both."
   ]
  },
  {
   "cell_type": "code",
   "execution_count": 11,
   "metadata": {},
   "outputs": [
    {
     "data": {
      "text/plain": [
       "<matplotlib.legend.Legend at 0x201e10a2fd0>"
      ]
     },
     "execution_count": 11,
     "metadata": {},
     "output_type": "execute_result"
    },
    {
     "data": {
      "image/png": "[encoded data removed]",
      "text/plain": [
       "<Figure size 432x288 with 1 Axes>"
      ]
     },
     "metadata": {
      "needs_background": "light"
     },
     "output_type": "display_data"
    }
   ],
   "source": [
    "plt.plot(data['healthcare'], label='Healthcare')\n",
    "plt.plot(data['biotech'], label='Biotech')\n",
    "plt.legend()"
   ]
  },
  {
   "cell_type": "markdown",
   "metadata": {},
   "source": [
    "It seems that **NASDAQ Healthcare** is much richer than the other one while facing wilder swings. \n",
    "\n",
    "To get a better grasp of how the both stocks fluctuate, let's compare another plot that uses standardized data."
   ]
  },
  {
   "cell_type": "code",
   "execution_count": 12,
   "metadata": {},
   "outputs": [],
   "source": [
    "def standardization(data):\n",
    "    return (data-data.min())/(data.max()-data.min())\n",
    "\n",
    "data['healthcare_std'] = standardization(data['healthcare'])\n",
    "data['biotech_std'] = standardization(data['biotech'])"
   ]
  },
  {
   "cell_type": "code",
   "execution_count": 13,
   "metadata": {},
   "outputs": [
    {
     "data": {
      "text/plain": [
       "<matplotlib.legend.Legend at 0x201e11cc970>"
      ]
     },
     "execution_count": 13,
     "metadata": {},
     "output_type": "execute_result"
    },
    {
     "data": {
      "image/png": "[encoded data removed]",
      "text/plain": [
       "<Figure size 432x288 with 1 Axes>"
      ]
     },
     "metadata": {
      "needs_background": "light"
     },
     "output_type": "display_data"
    }
   ],
   "source": [
    "plt.plot(data['healthcare_std'], label='Healthcare(std)')\n",
    "plt.plot(data['biotech_std'], label='Biotech(std)')\n",
    "plt.legend()"
   ]
  },
  {
   "cell_type": "markdown",
   "metadata": {},
   "source": [
    "Now the both trends over the past 5 years become more identical, and they seem to be in the same boat, rising and falling together."
   ]
  },
  {
   "cell_type": "code",
   "execution_count": 14,
   "metadata": {},
   "outputs": [
    {
     "data": {
      "text/plain": [
       "(0.980973808774403, 2.1135374559961756e-186)"
      ]
     },
     "execution_count": 14,
     "metadata": {},
     "output_type": "execute_result"
    }
   ],
   "source": [
    "import scipy.stats as stats\n",
    "stats.pearsonr(data['healthcare'], data['biotech'])"
   ]
  },
  {
   "cell_type": "markdown",
   "metadata": {},
   "source": [
    "## Build the models\n",
    "\n",
    "The baseline model can be concluded by the formula:\n",
    "\n",
    "$$y_{t}^{health} \\sim y_{t-1}^{health} + y_{t-4}^{health} + e$$\n",
    "\n",
    "$y_t$: Closing price of NASDAQ Healthcare at time $t$.\n",
    "\n",
    "$y_{t-4}$: Closing price of NASDAQ Healthcare at time $t-4$.\n",
    "\n",
    "We now extract the features accordingly. Because there are no features available for the first 4 rows, so they need to be dropped."
   ]
  },
  {
   "cell_type": "code",
   "execution_count": 15,
   "metadata": {},
   "outputs": [
    {
     "data": {
      "text/html": [
       "<div>\n",
       "<style scoped>\n",
       "    .dataframe tbody tr th:only-of-type {\n",
       "        vertical-align: middle;\n",
       "    }\n",
       "\n",
       "    .dataframe tbody tr th {\n",
       "        vertical-align: top;\n",
       "    }\n",
       "\n",
       "    .dataframe thead th {\n",
       "        text-align: right;\n",
       "    }\n",
       "</style>\n",
       "<table border=\"1\" class=\"dataframe\">\n",
       "  <thead>\n",
       "    <tr style=\"text-align: right;\">\n",
       "      <th></th>\n",
       "      <th>healthcare</th>\n",
       "      <th>biotech</th>\n",
       "      <th>vaccine</th>\n",
       "      <th>healthcare_std</th>\n",
       "      <th>biotech_std</th>\n",
       "      <th>healthcare.l1</th>\n",
       "      <th>biotech.l1</th>\n",
       "      <th>healthcare.l4</th>\n",
       "      <th>biotech.l4</th>\n",
       "      <th>vaccine.l1</th>\n",
       "      <th>vaccine.l4</th>\n",
       "    </tr>\n",
       "    <tr>\n",
       "      <th>Date</th>\n",
       "      <th></th>\n",
       "      <th></th>\n",
       "      <th></th>\n",
       "      <th></th>\n",
       "      <th></th>\n",
       "      <th></th>\n",
       "      <th></th>\n",
       "      <th></th>\n",
       "      <th></th>\n",
       "      <th></th>\n",
       "      <th></th>\n",
       "    </tr>\n",
       "  </thead>\n",
       "  <tbody>\n",
       "    <tr>\n",
       "      <th>2016-01-03</th>\n",
       "      <td>752.390015</td>\n",
       "      <td>3540.439941</td>\n",
       "      <td>12</td>\n",
       "      <td>0.306789</td>\n",
       "      <td>0.487119</td>\n",
       "      <td>757.659973</td>\n",
       "      <td>3555.060059</td>\n",
       "      <td>743.700012</td>\n",
       "      <td>3470.639893</td>\n",
       "      <td>9.0</td>\n",
       "      <td>12.0</td>\n",
       "    </tr>\n",
       "    <tr>\n",
       "      <th>2016-01-10</th>\n",
       "      <td>685.900024</td>\n",
       "      <td>3160.219971</td>\n",
       "      <td>12</td>\n",
       "      <td>0.182613</td>\n",
       "      <td>0.289124</td>\n",
       "      <td>752.390015</td>\n",
       "      <td>3540.439941</td>\n",
       "      <td>718.440002</td>\n",
       "      <td>3347.600098</td>\n",
       "      <td>12.0</td>\n",
       "      <td>12.0</td>\n",
       "    </tr>\n",
       "    <tr>\n",
       "      <th>2016-01-17</th>\n",
       "      <td>648.380005</td>\n",
       "      <td>2972.570068</td>\n",
       "      <td>12</td>\n",
       "      <td>0.112541</td>\n",
       "      <td>0.191408</td>\n",
       "      <td>685.900024</td>\n",
       "      <td>3160.219971</td>\n",
       "      <td>735.000000</td>\n",
       "      <td>3449.010010</td>\n",
       "      <td>12.0</td>\n",
       "      <td>9.0</td>\n",
       "    </tr>\n",
       "    <tr>\n",
       "      <th>2016-01-24</th>\n",
       "      <td>655.340027</td>\n",
       "      <td>3013.870117</td>\n",
       "      <td>13</td>\n",
       "      <td>0.125539</td>\n",
       "      <td>0.212914</td>\n",
       "      <td>648.380005</td>\n",
       "      <td>2972.570068</td>\n",
       "      <td>757.659973</td>\n",
       "      <td>3555.060059</td>\n",
       "      <td>12.0</td>\n",
       "      <td>9.0</td>\n",
       "    </tr>\n",
       "    <tr>\n",
       "      <th>2016-01-31</th>\n",
       "      <td>618.659973</td>\n",
       "      <td>2796.469971</td>\n",
       "      <td>13</td>\n",
       "      <td>0.057036</td>\n",
       "      <td>0.099706</td>\n",
       "      <td>655.340027</td>\n",
       "      <td>3013.870117</td>\n",
       "      <td>752.390015</td>\n",
       "      <td>3540.439941</td>\n",
       "      <td>13.0</td>\n",
       "      <td>12.0</td>\n",
       "    </tr>\n",
       "  </tbody>\n",
       "</table>\n",
       "</div>"
      ],
      "text/plain": [
       "            healthcare      biotech  vaccine  healthcare_std  biotech_std  \\\n",
       "Date                                                                        \n",
       "2016-01-03  752.390015  3540.439941       12        0.306789     0.487119   \n",
       "2016-01-10  685.900024  3160.219971       12        0.182613     0.289124   \n",
       "2016-01-17  648.380005  2972.570068       12        0.112541     0.191408   \n",
       "2016-01-24  655.340027  3013.870117       13        0.125539     0.212914   \n",
       "2016-01-31  618.659973  2796.469971       13        0.057036     0.099706   \n",
       "\n",
       "            healthcare.l1   biotech.l1  healthcare.l4   biotech.l4  \\\n",
       "Date                                                                 \n",
       "2016-01-03     757.659973  3555.060059     743.700012  3470.639893   \n",
       "2016-01-10     752.390015  3540.439941     718.440002  3347.600098   \n",
       "2016-01-17     685.900024  3160.219971     735.000000  3449.010010   \n",
       "2016-01-24     648.380005  2972.570068     757.659973  3555.060059   \n",
       "2016-01-31     655.340027  3013.870117     752.390015  3540.439941   \n",
       "\n",
       "            vaccine.l1  vaccine.l4  \n",
       "Date                                \n",
       "2016-01-03         9.0        12.0  \n",
       "2016-01-10        12.0        12.0  \n",
       "2016-01-17        12.0         9.0  \n",
       "2016-01-24        12.0         9.0  \n",
       "2016-01-31        13.0        12.0  "
      ]
     },
     "execution_count": 15,
     "metadata": {},
     "output_type": "execute_result"
    }
   ],
   "source": [
    "data['healthcare.l1'] = data['healthcare'].shift(1)\n",
    "data['biotech.l1'] = data['biotech'].shift(1)\n",
    "data['healthcare.l4'] = data['healthcare'].shift(4)\n",
    "data['biotech.l4'] = data['biotech'].shift(4)\n",
    "data['vaccine.l1'] = data['vaccine'].shift(1)\n",
    "data['vaccine.l4'] = data['vaccine'].shift(4)\n",
    "data.dropna(inplace=True)\n",
    "data.head()"
   ]
  },
  {
   "cell_type": "code",
   "execution_count": 16,
   "metadata": {},
   "outputs": [
    {
     "name": "stdout",
     "output_type": "stream",
     "text": [
      "                            OLS Regression Results                            \n",
      "==============================================================================\n",
      "Dep. Variable:             healthcare   R-squared:                       0.955\n",
      "Model:                            OLS   Adj. R-squared:                  0.955\n",
      "Method:                 Least Squares   F-statistic:                     2688.\n",
      "Date:                Fri, 11 Dec 2020   Prob (F-statistic):          1.27e-171\n",
      "Time:                        06:53:24   Log-Likelihood:                -1202.1\n",
      "No. Observations:                 257   AIC:                             2410.\n",
      "Df Residuals:                     254   BIC:                             2421.\n",
      "Df Model:                           2                                         \n",
      "Covariance Type:            nonrobust                                         \n",
      "=================================================================================\n",
      "                    coef    std err          t      P>|t|      [0.025      0.975]\n",
      "---------------------------------------------------------------------------------\n",
      "const             5.0211     11.180      0.449      0.654     -16.996      27.038\n",
      "healthcare.l1     0.9542      0.038     25.018      0.000       0.879       1.029\n",
      "healthcare.l4     0.0415      0.040      1.047      0.296      -0.037       0.120\n",
      "==============================================================================\n",
      "Omnibus:                       17.282   Durbin-Watson:                   2.036\n",
      "Prob(Omnibus):                  0.000   Jarque-Bera (JB):               35.633\n",
      "Skew:                          -0.319   Prob(JB):                     1.83e-08\n",
      "Kurtosis:                       4.709   Cond. No.                     7.69e+03\n",
      "==============================================================================\n",
      "\n",
      "Notes:\n",
      "[1] Standard Errors assume that the covariance matrix of the errors is correctly specified.\n",
      "[2] The condition number is large, 7.69e+03. This might indicate that there are\n",
      "strong multicollinearity or other numerical problems.\n"
     ]
    }
   ],
   "source": [
    "base_X = data[['healthcare.l1', 'healthcare.l4']]\n",
    "base_X = sm.add_constant(base_X)\n",
    "base_y = data['healthcare']\n",
    "base_model = sm.OLS(base_y, base_X).fit()\n",
    "print(base_model.summary())"
   ]
  },
  {
   "cell_type": "markdown",
   "metadata": {},
   "source": [
    "Old people always say that the stock market is unpredictable. We have learned the same lesson from the paper that we were asked to replicate. \n",
    "\n",
    "> As Nelson and Plosser (1982) and many subsequent authors have pointed out, it is very common for macroeconomic data to be represented as a random walk. For a random walk, the best univariate forecast for $y_t$ is simply $yt_1$. \n",
    "\n",
    "Let's see if we can gain slightly better $R^2$ by replacing $y_{t-4}^{health}$ with another feature."
   ]
  },
  {
   "cell_type": "code",
   "execution_count": 17,
   "metadata": {},
   "outputs": [
    {
     "name": "stdout",
     "output_type": "stream",
     "text": [
      "                            OLS Regression Results                            \n",
      "==============================================================================\n",
      "Dep. Variable:             healthcare   R-squared:                       0.956\n",
      "Model:                            OLS   Adj. R-squared:                  0.955\n",
      "Method:                 Least Squares   F-statistic:                     2738.\n",
      "Date:                Fri, 11 Dec 2020   Prob (F-statistic):          1.34e-172\n",
      "Time:                        06:53:24   Log-Likelihood:                -1199.8\n",
      "No. Observations:                 257   AIC:                             2406.\n",
      "Df Residuals:                     254   BIC:                             2416.\n",
      "Df Model:                           2                                         \n",
      "Covariance Type:            nonrobust                                         \n",
      "=================================================================================\n",
      "                    coef    std err          t      P>|t|      [0.025      0.975]\n",
      "---------------------------------------------------------------------------------\n",
      "const            38.2208     16.556      2.309      0.022       5.616      70.825\n",
      "healthcare.l1     1.1587      0.072     16.203      0.000       1.018       1.299\n",
      "biotech.l1       -0.0479      0.020     -2.380      0.018      -0.087      -0.008\n",
      "==============================================================================\n",
      "Omnibus:                       17.230   Durbin-Watson:                   2.057\n",
      "Prob(Omnibus):                  0.000   Jarque-Bera (JB):               37.475\n",
      "Skew:                          -0.294   Prob(JB):                     7.28e-09\n",
      "Kurtosis:                       4.776   Cond. No.                     3.58e+04\n",
      "==============================================================================\n",
      "\n",
      "Notes:\n",
      "[1] Standard Errors assume that the covariance matrix of the errors is correctly specified.\n",
      "[2] The condition number is large, 3.58e+04. This might indicate that there are\n",
      "strong multicollinearity or other numerical problems.\n"
     ]
    }
   ],
   "source": [
    "base_X = data[['healthcare.l1', 'biotech.l1']]\n",
    "base_X = sm.add_constant(base_X)\n",
    "base_y = data['healthcare']\n",
    "base_model = sm.OLS(base_y, base_X).fit()\n",
    "print(base_model.summary())"
   ]
  },
  {
   "cell_type": "code",
   "execution_count": 18,
   "metadata": {},
   "outputs": [
    {
     "name": "stdout",
     "output_type": "stream",
     "text": [
      "                            OLS Regression Results                            \n",
      "==============================================================================\n",
      "Dep. Variable:             healthcare   R-squared:                       0.955\n",
      "Model:                            OLS   Adj. R-squared:                  0.955\n",
      "Method:                 Least Squares   F-statistic:                     2687.\n",
      "Date:                Fri, 11 Dec 2020   Prob (F-statistic):          1.32e-171\n",
      "Time:                        06:53:24   Log-Likelihood:                -1202.2\n",
      "No. Observations:                 257   AIC:                             2410.\n",
      "Df Residuals:                     254   BIC:                             2421.\n",
      "Df Model:                           2                                         \n",
      "Covariance Type:            nonrobust                                         \n",
      "=================================================================================\n",
      "                    coef    std err          t      P>|t|      [0.025      0.975]\n",
      "---------------------------------------------------------------------------------\n",
      "const            15.2324     12.865      1.184      0.238     -10.103      40.568\n",
      "healthcare.l1     0.9769      0.020     49.509      0.000       0.938       1.016\n",
      "vaccine.l1        0.2152      0.212      1.013      0.312      -0.203       0.634\n",
      "==============================================================================\n",
      "Omnibus:                       18.012   Durbin-Watson:                   2.107\n",
      "Prob(Omnibus):                  0.000   Jarque-Bera (JB):               38.089\n",
      "Skew:                          -0.327   Prob(JB):                     5.36e-09\n",
      "Kurtosis:                       4.769   Cond. No.                     6.28e+03\n",
      "==============================================================================\n",
      "\n",
      "Notes:\n",
      "[1] Standard Errors assume that the covariance matrix of the errors is correctly specified.\n",
      "[2] The condition number is large, 6.28e+03. This might indicate that there are\n",
      "strong multicollinearity or other numerical problems.\n"
     ]
    }
   ],
   "source": [
    "base_X = data[['healthcare.l1', 'vaccine.l1']]\n",
    "base_X = sm.add_constant(base_X)\n",
    "base_y = data['healthcare']\n",
    "base_model = sm.OLS(base_y, base_X).fit()\n",
    "print(base_model.summary())"
   ]
  },
  {
   "cell_type": "code",
   "execution_count": 19,
   "metadata": {},
   "outputs": [
    {
     "name": "stdout",
     "output_type": "stream",
     "text": [
      "                            OLS Regression Results                            \n",
      "==============================================================================\n",
      "Dep. Variable:             healthcare   R-squared:                       0.956\n",
      "Model:                            OLS   Adj. R-squared:                  0.955\n",
      "Method:                 Least Squares   F-statistic:                     1822.\n",
      "Date:                Fri, 11 Dec 2020   Prob (F-statistic):          6.32e-171\n",
      "Time:                        06:53:24   Log-Likelihood:                -1199.6\n",
      "No. Observations:                 257   AIC:                             2407.\n",
      "Df Residuals:                     253   BIC:                             2421.\n",
      "Df Model:                           3                                         \n",
      "Covariance Type:            nonrobust                                         \n",
      "=================================================================================\n",
      "                    coef    std err          t      P>|t|      [0.025      0.975]\n",
      "---------------------------------------------------------------------------------\n",
      "const            41.6369     17.343      2.401      0.017       7.482      75.792\n",
      "healthcare.l1     1.1418      0.076     15.046      0.000       0.992       1.291\n",
      "biotech.l1       -0.0458      0.020     -2.249      0.025      -0.086      -0.006\n",
      "vaccine.l1        0.1426      0.213      0.669      0.504      -0.277       0.563\n",
      "==============================================================================\n",
      "Omnibus:                       19.720   Durbin-Watson:                   2.061\n",
      "Prob(Omnibus):                  0.000   Jarque-Bera (JB):               43.638\n",
      "Skew:                          -0.350   Prob(JB):                     3.34e-10\n",
      "Kurtosis:                       4.894   Cond. No.                     3.75e+04\n",
      "==============================================================================\n",
      "\n",
      "Notes:\n",
      "[1] Standard Errors assume that the covariance matrix of the errors is correctly specified.\n",
      "[2] The condition number is large, 3.75e+04. This might indicate that there are\n",
      "strong multicollinearity or other numerical problems.\n"
     ]
    }
   ],
   "source": [
    "base_X = data[['healthcare.l1', 'biotech.l1', 'vaccine.l1']]\n",
    "base_X = sm.add_constant(base_X)\n",
    "base_y = data['healthcare']\n",
    "base_model = sm.OLS(base_y, base_X).fit()\n",
    "print(base_model.summary())"
   ]
  },
  {
   "cell_type": "markdown",
   "metadata": {},
   "source": [
    "We have tried NASDAQ Biotechnology index, Google Trends on \"Vaccine\", and both of the new features. A surprising find is that, in the long run (in our case, 5 years), only NASDAQ Biotechnology index brings tiny improvement to the models with convincing p-value. However, Google Trends is likely to make no contribution to the models."
   ]
  },
  {
   "cell_type": "markdown",
   "metadata": {},
   "source": [
    "## A different direction: COVID-19 \n",
    "\n",
    "It's time to scale our scope to this extraordinary year. One of the most significant event has changed the lives of countless millions of people. COVID-19 is still rife and must have caused unfathomable imfluence over the global economics. \n",
    "\n",
    "There is no doubt that the most iconic data about COVID-19 is the number of new cases for each day in each area. In order to explore the changes of stock market as far as possible, we utilize the COVID-19 data that comes from the European Union and focus on the new cases in USA."
   ]
  },
  {
   "cell_type": "code",
   "execution_count": 20,
   "metadata": {},
   "outputs": [],
   "source": [
    "df_cases = pd.read_csv(DATA_DIR + 'covid.csv')\n",
    "df_us_covid = df_cases[df_cases['location'] == 'United States'] \n",
    "df_us_covid.set_index('date', inplace=True)\n",
    "df_us_covid.fillna(0)\n",
    "df_us_covid.index = pd.to_datetime(df_us_covid.index)\n",
    "df_cases_weekly = df_us_covid.groupby(pd.Grouper(freq='1w')).sum()"
   ]
  },
  {
   "cell_type": "markdown",
   "metadata": {},
   "source": [
    "After preprocessing, we get the relevant data for each week:"
   ]
  },
  {
   "cell_type": "code",
   "execution_count": 21,
   "metadata": {},
   "outputs": [
    {
     "data": {
      "text/html": [
       "<div>\n",
       "<style scoped>\n",
       "    .dataframe tbody tr th:only-of-type {\n",
       "        vertical-align: middle;\n",
       "    }\n",
       "\n",
       "    .dataframe tbody tr th {\n",
       "        vertical-align: top;\n",
       "    }\n",
       "\n",
       "    .dataframe thead th {\n",
       "        text-align: right;\n",
       "    }\n",
       "</style>\n",
       "<table border=\"1\" class=\"dataframe\">\n",
       "  <thead>\n",
       "    <tr style=\"text-align: right;\">\n",
       "      <th></th>\n",
       "      <th>total_cases</th>\n",
       "      <th>new_cases</th>\n",
       "      <th>new_cases_smoothed</th>\n",
       "      <th>total_deaths</th>\n",
       "      <th>new_deaths</th>\n",
       "      <th>new_deaths_smoothed</th>\n",
       "      <th>total_cases_per_million</th>\n",
       "      <th>new_cases_per_million</th>\n",
       "      <th>new_cases_smoothed_per_million</th>\n",
       "      <th>total_deaths_per_million</th>\n",
       "      <th>...</th>\n",
       "      <th>gdp_per_capita</th>\n",
       "      <th>extreme_poverty</th>\n",
       "      <th>cardiovasc_death_rate</th>\n",
       "      <th>diabetes_prevalence</th>\n",
       "      <th>female_smokers</th>\n",
       "      <th>male_smokers</th>\n",
       "      <th>handwashing_facilities</th>\n",
       "      <th>hospital_beds_per_thousand</th>\n",
       "      <th>life_expectancy</th>\n",
       "      <th>human_development_index</th>\n",
       "    </tr>\n",
       "    <tr>\n",
       "      <th>date</th>\n",
       "      <th></th>\n",
       "      <th></th>\n",
       "      <th></th>\n",
       "      <th></th>\n",
       "      <th></th>\n",
       "      <th></th>\n",
       "      <th></th>\n",
       "      <th></th>\n",
       "      <th></th>\n",
       "      <th></th>\n",
       "      <th></th>\n",
       "      <th></th>\n",
       "      <th></th>\n",
       "      <th></th>\n",
       "      <th></th>\n",
       "      <th></th>\n",
       "      <th></th>\n",
       "      <th></th>\n",
       "      <th></th>\n",
       "      <th></th>\n",
       "      <th></th>\n",
       "    </tr>\n",
       "  </thead>\n",
       "  <tbody>\n",
       "    <tr>\n",
       "      <th>2020-11-08</th>\n",
       "      <td>67554757.0</td>\n",
       "      <td>800873.0</td>\n",
       "      <td>698590.571</td>\n",
       "      <td>1650021.0</td>\n",
       "      <td>7020.0</td>\n",
       "      <td>6591.856</td>\n",
       "      <td>204091.288</td>\n",
       "      <td>2419.537</td>\n",
       "      <td>2110.529</td>\n",
       "      <td>4984.917</td>\n",
       "      <td>...</td>\n",
       "      <td>379578.122</td>\n",
       "      <td>8.4</td>\n",
       "      <td>1057.623</td>\n",
       "      <td>75.53</td>\n",
       "      <td>133.7</td>\n",
       "      <td>172.2</td>\n",
       "      <td>0.0</td>\n",
       "      <td>19.39</td>\n",
       "      <td>552.02</td>\n",
       "      <td>6.468</td>\n",
       "    </tr>\n",
       "    <tr>\n",
       "      <th>2020-11-15</th>\n",
       "      <td>74106406.0</td>\n",
       "      <td>1043959.0</td>\n",
       "      <td>935949.857</td>\n",
       "      <td>1701506.0</td>\n",
       "      <td>7737.0</td>\n",
       "      <td>7355.001</td>\n",
       "      <td>223884.633</td>\n",
       "      <td>3153.929</td>\n",
       "      <td>2827.620</td>\n",
       "      <td>5140.461</td>\n",
       "      <td>...</td>\n",
       "      <td>379578.122</td>\n",
       "      <td>8.4</td>\n",
       "      <td>1057.623</td>\n",
       "      <td>75.53</td>\n",
       "      <td>133.7</td>\n",
       "      <td>172.2</td>\n",
       "      <td>0.0</td>\n",
       "      <td>19.39</td>\n",
       "      <td>552.02</td>\n",
       "      <td>6.468</td>\n",
       "    </tr>\n",
       "    <tr>\n",
       "      <th>2020-11-22</th>\n",
       "      <td>82132943.0</td>\n",
       "      <td>1193362.0</td>\n",
       "      <td>1146648.144</td>\n",
       "      <td>1766317.0</td>\n",
       "      <td>10577.0</td>\n",
       "      <td>9258.714</td>\n",
       "      <td>248133.795</td>\n",
       "      <td>3605.295</td>\n",
       "      <td>3464.168</td>\n",
       "      <td>5336.262</td>\n",
       "      <td>...</td>\n",
       "      <td>379578.122</td>\n",
       "      <td>8.4</td>\n",
       "      <td>1057.623</td>\n",
       "      <td>75.53</td>\n",
       "      <td>133.7</td>\n",
       "      <td>172.2</td>\n",
       "      <td>0.0</td>\n",
       "      <td>19.39</td>\n",
       "      <td>552.02</td>\n",
       "      <td>6.468</td>\n",
       "    </tr>\n",
       "    <tr>\n",
       "      <th>2020-11-29</th>\n",
       "      <td>90382596.0</td>\n",
       "      <td>1136507.0</td>\n",
       "      <td>1178521.858</td>\n",
       "      <td>1841167.0</td>\n",
       "      <td>10004.0</td>\n",
       "      <td>10692.857</td>\n",
       "      <td>273057.018</td>\n",
       "      <td>3433.527</td>\n",
       "      <td>3560.460</td>\n",
       "      <td>5562.393</td>\n",
       "      <td>...</td>\n",
       "      <td>379578.122</td>\n",
       "      <td>8.4</td>\n",
       "      <td>1057.623</td>\n",
       "      <td>75.53</td>\n",
       "      <td>133.7</td>\n",
       "      <td>172.2</td>\n",
       "      <td>0.0</td>\n",
       "      <td>19.39</td>\n",
       "      <td>552.02</td>\n",
       "      <td>6.468</td>\n",
       "    </tr>\n",
       "    <tr>\n",
       "      <th>2020-12-06</th>\n",
       "      <td>84273368.0</td>\n",
       "      <td>1197967.0</td>\n",
       "      <td>1039163.143</td>\n",
       "      <td>1648576.0</td>\n",
       "      <td>14313.0</td>\n",
       "      <td>10611.715</td>\n",
       "      <td>254600.284</td>\n",
       "      <td>3619.207</td>\n",
       "      <td>3139.441</td>\n",
       "      <td>4980.552</td>\n",
       "      <td>...</td>\n",
       "      <td>325352.676</td>\n",
       "      <td>7.2</td>\n",
       "      <td>906.534</td>\n",
       "      <td>64.74</td>\n",
       "      <td>114.6</td>\n",
       "      <td>147.6</td>\n",
       "      <td>0.0</td>\n",
       "      <td>16.62</td>\n",
       "      <td>473.16</td>\n",
       "      <td>5.544</td>\n",
       "    </tr>\n",
       "  </tbody>\n",
       "</table>\n",
       "<p>5 rows × 45 columns</p>\n",
       "</div>"
      ],
      "text/plain": [
       "            total_cases  new_cases  new_cases_smoothed  total_deaths  \\\n",
       "date                                                                   \n",
       "2020-11-08   67554757.0   800873.0          698590.571     1650021.0   \n",
       "2020-11-15   74106406.0  1043959.0          935949.857     1701506.0   \n",
       "2020-11-22   82132943.0  1193362.0         1146648.144     1766317.0   \n",
       "2020-11-29   90382596.0  1136507.0         1178521.858     1841167.0   \n",
       "2020-12-06   84273368.0  1197967.0         1039163.143     1648576.0   \n",
       "\n",
       "            new_deaths  new_deaths_smoothed  total_cases_per_million  \\\n",
       "date                                                                   \n",
       "2020-11-08      7020.0             6591.856               204091.288   \n",
       "2020-11-15      7737.0             7355.001               223884.633   \n",
       "2020-11-22     10577.0             9258.714               248133.795   \n",
       "2020-11-29     10004.0            10692.857               273057.018   \n",
       "2020-12-06     14313.0            10611.715               254600.284   \n",
       "\n",
       "            new_cases_per_million  new_cases_smoothed_per_million  \\\n",
       "date                                                                \n",
       "2020-11-08               2419.537                        2110.529   \n",
       "2020-11-15               3153.929                        2827.620   \n",
       "2020-11-22               3605.295                        3464.168   \n",
       "2020-11-29               3433.527                        3560.460   \n",
       "2020-12-06               3619.207                        3139.441   \n",
       "\n",
       "            total_deaths_per_million  ...  gdp_per_capita  extreme_poverty  \\\n",
       "date                                  ...                                    \n",
       "2020-11-08                  4984.917  ...      379578.122              8.4   \n",
       "2020-11-15                  5140.461  ...      379578.122              8.4   \n",
       "2020-11-22                  5336.262  ...      379578.122              8.4   \n",
       "2020-11-29                  5562.393  ...      379578.122              8.4   \n",
       "2020-12-06                  4980.552  ...      325352.676              7.2   \n",
       "\n",
       "            cardiovasc_death_rate  diabetes_prevalence  female_smokers  \\\n",
       "date                                                                     \n",
       "2020-11-08               1057.623                75.53           133.7   \n",
       "2020-11-15               1057.623                75.53           133.7   \n",
       "2020-11-22               1057.623                75.53           133.7   \n",
       "2020-11-29               1057.623                75.53           133.7   \n",
       "2020-12-06                906.534                64.74           114.6   \n",
       "\n",
       "            male_smokers  handwashing_facilities  hospital_beds_per_thousand  \\\n",
       "date                                                                           \n",
       "2020-11-08         172.2                     0.0                       19.39   \n",
       "2020-11-15         172.2                     0.0                       19.39   \n",
       "2020-11-22         172.2                     0.0                       19.39   \n",
       "2020-11-29         172.2                     0.0                       19.39   \n",
       "2020-12-06         147.6                     0.0                       16.62   \n",
       "\n",
       "            life_expectancy  human_development_index  \n",
       "date                                                  \n",
       "2020-11-08           552.02                    6.468  \n",
       "2020-11-15           552.02                    6.468  \n",
       "2020-11-22           552.02                    6.468  \n",
       "2020-11-29           552.02                    6.468  \n",
       "2020-12-06           473.16                    5.544  \n",
       "\n",
       "[5 rows x 45 columns]"
      ]
     },
     "execution_count": 21,
     "metadata": {},
     "output_type": "execute_result"
    }
   ],
   "source": [
    "df_cases_weekly.tail()"
   ]
  },
  {
   "cell_type": "markdown",
   "metadata": {},
   "source": [
    "Now integrate and filter the data in 2020."
   ]
  },
  {
   "cell_type": "code",
   "execution_count": 22,
   "metadata": {},
   "outputs": [],
   "source": [
    "data['new_cases'] = df_cases_weekly['new_cases']\n",
    "data['new_deaths'] = df_cases_weekly['new_deaths']\n",
    "data_2020 = data.dropna()"
   ]
  },
  {
   "cell_type": "code",
   "execution_count": 23,
   "metadata": {},
   "outputs": [
    {
     "data": {
      "text/plain": [
       "[<matplotlib.lines.Line2D at 0x201e17952b0>]"
      ]
     },
     "execution_count": 23,
     "metadata": {},
     "output_type": "execute_result"
    },
    {
     "data": {
      "image/png": "[encoded data removed]",
      "text/plain": [
       "<Figure size 432x288 with 1 Axes>"
      ]
     },
     "metadata": {
      "needs_background": "light"
     },
     "output_type": "display_data"
    }
   ],
   "source": [
    "plt.plot(standardization(df_cases_weekly['new_deaths']))\n",
    "plt.plot(standardization(df_cases_weekly['new_cases']))"
   ]
  },
  {
   "cell_type": "markdown",
   "metadata": {},
   "source": [
    "Another round of traing using data in 2020."
   ]
  },
  {
   "cell_type": "code",
   "execution_count": 24,
   "metadata": {},
   "outputs": [
    {
     "name": "stdout",
     "output_type": "stream",
     "text": [
      "                            OLS Regression Results                            \n",
      "==============================================================================\n",
      "Dep. Variable:             healthcare   R-squared:                       0.830\n",
      "Model:                            OLS   Adj. R-squared:                  0.826\n",
      "Method:                 Least Squares   F-statistic:                     210.0\n",
      "Date:                Fri, 11 Dec 2020   Prob (F-statistic):           3.76e-18\n",
      "Time:                        06:53:24   Log-Likelihood:                -229.49\n",
      "No. Observations:                  45   AIC:                             463.0\n",
      "Df Residuals:                      43   BIC:                             466.6\n",
      "Df Model:                           1                                         \n",
      "Covariance Type:            nonrobust                                         \n",
      "=================================================================================\n",
      "                    coef    std err          t      P>|t|      [0.025      0.975]\n",
      "---------------------------------------------------------------------------------\n",
      "const            68.8500     63.037      1.092      0.281     -58.277     195.977\n",
      "healthcare.l1     0.9337      0.064     14.490      0.000       0.804       1.064\n",
      "==============================================================================\n",
      "Omnibus:                        3.943   Durbin-Watson:                   2.071\n",
      "Prob(Omnibus):                  0.139   Jarque-Bera (JB):                2.794\n",
      "Skew:                          -0.551   Prob(JB):                        0.247\n",
      "Kurtosis:                       3.526   Cond. No.                     1.02e+04\n",
      "==============================================================================\n",
      "\n",
      "Notes:\n",
      "[1] Standard Errors assume that the covariance matrix of the errors is correctly specified.\n",
      "[2] The condition number is large, 1.02e+04. This might indicate that there are\n",
      "strong multicollinearity or other numerical problems.\n"
     ]
    }
   ],
   "source": [
    "base_X = data_2020[['healthcare.l1']]\n",
    "base_X = sm.add_constant(base_X)\n",
    "base_y = data_2020['healthcare']\n",
    "base_model = sm.OLS(base_y, base_X).fit()\n",
    "print(base_model.summary())"
   ]
  },
  {
   "cell_type": "code",
   "execution_count": 25,
   "metadata": {},
   "outputs": [
    {
     "name": "stdout",
     "output_type": "stream",
     "text": [
      "                            OLS Regression Results                            \n",
      "==============================================================================\n",
      "Dep. Variable:             healthcare   R-squared:                       0.830\n",
      "Model:                            OLS   Adj. R-squared:                  0.822\n",
      "Method:                 Least Squares   F-statistic:                     102.6\n",
      "Date:                Fri, 11 Dec 2020   Prob (F-statistic):           6.87e-17\n",
      "Time:                        06:53:24   Log-Likelihood:                -229.48\n",
      "No. Observations:                  45   AIC:                             465.0\n",
      "Df Residuals:                      42   BIC:                             470.4\n",
      "Df Model:                           2                                         \n",
      "Covariance Type:            nonrobust                                         \n",
      "=================================================================================\n",
      "                    coef    std err          t      P>|t|      [0.025      0.975]\n",
      "---------------------------------------------------------------------------------\n",
      "const            68.6639     63.816      1.076      0.288     -60.122     197.450\n",
      "healthcare.l1     0.9354      0.068     13.659      0.000       0.797       1.074\n",
      "vaccine.l1       -0.0384      0.457     -0.084      0.933      -0.960       0.883\n",
      "==============================================================================\n",
      "Omnibus:                        3.769   Durbin-Watson:                   2.066\n",
      "Prob(Omnibus):                  0.152   Jarque-Bera (JB):                2.652\n",
      "Skew:                          -0.543   Prob(JB):                        0.265\n",
      "Kurtosis:                       3.485   Cond. No.                     1.02e+04\n",
      "==============================================================================\n",
      "\n",
      "Notes:\n",
      "[1] Standard Errors assume that the covariance matrix of the errors is correctly specified.\n",
      "[2] The condition number is large, 1.02e+04. This might indicate that there are\n",
      "strong multicollinearity or other numerical problems.\n"
     ]
    }
   ],
   "source": [
    "base_X = data_2020[['healthcare.l1', 'vaccine.l1']]\n",
    "base_X = sm.add_constant(base_X)\n",
    "base_y = data_2020['healthcare']\n",
    "base_model = sm.OLS(base_y, base_X).fit()\n",
    "print(base_model.summary())"
   ]
  },
  {
   "cell_type": "code",
   "execution_count": 26,
   "metadata": {},
   "outputs": [
    {
     "name": "stdout",
     "output_type": "stream",
     "text": [
      "                            OLS Regression Results                            \n",
      "==============================================================================\n",
      "Dep. Variable:             healthcare   R-squared:                       0.849\n",
      "Model:                            OLS   Adj. R-squared:                  0.841\n",
      "Method:                 Least Squares   F-statistic:                     117.6\n",
      "Date:                Fri, 11 Dec 2020   Prob (F-statistic):           6.14e-18\n",
      "Time:                        06:53:24   Log-Likelihood:                -226.89\n",
      "No. Observations:                  45   AIC:                             459.8\n",
      "Df Residuals:                      42   BIC:                             465.2\n",
      "Df Model:                           2                                         \n",
      "Covariance Type:            nonrobust                                         \n",
      "=================================================================================\n",
      "                    coef    std err          t      P>|t|      [0.025      0.975]\n",
      "---------------------------------------------------------------------------------\n",
      "const           163.1948     73.222      2.229      0.031      15.427     310.963\n",
      "healthcare.l1     0.8183      0.080     10.241      0.000       0.657       0.980\n",
      "new_cases      6.059e-05   2.68e-05      2.264      0.029    6.59e-06       0.000\n",
      "==============================================================================\n",
      "Omnibus:                        5.143   Durbin-Watson:                   2.063\n",
      "Prob(Omnibus):                  0.076   Jarque-Bera (JB):                3.919\n",
      "Skew:                          -0.655   Prob(JB):                        0.141\n",
      "Kurtosis:                       3.611   Cond. No.                     5.18e+06\n",
      "==============================================================================\n",
      "\n",
      "Notes:\n",
      "[1] Standard Errors assume that the covariance matrix of the errors is correctly specified.\n",
      "[2] The condition number is large, 5.18e+06. This might indicate that there are\n",
      "strong multicollinearity or other numerical problems.\n"
     ]
    }
   ],
   "source": [
    "base_X = data_2020[['healthcare.l1', 'new_cases']]\n",
    "base_X = sm.add_constant(base_X)\n",
    "base_y = data_2020['healthcare']\n",
    "base_model = sm.OLS(base_y, base_X).fit()\n",
    "print(base_model.summary())"
   ]
  },
  {
   "cell_type": "code",
   "execution_count": 27,
   "metadata": {},
   "outputs": [
    {
     "name": "stdout",
     "output_type": "stream",
     "text": [
      "                            OLS Regression Results                            \n",
      "==============================================================================\n",
      "Dep. Variable:             healthcare   R-squared:                       0.854\n",
      "Model:                            OLS   Adj. R-squared:                  0.847\n",
      "Method:                 Least Squares   F-statistic:                     122.4\n",
      "Date:                Fri, 11 Dec 2020   Prob (F-statistic):           3.00e-18\n",
      "Time:                        06:53:24   Log-Likelihood:                -226.13\n",
      "No. Observations:                  45   AIC:                             458.3\n",
      "Df Residuals:                      42   BIC:                             463.7\n",
      "Df Model:                           2                                         \n",
      "Covariance Type:            nonrobust                                         \n",
      "=================================================================================\n",
      "                    coef    std err          t      P>|t|      [0.025      0.975]\n",
      "---------------------------------------------------------------------------------\n",
      "const            57.4146     59.360      0.967      0.339     -62.379     177.208\n",
      "healthcare.l1     0.9234      0.061     15.228      0.000       0.801       1.046\n",
      "new_deaths        0.0036      0.001      2.600      0.013       0.001       0.006\n",
      "==============================================================================\n",
      "Omnibus:                        0.358   Durbin-Watson:                   2.369\n",
      "Prob(Omnibus):                  0.836   Jarque-Bera (JB):                0.216\n",
      "Skew:                          -0.166   Prob(JB):                        0.898\n",
      "Kurtosis:                       2.925   Cond. No.                     7.58e+04\n",
      "==============================================================================\n",
      "\n",
      "Notes:\n",
      "[1] Standard Errors assume that the covariance matrix of the errors is correctly specified.\n",
      "[2] The condition number is large, 7.58e+04. This might indicate that there are\n",
      "strong multicollinearity or other numerical problems.\n"
     ]
    }
   ],
   "source": [
    "base_X = data_2020[['healthcare.l1', 'new_deaths']]\n",
    "base_X = sm.add_constant(base_X)\n",
    "base_y = data_2020['healthcare']\n",
    "base_model = sm.OLS(base_y, base_X).fit()\n",
    "print(base_model.summary())"
   ]
  },
  {
   "cell_type": "code",
   "execution_count": 28,
   "metadata": {},
   "outputs": [
    {
     "data": {
      "text/plain": [
       "DatetimeIndex(['2020-01-26', '2020-02-02', '2020-02-09', '2020-02-16',\n",
       "               '2020-02-23', '2020-03-01', '2020-03-08', '2020-03-15',\n",
       "               '2020-03-22', '2020-03-29', '2020-04-05', '2020-04-12',\n",
       "               '2020-04-19', '2020-04-26', '2020-05-03', '2020-05-10',\n",
       "               '2020-05-17', '2020-05-24', '2020-05-31', '2020-06-07',\n",
       "               '2020-06-14', '2020-06-21', '2020-06-28', '2020-07-05',\n",
       "               '2020-07-12', '2020-07-19', '2020-07-26', '2020-08-02',\n",
       "               '2020-08-09', '2020-08-16', '2020-08-23', '2020-08-30',\n",
       "               '2020-09-06', '2020-09-13', '2020-09-20', '2020-09-27',\n",
       "               '2020-10-04', '2020-10-11', '2020-10-18', '2020-10-25',\n",
       "               '2020-11-01', '2020-11-08', '2020-11-15', '2020-11-22',\n",
       "               '2020-11-29'],\n",
       "              dtype='datetime64[ns]', name='Date', freq=None)"
      ]
     },
     "execution_count": 28,
     "metadata": {},
     "output_type": "execute_result"
    }
   ],
   "source": [
    "data_2020.index"
   ]
  },
  {
   "cell_type": "code",
   "execution_count": 29,
   "metadata": {},
   "outputs": [],
   "source": [
    "start_date = pd.Timestamp('2020-05-31')\n",
    "start_index = data_2020.index.tolist().index(start_date)\n",
    "\n",
    "base = [-1.0] * start_index\n",
    "trends = [-1.0] * start_index\n",
    "cases = [-1.0] * start_index\n",
    "deaths = [-1.0] * start_index\n",
    "\n",
    "### Traing for out-sample forecasting. Here we use sklearn lib. \n",
    "out_base_model = LinearRegression()\n",
    "out_trends_model = LinearRegression()\n",
    "out_cases_model = LinearRegression()\n",
    "out_deaths_model = LinearRegression()\n",
    "\n",
    "label = 'healthcare'\n",
    "base_features = ['healthcare.l1']\n",
    "trends_features = ['healthcare.l1', 'vaccine']\n",
    "cases_features = ['healthcare.l1', 'new_cases']\n",
    "deaths_features = ['healthcare.l1', 'new_deaths']"
   ]
  },
  {
   "cell_type": "code",
   "execution_count": 30,
   "metadata": {},
   "outputs": [],
   "source": [
    "# As the rolling window become broader, more data can be used for trainig. \n",
    "for i in range(start_index, len(data_2020)):\n",
    "    # Base model traing and predicting.\n",
    "    out_base_model.fit(data_2020[:i][base_features], data_2020[:i][label])\n",
    "    base_pred = out_base_model.predict([data_2020.iloc[i][base_features]])\n",
    "    base.append(base_pred[0])\n",
    "\n",
    "    # Trends model training and predicting.\n",
    "    out_trends_model.fit(data_2020[:i][trends_features], data_2020[:i][label])\n",
    "    trends_pred = out_trends_model.predict([data_2020.iloc[i][trends_features]])\n",
    "    trends.append(trends_pred[0])\n",
    "    \n",
    "    out_cases_model.fit(data_2020[:i][cases_features], data_2020[:i][label])\n",
    "    cases_pred = out_cases_model.predict([data_2020.iloc[i][cases_features]])\n",
    "    cases.append(cases_pred[0])\n",
    "    \n",
    "    out_deaths_model.fit(data_2020[:i][deaths_features], data_2020[:i][label])\n",
    "    deaths_pred = out_deaths_model.predict([data_2020.iloc[i][deaths_features]])\n",
    "    deaths.append(deaths_pred[0])"
   ]
  },
  {
   "cell_type": "code",
   "execution_count": 31,
   "metadata": {},
   "outputs": [
    {
     "name": "stderr",
     "output_type": "stream",
     "text": [
      "<ipython-input-31-165be2807c78>:1: SettingWithCopyWarning: \n",
      "A value is trying to be set on a copy of a slice from a DataFrame.\n",
      "Try using .loc[row_indexer,col_indexer] = value instead\n",
      "\n",
      "See the caveats in the documentation: https://pandas.pydata.org/pandas-docs/stable/user_guide/indexing.html#returning-a-view-versus-a-copy\n",
      "  data_2020['base'] = base\n",
      "<ipython-input-31-165be2807c78>:2: SettingWithCopyWarning: \n",
      "A value is trying to be set on a copy of a slice from a DataFrame.\n",
      "Try using .loc[row_indexer,col_indexer] = value instead\n",
      "\n",
      "See the caveats in the documentation: https://pandas.pydata.org/pandas-docs/stable/user_guide/indexing.html#returning-a-view-versus-a-copy\n",
      "  data_2020['trends'] = trends\n",
      "<ipython-input-31-165be2807c78>:3: SettingWithCopyWarning: \n",
      "A value is trying to be set on a copy of a slice from a DataFrame.\n",
      "Try using .loc[row_indexer,col_indexer] = value instead\n",
      "\n",
      "See the caveats in the documentation: https://pandas.pydata.org/pandas-docs/stable/user_guide/indexing.html#returning-a-view-versus-a-copy\n",
      "  data_2020['cases'] = cases\n",
      "<ipython-input-31-165be2807c78>:4: SettingWithCopyWarning: \n",
      "A value is trying to be set on a copy of a slice from a DataFrame.\n",
      "Try using .loc[row_indexer,col_indexer] = value instead\n",
      "\n",
      "See the caveats in the documentation: https://pandas.pydata.org/pandas-docs/stable/user_guide/indexing.html#returning-a-view-versus-a-copy\n",
      "  data_2020['deaths'] = deaths\n"
     ]
    }
   ],
   "source": [
    "data_2020['base'] = base\n",
    "data_2020['trends'] = trends\n",
    "data_2020['cases'] = cases\n",
    "data_2020['deaths'] = deaths"
   ]
  },
  {
   "cell_type": "code",
   "execution_count": 32,
   "metadata": {},
   "outputs": [
    {
     "data": {
      "text/plain": [
       "<matplotlib.legend.Legend at 0x201e14bd0d0>"
      ]
     },
     "execution_count": 32,
     "metadata": {},
     "output_type": "execute_result"
    },
    {
     "data": {
      "image/png": "[encoded data removed]",
      "text/plain": [
       "<Figure size 432x288 with 1 Axes>"
      ]
     },
     "metadata": {
      "needs_background": "light"
     },
     "output_type": "display_data"
    }
   ],
   "source": [
    "plt.plot(data_2020[start_date:]['healthcare'], label='healthcare')\n",
    "plt.plot(data_2020[start_date:]['base'], label='base')\n",
    "plt.plot(data_2020[start_date:]['trends'], label='trends')\n",
    "plt.plot(data_2020[start_date:]['cases'], '--', label='cases')\n",
    "plt.plot(data_2020[start_date:]['deaths'], '--', label='deaths')\n",
    "plt.legend()"
   ]
  },
  {
   "cell_type": "code",
   "execution_count": 33,
   "metadata": {},
   "outputs": [
    {
     "name": "stdout",
     "output_type": "stream",
     "text": [
      "26.698202347410877\n",
      "26.875632352230404\n",
      "29.177626715240848\n",
      "26.11392238731168\n"
     ]
    }
   ],
   "source": [
    "result = data_2020[start_date:]\n",
    "base_mae = sum(abs(result['base'] - result[label]))/len(result[label])\n",
    "trends_mae = sum(abs(result['trends'] - result[label]))/len(result[label])\n",
    "cases_mae = sum(abs(result['cases'] - result[label]))/len(result[label])\n",
    "deaths_mae = sum(abs(result['deaths'] - result[label]))/len(result[label])\n",
    "print(base_mae)\n",
    "print(trends_mae)\n",
    "print(cases_mae)\n",
    "print(deaths_mae)"
   ]
  },
  {
   "cell_type": "code",
   "execution_count": 34,
   "metadata": {},
   "outputs": [
    {
     "name": "stderr",
     "output_type": "stream",
     "text": [
      "D:\\miniconda\\envs\\ada\\lib\\site-packages\\IPython\\core\\interactiveshell.py:3145: DtypeWarning: Columns (2,3) have mixed types.Specify dtype option on import or set low_memory=False.\n",
      "  has_raised = await self.run_ast_nodes(code_ast.body, cell_name,\n"
     ]
    }
   ],
   "source": [
    "df_gov = pd.read_csv(DATA_DIR + 'OxCGRT_latest.csv')\n",
    "df_gov_us = df_gov[df_gov['CountryName'] == 'United States']"
   ]
  },
  {
   "cell_type": "code",
   "execution_count": 35,
   "metadata": {},
   "outputs": [
    {
     "data": {
      "text/plain": [
       "array([nan, 'Alaska', 'Alabama', 'Arkansas', 'Arizona', 'California',\n",
       "       'Colorado', 'Connecticut', 'Washington DC', 'Delaware', 'Florida',\n",
       "       'Georgia', 'Hawaii', 'Iowa', 'Idaho', 'Illinois', 'Indiana',\n",
       "       'Kansas', 'Kentucky', 'Louisiana', 'Massachusetts', 'Maryland',\n",
       "       'Maine', 'Michigan', 'Minnesota', 'Missouri', 'Mississippi',\n",
       "       'Montana', 'North Carolina', 'North Dakota', 'Nebraska',\n",
       "       'New Hampshire', 'New Jersey', 'New Mexico', 'Nevada', 'New York',\n",
       "       'Ohio', 'Oklahoma', 'Oregon', 'Pennsylvania', 'Rhode Island',\n",
       "       'South Carolina', 'South Dakota', 'Tennessee', 'Texas', 'Utah',\n",
       "       'Virginia', 'Virgin Islands', 'Vermont', 'Washington', 'Wisconsin',\n",
       "       'West Virginia', 'Wyoming'], dtype=object)"
      ]
     },
     "execution_count": 35,
     "metadata": {},
     "output_type": "execute_result"
    }
   ],
   "source": [
    "df_gov_us['RegionName'].unique()"
   ]
  },
  {
   "cell_type": "code",
   "execution_count": 36,
   "metadata": {},
   "outputs": [],
   "source": [
    "data_gov = df_gov_us[df_gov_us['RegionName'] == 'New York']\n",
    "data_gov.set_index('Date', inplace=True)\n",
    "data_gov.index = pd.to_datetime(data_gov.index, format=\"%Y%m%d\")"
   ]
  },
  {
   "cell_type": "code",
   "execution_count": 37,
   "metadata": {},
   "outputs": [
    {
     "name": "stdout",
     "output_type": "stream",
     "text": [
      "<class 'pandas.core.frame.DataFrame'>\n",
      "DatetimeIndex: 344 entries, 2020-01-01 to 2020-12-09\n",
      "Data columns (total 48 columns):\n",
      " #   Column                                 Non-Null Count  Dtype  \n",
      "---  ------                                 --------------  -----  \n",
      " 0   CountryName                            344 non-null    object \n",
      " 1   CountryCode                            344 non-null    object \n",
      " 2   RegionName                             344 non-null    object \n",
      " 3   RegionCode                             344 non-null    object \n",
      " 4   Jurisdiction                           344 non-null    object \n",
      " 5   C1_School closing                      343 non-null    float64\n",
      " 6   C1_Flag                                272 non-null    float64\n",
      " 7   C2_Workplace closing                   343 non-null    float64\n",
      " 8   C2_Flag                                275 non-null    float64\n",
      " 9   C3_Cancel public events                343 non-null    float64\n",
      " 10  C3_Flag                                272 non-null    float64\n",
      " 11  C4_Restrictions on gatherings          343 non-null    float64\n",
      " 12  C4_Flag                                271 non-null    float64\n",
      " 13  C5_Close public transport              343 non-null    float64\n",
      " 14  C5_Flag                                275 non-null    float64\n",
      " 15  C6_Stay at home requirements           343 non-null    float64\n",
      " 16  C6_Flag                                275 non-null    float64\n",
      " 17  C7_Restrictions on internal movement   343 non-null    float64\n",
      " 18  C7_Flag                                268 non-null    float64\n",
      " 19  C8_International travel controls       343 non-null    float64\n",
      " 20  E1_Income support                      343 non-null    float64\n",
      " 21  E1_Flag                                267 non-null    float64\n",
      " 22  E2_Debt/contract relief                343 non-null    float64\n",
      " 23  E3_Fiscal measures                     335 non-null    float64\n",
      " 24  E4_International support               335 non-null    float64\n",
      " 25  H1_Public information campaigns        343 non-null    float64\n",
      " 26  H1_Flag                                313 non-null    float64\n",
      " 27  H2_Testing policy                      343 non-null    float64\n",
      " 28  H3_Contact tracing                     343 non-null    float64\n",
      " 29  H4_Emergency investment in healthcare  335 non-null    float64\n",
      " 30  H5_Investment in vaccines              335 non-null    float64\n",
      " 31  H6_Facial Coverings                    343 non-null    float64\n",
      " 32  H6_Flag                                252 non-null    float64\n",
      " 33  H7_Vaccination policy                  7 non-null      float64\n",
      " 34  H7_Flag                                0 non-null      float64\n",
      " 35  M1_Wildcard                            0 non-null      float64\n",
      " 36  ConfirmedCases                         322 non-null    float64\n",
      " 37  ConfirmedDeaths                        322 non-null    float64\n",
      " 38  StringencyIndex                        343 non-null    float64\n",
      " 39  StringencyIndexForDisplay              343 non-null    float64\n",
      " 40  StringencyLegacyIndex                  343 non-null    float64\n",
      " 41  StringencyLegacyIndexForDisplay        343 non-null    float64\n",
      " 42  GovernmentResponseIndex                343 non-null    float64\n",
      " 43  GovernmentResponseIndexForDisplay      343 non-null    float64\n",
      " 44  ContainmentHealthIndex                 343 non-null    float64\n",
      " 45  ContainmentHealthIndexForDisplay       343 non-null    float64\n",
      " 46  EconomicSupportIndex                   343 non-null    float64\n",
      " 47  EconomicSupportIndexForDisplay         343 non-null    float64\n",
      "dtypes: float64(43), object(5)\n",
      "memory usage: 131.7+ KB\n"
     ]
    }
   ],
   "source": [
    "data_gov.info()"
   ]
  },
  {
   "cell_type": "code",
   "execution_count": 38,
   "metadata": {},
   "outputs": [
    {
     "data": {
      "text/plain": [
       "[<matplotlib.lines.Line2D at 0x201e1ee0d00>]"
      ]
     },
     "execution_count": 38,
     "metadata": {},
     "output_type": "execute_result"
    },
    {
     "data": {
      "image/png": "[encoded data removed]",
      "text/plain": [
       "<Figure size 432x288 with 1 Axes>"
      ]
     },
     "metadata": {
      "needs_background": "light"
     },
     "output_type": "display_data"
    }
   ],
   "source": [
    "new_feature = 'GovernmentResponseIndexForDisplay'\n",
    "plt.plot(data_gov[new_feature])"
   ]
  },
  {
   "cell_type": "code",
   "execution_count": 39,
   "metadata": {},
   "outputs": [],
   "source": [
    "data_gov_weekly = data_gov.groupby(pd.Grouper(freq='1w')).max()"
   ]
  },
  {
   "cell_type": "code",
   "execution_count": 40,
   "metadata": {},
   "outputs": [
    {
     "name": "stdout",
     "output_type": "stream",
     "text": [
      "                            OLS Regression Results                            \n",
      "==============================================================================\n",
      "Dep. Variable:             healthcare   R-squared:                       0.854\n",
      "Model:                            OLS   Adj. R-squared:                  0.843\n",
      "Method:                 Least Squares   F-statistic:                     79.72\n",
      "Date:                Fri, 11 Dec 2020   Prob (F-statistic):           3.75e-17\n",
      "Time:                        06:53:25   Log-Likelihood:                -226.12\n",
      "No. Observations:                  45   AIC:                             460.2\n",
      "Df Residuals:                      41   BIC:                             467.5\n",
      "Df Model:                           3                                         \n",
      "Covariance Type:            nonrobust                                         \n",
      "=================================================================================\n",
      "                    coef    std err          t      P>|t|      [0.025      0.975]\n",
      "---------------------------------------------------------------------------------\n",
      "const           150.1545     73.650      2.039      0.048       1.415     298.894\n",
      "healthcare.l1     0.8128      0.080     10.209      0.000       0.652       0.974\n",
      "new_cases      4.892e-05   2.83e-05      1.726      0.092   -8.33e-06       0.000\n",
      "gov               0.3433      0.286      1.199      0.237      -0.235       0.922\n",
      "==============================================================================\n",
      "Omnibus:                        5.052   Durbin-Watson:                   2.156\n",
      "Prob(Omnibus):                  0.080   Jarque-Bera (JB):                3.829\n",
      "Skew:                          -0.646   Prob(JB):                        0.147\n",
      "Kurtosis:                       3.610   Cond. No.                     5.24e+06\n",
      "==============================================================================\n",
      "\n",
      "Notes:\n",
      "[1] Standard Errors assume that the covariance matrix of the errors is correctly specified.\n",
      "[2] The condition number is large, 5.24e+06. This might indicate that there are\n",
      "strong multicollinearity or other numerical problems.\n"
     ]
    },
    {
     "name": "stderr",
     "output_type": "stream",
     "text": [
      "<ipython-input-40-e46240caad00>:1: SettingWithCopyWarning: \n",
      "A value is trying to be set on a copy of a slice from a DataFrame.\n",
      "Try using .loc[row_indexer,col_indexer] = value instead\n",
      "\n",
      "See the caveats in the documentation: https://pandas.pydata.org/pandas-docs/stable/user_guide/indexing.html#returning-a-view-versus-a-copy\n",
      "  data_2020['gov'] = data_gov_weekly[new_feature]\n"
     ]
    }
   ],
   "source": [
    "data_2020['gov'] = data_gov_weekly[new_feature]\n",
    "base_X = data_2020[['healthcare.l1', 'new_cases', 'gov']]\n",
    "base_X = sm.add_constant(base_X)\n",
    "base_y = data_2020['healthcare']\n",
    "base_model = sm.OLS(base_y, base_X).fit()\n",
    "print(base_model.summary())"
   ]
  },
  {
   "cell_type": "code",
   "execution_count": 48,
   "metadata": {},
   "outputs": [
    {
     "data": {
      "text/plain": [
       "<matplotlib.legend.Legend at 0x201e4054bb0>"
      ]
     },
     "execution_count": 48,
     "metadata": {},
     "output_type": "execute_result"
    },
    {
     "data": {
      "image/png": "[encoded data removed]",
      "text/plain": [
       "<Figure size 432x288 with 1 Axes>"
      ]
     },
     "metadata": {
      "needs_background": "light"
     },
     "output_type": "display_data"
    }
   ],
   "source": [
    "plt.plot(standardization(data_2020['vaccine']), label='trends')\n",
    "plt.plot(standardization(data_2020['new_cases']), label='cases')\n",
    "plt.plot(standardization(data_2020['new_deaths']), label='deaths')\n",
    "plt.plot(standardization(data_2020['healthcare']), label='NASDAQ')\n",
    "plt.legend()"
   ]
  },
  {
   "cell_type": "code",
   "execution_count": 49,
   "metadata": {},
   "outputs": [
    {
     "data": {
      "text/plain": [
       "(0.7911772280379495, 9.920076666751437e-11)"
      ]
     },
     "execution_count": 49,
     "metadata": {},
     "output_type": "execute_result"
    }
   ],
   "source": [
    "stats.pearsonr(data_2020['vaccine'], data_2020['new_cases'])"
   ]
  },
  {
   "cell_type": "code",
   "execution_count": 50,
   "metadata": {},
   "outputs": [
    {
     "data": {
      "text/plain": [
       "(0.31105631469875267, 0.037542285092725995)"
      ]
     },
     "execution_count": 50,
     "metadata": {},
     "output_type": "execute_result"
    }
   ],
   "source": [
    "stats.pearsonr(data_2020['vaccine'], data_2020['new_deaths'])"
   ]
  },
  {
   "cell_type": "code",
   "execution_count": 51,
   "metadata": {},
   "outputs": [
    {
     "data": {
      "text/plain": [
       "(0.3688584860695151, 0.012653928732466764)"
      ]
     },
     "execution_count": 51,
     "metadata": {},
     "output_type": "execute_result"
    }
   ],
   "source": [
    "stats.pearsonr(data_2020['vaccine'], data_2020['healthcare'])"
   ]
  },
  {
   "cell_type": "code",
   "execution_count": 52,
   "metadata": {},
   "outputs": [
    {
     "data": {
      "text/plain": [
       "(0.21250621159579458, 0.16106870561899964)"
      ]
     },
     "execution_count": 52,
     "metadata": {},
     "output_type": "execute_result"
    }
   ],
   "source": [
    "stats.pearsonr(data_2020['new_deaths'], data_2020['healthcare'])"
   ]
  }
 ],
 "metadata": {
  "kernelspec": {
   "display_name": "Python [conda env:ada] *",
   "language": "python",
   "name": "conda-env-ada-py"
  },
  "language_info": {
   "codemirror_mode": {
    "name": "ipython",
    "version": 3
   },
   "file_extension": ".py",
   "mimetype": "text/x-python",
   "name": "python",
   "nbconvert_exporter": "python",
   "pygments_lexer": "ipython3",
   "version": "3.8.5"
  }
 },
 "nbformat": 4,
 "nbformat_minor": 4
}
