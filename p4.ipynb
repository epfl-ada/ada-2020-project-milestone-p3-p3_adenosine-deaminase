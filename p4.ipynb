{
 "cells": [
  {
   "cell_type": "markdown",
   "metadata": {
    "id": "fNtU_xKxFrtZ"
   },
   "source": [
    "# Predicting NASDAQ indexes during the COVID-19 pandemic"
   ]
  },
  {
   "cell_type": "markdown",
   "metadata": {
    "id": "ALTbz_GRFrta"
   },
   "source": [
    "## In the past 5 years"
   ]
  },
  {
   "cell_type": "markdown",
   "metadata": {
    "id": "DLdLp83SGzK0"
   },
   "source": [
    " ### Data preprocessing"
   ]
  },
  {
   "cell_type": "code",
   "execution_count": 2,
   "metadata": {
    "colab": {
     "base_uri": "https://localhost:8080/"
    },
    "id": "PZX0u3PDWTZM",
    "outputId": "07e4770a-4ce3-4286-f62c-63c219c14a15"
   },
   "outputs": [
    {
     "name": "stdout",
     "output_type": "stream",
     "text": [
      "Cloning into 'ada-2020-project-milestone-p3-p3_adenosine-deaminase'...\n",
      "remote: Enumerating objects: 79, done.\u001b[K\n",
      "remote: Counting objects: 100% (79/79), done.\u001b[K\n",
      "remote: Compressing objects: 100% (53/53), done.\u001b[K\n",
      "remote: Total 79 (delta 21), reused 66 (delta 15), pack-reused 0\u001b[K\n",
      "Unpacking objects: 100% (79/79), done.\n"
     ]
    }
   ],
   "source": [
    "### Data loading in Colab\n",
    "!rm -rf ./ada-2020-project-milestone-p3-p3_adenosine-deaminase/\n",
    "!git clone https://github.com/epfl-ada/ada-2020-project-milestone-p3-p3_adenosine-deaminase.git"
   ]
  },
  {
   "cell_type": "code",
   "execution_count": null,
   "metadata": {
    "id": "Eg_6WwfaFrta"
   },
   "outputs": [],
   "source": [
    "!pip install arviz==0.6.1\n",
    "!pip install pymc3==3.8\n",
    "!pip install Theano==1.0.4\n",
    "import os    \n",
    "os.environ['THEANO_FLAGS'] = 'device=cuda*'    \n",
    "import matplotlib.pyplot as plt\n",
    "import numpy as np\n",
    "import pandas as pd\n",
    "import statsmodels.api as sm\n",
    "from sklearn.linear_model import LinearRegression\n",
    "import pymc3 as pm\n",
    "import arviz\n",
    "import theano\n",
    "import theano.tensor as tt"
   ]
  },
  {
   "cell_type": "code",
   "execution_count": 4,
   "metadata": {
    "id": "KffzaupTFrtb"
   },
   "outputs": [],
   "source": [
    "### Data directory configs\n",
    "\n",
    "DATA_DIR = './ada-2020-project-milestone-p3-p3_adenosine-deaminase/data_yida/'\n",
    "DATA_2020_DIR = 'ada-2020-project-milestone-p3-p3_adenosine-deaminase/additional_data/'"
   ]
  },
  {
   "cell_type": "code",
   "execution_count": 5,
   "metadata": {
    "colab": {
     "base_uri": "https://localhost:8080/",
     "height": 203
    },
    "id": "o7mUOsWbY03T",
    "outputId": "decd8111-0c8d-4154-9b2e-9e632c46d705"
   },
   "outputs": [
    {
     "data": {
      "text/html": [
       "<div>\n",
       "<style scoped>\n",
       "    .dataframe tbody tr th:only-of-type {\n",
       "        vertical-align: middle;\n",
       "    }\n",
       "\n",
       "    .dataframe tbody tr th {\n",
       "        vertical-align: top;\n",
       "    }\n",
       "\n",
       "    .dataframe thead th {\n",
       "        text-align: right;\n",
       "    }\n",
       "</style>\n",
       "<table border=\"1\" class=\"dataframe\">\n",
       "  <thead>\n",
       "    <tr style=\"text-align: right;\">\n",
       "      <th></th>\n",
       "      <th>Date</th>\n",
       "      <th>Open</th>\n",
       "      <th>High</th>\n",
       "      <th>Low</th>\n",
       "      <th>Close</th>\n",
       "      <th>Adj Close</th>\n",
       "      <th>Volume</th>\n",
       "    </tr>\n",
       "  </thead>\n",
       "  <tbody>\n",
       "    <tr>\n",
       "      <th>257</th>\n",
       "      <td>2020-11-02</td>\n",
       "      <td>1023.380005</td>\n",
       "      <td>1100.969971</td>\n",
       "      <td>1003.500000</td>\n",
       "      <td>1087.619995</td>\n",
       "      <td>1087.619995</td>\n",
       "      <td>5046800</td>\n",
       "    </tr>\n",
       "    <tr>\n",
       "      <th>258</th>\n",
       "      <td>2020-11-09</td>\n",
       "      <td>1099.530029</td>\n",
       "      <td>1106.780029</td>\n",
       "      <td>1065.349976</td>\n",
       "      <td>1104.359985</td>\n",
       "      <td>1104.359985</td>\n",
       "      <td>6324500</td>\n",
       "    </tr>\n",
       "    <tr>\n",
       "      <th>259</th>\n",
       "      <td>2020-11-16</td>\n",
       "      <td>1111.469971</td>\n",
       "      <td>1111.489990</td>\n",
       "      <td>1078.869995</td>\n",
       "      <td>1091.459961</td>\n",
       "      <td>1091.459961</td>\n",
       "      <td>5446500</td>\n",
       "    </tr>\n",
       "    <tr>\n",
       "      <th>260</th>\n",
       "      <td>2020-11-23</td>\n",
       "      <td>1098.770020</td>\n",
       "      <td>1123.569946</td>\n",
       "      <td>1088.209961</td>\n",
       "      <td>1123.569946</td>\n",
       "      <td>1123.569946</td>\n",
       "      <td>3373000</td>\n",
       "    </tr>\n",
       "    <tr>\n",
       "      <th>261</th>\n",
       "      <td>2020-11-30</td>\n",
       "      <td>1132.060059</td>\n",
       "      <td>1135.439941</td>\n",
       "      <td>1116.579956</td>\n",
       "      <td>1135.010010</td>\n",
       "      <td>1135.010010</td>\n",
       "      <td>3571800</td>\n",
       "    </tr>\n",
       "  </tbody>\n",
       "</table>\n",
       "</div>"
      ],
      "text/plain": [
       "           Date         Open         High  ...        Close    Adj Close   Volume\n",
       "257  2020-11-02  1023.380005  1100.969971  ...  1087.619995  1087.619995  5046800\n",
       "258  2020-11-09  1099.530029  1106.780029  ...  1104.359985  1104.359985  6324500\n",
       "259  2020-11-16  1111.469971  1111.489990  ...  1091.459961  1091.459961  5446500\n",
       "260  2020-11-23  1098.770020  1123.569946  ...  1123.569946  1123.569946  3373000\n",
       "261  2020-11-30  1132.060059  1135.439941  ...  1135.010010  1135.010010  3571800\n",
       "\n",
       "[5 rows x 7 columns]"
      ]
     },
     "execution_count": 5,
     "metadata": {
      "tags": []
     },
     "output_type": "execute_result"
    }
   ],
   "source": [
    "df_healthcare = pd.read_csv(DATA_DIR + 'IXHC.csv')\n",
    "df_biotech = pd.read_csv(DATA_DIR + 'NBI.csv')\n",
    "df_healthcare.tail()"
   ]
  },
  {
   "cell_type": "markdown",
   "metadata": {
    "id": "9p6_bJoBFrtb"
   },
   "source": [
    "Our datasets include stock indexes from 2015/12/01 to 2020/12/01.\n",
    "\n",
    "The names of columns are quite staightforward. Here we take **NASDAQ HealthCare** as an example:\n",
    "+ Date: the first day of every week.\n",
    "+ Open: the opening price in each week.\n",
    "+ High: the highest price in each week.\n",
    "+ Low: the lowest price in each week.\n",
    "+ Close: the closing price in each week. To be more specific, closing prices on every Friday.\n",
    "\n",
    "It's noted that **Date** is the first day of the weekly summary rather than the last day and that is the first issue. Besides, as we can observe, 2020-11-30 is the first day of the week so the last row of **NASDAQ HealthCare** dataframe is just the summary of prices for two days (2020-11-30 and 2020/12/01). It's safe to drop it."
   ]
  },
  {
   "cell_type": "code",
   "execution_count": 6,
   "metadata": {
    "id": "tzujTMNgFrtc"
   },
   "outputs": [],
   "source": [
    "df_healthcare['Date'] = pd.to_datetime(df_healthcare['Date'])\n",
    "df_healthcare['Date'] = df_healthcare['Date'] + pd.Timedelta('6d')\n",
    "df_healthcare.set_index('Date', inplace=True)\n",
    "df_healthcare = df_healthcare[0:-1]"
   ]
  },
  {
   "cell_type": "markdown",
   "metadata": {
    "id": "nvMTOh1GFrtc"
   },
   "source": [
    "Now the **NASDAQ HealthCare** dateset is exactly what we want:"
   ]
  },
  {
   "cell_type": "code",
   "execution_count": 7,
   "metadata": {
    "colab": {
     "base_uri": "https://localhost:8080/",
     "height": 234
    },
    "id": "6puYOEj9Frtc",
    "outputId": "56a28559-fd72-497b-c1ea-b1e55349fa0a"
   },
   "outputs": [
    {
     "data": {
      "text/html": [
       "<div>\n",
       "<style scoped>\n",
       "    .dataframe tbody tr th:only-of-type {\n",
       "        vertical-align: middle;\n",
       "    }\n",
       "\n",
       "    .dataframe tbody tr th {\n",
       "        vertical-align: top;\n",
       "    }\n",
       "\n",
       "    .dataframe thead th {\n",
       "        text-align: right;\n",
       "    }\n",
       "</style>\n",
       "<table border=\"1\" class=\"dataframe\">\n",
       "  <thead>\n",
       "    <tr style=\"text-align: right;\">\n",
       "      <th></th>\n",
       "      <th>Open</th>\n",
       "      <th>High</th>\n",
       "      <th>Low</th>\n",
       "      <th>Close</th>\n",
       "      <th>Adj Close</th>\n",
       "      <th>Volume</th>\n",
       "    </tr>\n",
       "    <tr>\n",
       "      <th>Date</th>\n",
       "      <th></th>\n",
       "      <th></th>\n",
       "      <th></th>\n",
       "      <th></th>\n",
       "      <th></th>\n",
       "      <th></th>\n",
       "    </tr>\n",
       "  </thead>\n",
       "  <tbody>\n",
       "    <tr>\n",
       "      <th>2020-11-01</th>\n",
       "      <td>1059.619995</td>\n",
       "      <td>1067.189941</td>\n",
       "      <td>1003.510010</td>\n",
       "      <td>1013.820007</td>\n",
       "      <td>1013.820007</td>\n",
       "      <td>4118400</td>\n",
       "    </tr>\n",
       "    <tr>\n",
       "      <th>2020-11-08</th>\n",
       "      <td>1023.380005</td>\n",
       "      <td>1100.969971</td>\n",
       "      <td>1003.500000</td>\n",
       "      <td>1087.619995</td>\n",
       "      <td>1087.619995</td>\n",
       "      <td>5046800</td>\n",
       "    </tr>\n",
       "    <tr>\n",
       "      <th>2020-11-15</th>\n",
       "      <td>1099.530029</td>\n",
       "      <td>1106.780029</td>\n",
       "      <td>1065.349976</td>\n",
       "      <td>1104.359985</td>\n",
       "      <td>1104.359985</td>\n",
       "      <td>6324500</td>\n",
       "    </tr>\n",
       "    <tr>\n",
       "      <th>2020-11-22</th>\n",
       "      <td>1111.469971</td>\n",
       "      <td>1111.489990</td>\n",
       "      <td>1078.869995</td>\n",
       "      <td>1091.459961</td>\n",
       "      <td>1091.459961</td>\n",
       "      <td>5446500</td>\n",
       "    </tr>\n",
       "    <tr>\n",
       "      <th>2020-11-29</th>\n",
       "      <td>1098.770020</td>\n",
       "      <td>1123.569946</td>\n",
       "      <td>1088.209961</td>\n",
       "      <td>1123.569946</td>\n",
       "      <td>1123.569946</td>\n",
       "      <td>3373000</td>\n",
       "    </tr>\n",
       "  </tbody>\n",
       "</table>\n",
       "</div>"
      ],
      "text/plain": [
       "                   Open         High  ...    Adj Close   Volume\n",
       "Date                                  ...                      \n",
       "2020-11-01  1059.619995  1067.189941  ...  1013.820007  4118400\n",
       "2020-11-08  1023.380005  1100.969971  ...  1087.619995  5046800\n",
       "2020-11-15  1099.530029  1106.780029  ...  1104.359985  6324500\n",
       "2020-11-22  1111.469971  1111.489990  ...  1091.459961  5446500\n",
       "2020-11-29  1098.770020  1123.569946  ...  1123.569946  3373000\n",
       "\n",
       "[5 rows x 6 columns]"
      ]
     },
     "execution_count": 7,
     "metadata": {
      "tags": []
     },
     "output_type": "execute_result"
    }
   ],
   "source": [
    "df_healthcare.tail()"
   ]
  },
  {
   "cell_type": "markdown",
   "metadata": {
    "id": "CMAvSeIOFrtc"
   },
   "source": [
    "We do the same process again for **NASDAQ Biotechnology** dataset:"
   ]
  },
  {
   "cell_type": "code",
   "execution_count": 8,
   "metadata": {
    "colab": {
     "base_uri": "https://localhost:8080/",
     "height": 234
    },
    "id": "S96ZRWSJFrtd",
    "outputId": "6787b445-b060-4362-c5aa-31ab91b21ed2"
   },
   "outputs": [
    {
     "data": {
      "text/html": [
       "<div>\n",
       "<style scoped>\n",
       "    .dataframe tbody tr th:only-of-type {\n",
       "        vertical-align: middle;\n",
       "    }\n",
       "\n",
       "    .dataframe tbody tr th {\n",
       "        vertical-align: top;\n",
       "    }\n",
       "\n",
       "    .dataframe thead th {\n",
       "        text-align: right;\n",
       "    }\n",
       "</style>\n",
       "<table border=\"1\" class=\"dataframe\">\n",
       "  <thead>\n",
       "    <tr style=\"text-align: right;\">\n",
       "      <th></th>\n",
       "      <th>Open</th>\n",
       "      <th>High</th>\n",
       "      <th>Low</th>\n",
       "      <th>Close</th>\n",
       "      <th>Adj Close</th>\n",
       "      <th>Volume</th>\n",
       "    </tr>\n",
       "    <tr>\n",
       "      <th>Date</th>\n",
       "      <th></th>\n",
       "      <th></th>\n",
       "      <th></th>\n",
       "      <th></th>\n",
       "      <th></th>\n",
       "      <th></th>\n",
       "    </tr>\n",
       "  </thead>\n",
       "  <tbody>\n",
       "    <tr>\n",
       "      <th>2020-11-01</th>\n",
       "      <td>4252.459961</td>\n",
       "      <td>4286.129883</td>\n",
       "      <td>4054.510010</td>\n",
       "      <td>4097.970215</td>\n",
       "      <td>4097.970215</td>\n",
       "      <td>1099300</td>\n",
       "    </tr>\n",
       "    <tr>\n",
       "      <th>2020-11-08</th>\n",
       "      <td>4125.450195</td>\n",
       "      <td>4469.339844</td>\n",
       "      <td>4033.139893</td>\n",
       "      <td>4355.970215</td>\n",
       "      <td>4355.970215</td>\n",
       "      <td>1197000</td>\n",
       "    </tr>\n",
       "    <tr>\n",
       "      <th>2020-11-15</th>\n",
       "      <td>4374.060059</td>\n",
       "      <td>4446.140137</td>\n",
       "      <td>4277.850098</td>\n",
       "      <td>4436.250000</td>\n",
       "      <td>4436.250000</td>\n",
       "      <td>1014200</td>\n",
       "    </tr>\n",
       "    <tr>\n",
       "      <th>2020-11-22</th>\n",
       "      <td>4466.890137</td>\n",
       "      <td>4466.890137</td>\n",
       "      <td>4318.939941</td>\n",
       "      <td>4364.149902</td>\n",
       "      <td>4364.149902</td>\n",
       "      <td>1243900</td>\n",
       "    </tr>\n",
       "    <tr>\n",
       "      <th>2020-11-29</th>\n",
       "      <td>4395.709961</td>\n",
       "      <td>4505.310059</td>\n",
       "      <td>4342.129883</td>\n",
       "      <td>4505.310059</td>\n",
       "      <td>4505.310059</td>\n",
       "      <td>595300</td>\n",
       "    </tr>\n",
       "  </tbody>\n",
       "</table>\n",
       "</div>"
      ],
      "text/plain": [
       "                   Open         High  ...    Adj Close   Volume\n",
       "Date                                  ...                      \n",
       "2020-11-01  4252.459961  4286.129883  ...  4097.970215  1099300\n",
       "2020-11-08  4125.450195  4469.339844  ...  4355.970215  1197000\n",
       "2020-11-15  4374.060059  4446.140137  ...  4436.250000  1014200\n",
       "2020-11-22  4466.890137  4466.890137  ...  4364.149902  1243900\n",
       "2020-11-29  4395.709961  4505.310059  ...  4505.310059   595300\n",
       "\n",
       "[5 rows x 6 columns]"
      ]
     },
     "execution_count": 8,
     "metadata": {
      "tags": []
     },
     "output_type": "execute_result"
    }
   ],
   "source": [
    "df_biotech['Date'] = pd.to_datetime(df_biotech['Date'])\n",
    "df_biotech['Date'] = df_biotech['Date'] + pd.Timedelta('6d')\n",
    "df_biotech.set_index('Date', inplace=True)\n",
    "df_biotech = df_biotech[0:-1]\n",
    "df_biotech.tail()"
   ]
  },
  {
   "cell_type": "markdown",
   "metadata": {
    "id": "9tpvt0xcFrtd"
   },
   "source": [
    "Here, We process Google Trends data (also from 2015/12/01 to 2020/12/01) about topic \"Vaccine\". The tail of the result dataframe matches the previous NASDAQ data."
   ]
  },
  {
   "cell_type": "code",
   "execution_count": 9,
   "metadata": {
    "id": "Mi4DAQwKFrtd"
   },
   "outputs": [],
   "source": [
    "df_trends = pd.read_csv(DATA_DIR + 'trends_data.csv')\n",
    "df_trends.drop(labels=['Week'], axis=0, inplace=True)\n",
    "df_trends.index = pd.to_datetime(df_trends.index)\n",
    "df_trends.index.set_names('Date', inplace=True)\n",
    "df_trends.rename(columns={'Category: All categories': 'Vaccine'}, inplace=True)\n",
    "df_trends['Vaccine'] = df_trends['Vaccine'].apply(lambda x: int(x))"
   ]
  },
  {
   "cell_type": "code",
   "execution_count": 10,
   "metadata": {
    "colab": {
     "base_uri": "https://localhost:8080/",
     "height": 234
    },
    "id": "o0Pdo5ObFrtd",
    "outputId": "15874bb4-0096-4b0b-d210-eb23b86fbed8"
   },
   "outputs": [
    {
     "data": {
      "text/html": [
       "<div>\n",
       "<style scoped>\n",
       "    .dataframe tbody tr th:only-of-type {\n",
       "        vertical-align: middle;\n",
       "    }\n",
       "\n",
       "    .dataframe tbody tr th {\n",
       "        vertical-align: top;\n",
       "    }\n",
       "\n",
       "    .dataframe thead th {\n",
       "        text-align: right;\n",
       "    }\n",
       "</style>\n",
       "<table border=\"1\" class=\"dataframe\">\n",
       "  <thead>\n",
       "    <tr style=\"text-align: right;\">\n",
       "      <th></th>\n",
       "      <th>Vaccine</th>\n",
       "    </tr>\n",
       "    <tr>\n",
       "      <th>Date</th>\n",
       "      <th></th>\n",
       "    </tr>\n",
       "  </thead>\n",
       "  <tbody>\n",
       "    <tr>\n",
       "      <th>2020-11-01</th>\n",
       "      <td>27</td>\n",
       "    </tr>\n",
       "    <tr>\n",
       "      <th>2020-11-08</th>\n",
       "      <td>85</td>\n",
       "    </tr>\n",
       "    <tr>\n",
       "      <th>2020-11-15</th>\n",
       "      <td>84</td>\n",
       "    </tr>\n",
       "    <tr>\n",
       "      <th>2020-11-22</th>\n",
       "      <td>70</td>\n",
       "    </tr>\n",
       "    <tr>\n",
       "      <th>2020-11-29</th>\n",
       "      <td>100</td>\n",
       "    </tr>\n",
       "  </tbody>\n",
       "</table>\n",
       "</div>"
      ],
      "text/plain": [
       "            Vaccine\n",
       "Date               \n",
       "2020-11-01       27\n",
       "2020-11-08       85\n",
       "2020-11-15       84\n",
       "2020-11-22       70\n",
       "2020-11-29      100"
      ]
     },
     "execution_count": 10,
     "metadata": {
      "tags": []
     },
     "output_type": "execute_result"
    }
   ],
   "source": [
    "df_trends.tail()"
   ]
  },
  {
   "cell_type": "markdown",
   "metadata": {
    "id": "l7qZhAWIFrtd"
   },
   "source": [
    "After the individual processing, all three datesets share the same time index and can be merged perfectly. We first experiment with the closing prices of both stocks."
   ]
  },
  {
   "cell_type": "code",
   "execution_count": 11,
   "metadata": {
    "colab": {
     "base_uri": "https://localhost:8080/",
     "height": 234
    },
    "id": "2KHc1a0_Frtd",
    "outputId": "c81fe276-0bbd-4a6a-eb23-0cbc37c62cb1"
   },
   "outputs": [
    {
     "data": {
      "text/html": [
       "<div>\n",
       "<style scoped>\n",
       "    .dataframe tbody tr th:only-of-type {\n",
       "        vertical-align: middle;\n",
       "    }\n",
       "\n",
       "    .dataframe tbody tr th {\n",
       "        vertical-align: top;\n",
       "    }\n",
       "\n",
       "    .dataframe thead th {\n",
       "        text-align: right;\n",
       "    }\n",
       "</style>\n",
       "<table border=\"1\" class=\"dataframe\">\n",
       "  <thead>\n",
       "    <tr style=\"text-align: right;\">\n",
       "      <th></th>\n",
       "      <th>healthcare</th>\n",
       "      <th>biotech</th>\n",
       "      <th>vaccine</th>\n",
       "    </tr>\n",
       "    <tr>\n",
       "      <th>Date</th>\n",
       "      <th></th>\n",
       "      <th></th>\n",
       "      <th></th>\n",
       "    </tr>\n",
       "  </thead>\n",
       "  <tbody>\n",
       "    <tr>\n",
       "      <th>2015-12-06</th>\n",
       "      <td>743.700012</td>\n",
       "      <td>3470.639893</td>\n",
       "      <td>12</td>\n",
       "    </tr>\n",
       "    <tr>\n",
       "      <th>2015-12-13</th>\n",
       "      <td>718.440002</td>\n",
       "      <td>3347.600098</td>\n",
       "      <td>12</td>\n",
       "    </tr>\n",
       "    <tr>\n",
       "      <th>2015-12-20</th>\n",
       "      <td>735.000000</td>\n",
       "      <td>3449.010010</td>\n",
       "      <td>9</td>\n",
       "    </tr>\n",
       "    <tr>\n",
       "      <th>2015-12-27</th>\n",
       "      <td>757.659973</td>\n",
       "      <td>3555.060059</td>\n",
       "      <td>9</td>\n",
       "    </tr>\n",
       "    <tr>\n",
       "      <th>2016-01-03</th>\n",
       "      <td>752.390015</td>\n",
       "      <td>3540.439941</td>\n",
       "      <td>12</td>\n",
       "    </tr>\n",
       "  </tbody>\n",
       "</table>\n",
       "</div>"
      ],
      "text/plain": [
       "            healthcare      biotech  vaccine\n",
       "Date                                        \n",
       "2015-12-06  743.700012  3470.639893       12\n",
       "2015-12-13  718.440002  3347.600098       12\n",
       "2015-12-20  735.000000  3449.010010        9\n",
       "2015-12-27  757.659973  3555.060059        9\n",
       "2016-01-03  752.390015  3540.439941       12"
      ]
     },
     "execution_count": 11,
     "metadata": {
      "tags": []
     },
     "output_type": "execute_result"
    }
   ],
   "source": [
    "data = pd.DataFrame({'healthcare': df_healthcare['Close'], \n",
    "            'biotech': df_biotech['Close'], 'vaccine': df_trends['Vaccine']})\n",
    "data.head(5)"
   ]
  },
  {
   "cell_type": "markdown",
   "metadata": {
    "id": "cZU5DqQSFrte"
   },
   "source": [
    "Let's take a look at the trends for both."
   ]
  },
  {
   "cell_type": "code",
   "execution_count": 12,
   "metadata": {
    "colab": {
     "base_uri": "https://localhost:8080/",
     "height": 312
    },
    "id": "LJpVNXc8Frte",
    "outputId": "287c531e-2ec7-4951-95f0-dfdcd5c23ece"
   },
   "outputs": [
    {
     "data": {
      "text/plain": [
       "<matplotlib.legend.Legend at 0x7f1621aeb3c8>"
      ]
     },
     "execution_count": 12,
     "metadata": {
      "tags": []
     },
     "output_type": "execute_result"
    },
    {
     "data": {
      "image/png": "[encoded data removed]",
      "text/plain": [
       "<Figure size 432x288 with 1 Axes>"
      ]
     },
     "metadata": {
      "needs_background": "light",
      "tags": []
     },
     "output_type": "display_data"
    }
   ],
   "source": [
    "plt.plot(data['healthcare'], label='Healthcare')\n",
    "plt.plot(data['biotech'], label='Biotech')\n",
    "plt.title('NASDAQ Indexes')\n",
    "plt.xlabel('Date')\n",
    "plt.ylabel('Indexes')\n",
    "plt.legend()"
   ]
  },
  {
   "cell_type": "markdown",
   "metadata": {
    "id": "7PuOJywvFrte"
   },
   "source": [
    "It seems that **NASDAQ Healthcare** is much richer than the other one while facing wilder swings. \n",
    "\n",
    "To get a better grasp of how the both stocks fluctuate, let's compare another plot that uses standardized data."
   ]
  },
  {
   "cell_type": "code",
   "execution_count": 13,
   "metadata": {
    "id": "I5Hy_dJRFrte"
   },
   "outputs": [],
   "source": [
    "def standardization(data):\n",
    "    return (data-data.min())/(data.max()-data.min())\n",
    "\n",
    "data['healthcare_std'] = standardization(data['healthcare'])\n",
    "data['biotech_std'] = standardization(data['biotech'])"
   ]
  },
  {
   "cell_type": "code",
   "execution_count": 14,
   "metadata": {
    "colab": {
     "base_uri": "https://localhost:8080/",
     "height": 312
    },
    "id": "A2MQotw-Frte",
    "outputId": "d2d790ef-4eb4-4a41-fc9f-37a6eee375fd"
   },
   "outputs": [
    {
     "data": {
      "text/plain": [
       "<matplotlib.legend.Legend at 0x7f1621336a58>"
      ]
     },
     "execution_count": 14,
     "metadata": {
      "tags": []
     },
     "output_type": "execute_result"
    },
    {
     "data": {
      "image/png": "[encoded data removed]",
      "text/plain": [
       "<Figure size 432x288 with 1 Axes>"
      ]
     },
     "metadata": {
      "needs_background": "light",
      "tags": []
     },
     "output_type": "display_data"
    }
   ],
   "source": [
    "plt.plot(data['healthcare_std'], label='Healthcare(std)')\n",
    "plt.plot(data['biotech_std'], label='Biotech(std)')\n",
    "plt.title(\"NASDAQ Indexes - std\")\n",
    "plt.xlabel('Date')\n",
    "plt.ylabel('Indexes - std')\n",
    "plt.legend()"
   ]
  },
  {
   "cell_type": "markdown",
   "metadata": {
    "id": "wg4ZW2iOFrtf"
   },
   "source": [
    "Now the both trends over the past 5 years become more identical, and they seem to be in the same boat, rising and falling together."
   ]
  },
  {
   "cell_type": "code",
   "execution_count": 15,
   "metadata": {
    "colab": {
     "base_uri": "https://localhost:8080/"
    },
    "id": "Ho_tqJAIFrtf",
    "outputId": "970f2296-7369-49b0-fc5e-190308ede789"
   },
   "outputs": [
    {
     "data": {
      "text/plain": [
       "(0.9809738087744029, 2.113537455997617e-186)"
      ]
     },
     "execution_count": 15,
     "metadata": {
      "tags": []
     },
     "output_type": "execute_result"
    }
   ],
   "source": [
    "import scipy.stats as stats\n",
    "stats.pearsonr(data['healthcare'], data['biotech'])"
   ]
  },
  {
   "cell_type": "markdown",
   "metadata": {
    "id": "K7AFIH1OFrtf"
   },
   "source": [
    "### Build the models"
   ]
  },
  {
   "cell_type": "markdown",
   "metadata": {
    "id": "OgMbrZmUOdjE"
   },
   "source": [
    "The baseline model can be concluded by the formula:\n",
    "\n",
    "$$y_{t}^{health} \\sim y_{t-1}^{health} + y_{t-4}^{health} + e$$\n",
    "\n",
    "$y_t$: Closing price of NASDAQ Healthcare at time $t$.\n",
    "\n",
    "$y_{t-4}$: Closing price of NASDAQ Healthcare at time $t-4$.\n",
    "\n",
    "We now extract the features accordingly. Because there are no features available for the first 4 rows, so they need to be dropped."
   ]
  },
  {
   "cell_type": "code",
   "execution_count": 16,
   "metadata": {
    "colab": {
     "base_uri": "https://localhost:8080/",
     "height": 340
    },
    "id": "vEuYt0AsFrtf",
    "outputId": "ee5a3f85-6202-4de4-e5fe-89a70088409e"
   },
   "outputs": [
    {
     "data": {
      "text/html": [
       "<div>\n",
       "<style scoped>\n",
       "    .dataframe tbody tr th:only-of-type {\n",
       "        vertical-align: middle;\n",
       "    }\n",
       "\n",
       "    .dataframe tbody tr th {\n",
       "        vertical-align: top;\n",
       "    }\n",
       "\n",
       "    .dataframe thead th {\n",
       "        text-align: right;\n",
       "    }\n",
       "</style>\n",
       "<table border=\"1\" class=\"dataframe\">\n",
       "  <thead>\n",
       "    <tr style=\"text-align: right;\">\n",
       "      <th></th>\n",
       "      <th>healthcare</th>\n",
       "      <th>biotech</th>\n",
       "      <th>vaccine</th>\n",
       "      <th>healthcare_std</th>\n",
       "      <th>biotech_std</th>\n",
       "      <th>healthcare.l1</th>\n",
       "      <th>biotech.l1</th>\n",
       "      <th>healthcare.l4</th>\n",
       "      <th>biotech.l4</th>\n",
       "      <th>vaccine.l1</th>\n",
       "      <th>vaccine.l4</th>\n",
       "    </tr>\n",
       "    <tr>\n",
       "      <th>Date</th>\n",
       "      <th></th>\n",
       "      <th></th>\n",
       "      <th></th>\n",
       "      <th></th>\n",
       "      <th></th>\n",
       "      <th></th>\n",
       "      <th></th>\n",
       "      <th></th>\n",
       "      <th></th>\n",
       "      <th></th>\n",
       "      <th></th>\n",
       "    </tr>\n",
       "  </thead>\n",
       "  <tbody>\n",
       "    <tr>\n",
       "      <th>2016-01-03</th>\n",
       "      <td>752.390015</td>\n",
       "      <td>3540.439941</td>\n",
       "      <td>12</td>\n",
       "      <td>0.306789</td>\n",
       "      <td>0.487119</td>\n",
       "      <td>757.659973</td>\n",
       "      <td>3555.060059</td>\n",
       "      <td>743.700012</td>\n",
       "      <td>3470.639893</td>\n",
       "      <td>9.0</td>\n",
       "      <td>12.0</td>\n",
       "    </tr>\n",
       "    <tr>\n",
       "      <th>2016-01-10</th>\n",
       "      <td>685.900024</td>\n",
       "      <td>3160.219971</td>\n",
       "      <td>12</td>\n",
       "      <td>0.182613</td>\n",
       "      <td>0.289124</td>\n",
       "      <td>752.390015</td>\n",
       "      <td>3540.439941</td>\n",
       "      <td>718.440002</td>\n",
       "      <td>3347.600098</td>\n",
       "      <td>12.0</td>\n",
       "      <td>12.0</td>\n",
       "    </tr>\n",
       "    <tr>\n",
       "      <th>2016-01-17</th>\n",
       "      <td>648.380005</td>\n",
       "      <td>2972.570068</td>\n",
       "      <td>12</td>\n",
       "      <td>0.112541</td>\n",
       "      <td>0.191408</td>\n",
       "      <td>685.900024</td>\n",
       "      <td>3160.219971</td>\n",
       "      <td>735.000000</td>\n",
       "      <td>3449.010010</td>\n",
       "      <td>12.0</td>\n",
       "      <td>9.0</td>\n",
       "    </tr>\n",
       "    <tr>\n",
       "      <th>2016-01-24</th>\n",
       "      <td>655.340027</td>\n",
       "      <td>3013.870117</td>\n",
       "      <td>13</td>\n",
       "      <td>0.125539</td>\n",
       "      <td>0.212914</td>\n",
       "      <td>648.380005</td>\n",
       "      <td>2972.570068</td>\n",
       "      <td>757.659973</td>\n",
       "      <td>3555.060059</td>\n",
       "      <td>12.0</td>\n",
       "      <td>9.0</td>\n",
       "    </tr>\n",
       "    <tr>\n",
       "      <th>2016-01-31</th>\n",
       "      <td>618.659973</td>\n",
       "      <td>2796.469971</td>\n",
       "      <td>13</td>\n",
       "      <td>0.057036</td>\n",
       "      <td>0.099706</td>\n",
       "      <td>655.340027</td>\n",
       "      <td>3013.870117</td>\n",
       "      <td>752.390015</td>\n",
       "      <td>3540.439941</td>\n",
       "      <td>13.0</td>\n",
       "      <td>12.0</td>\n",
       "    </tr>\n",
       "  </tbody>\n",
       "</table>\n",
       "</div>"
      ],
      "text/plain": [
       "            healthcare      biotech  ...  vaccine.l1  vaccine.l4\n",
       "Date                                 ...                        \n",
       "2016-01-03  752.390015  3540.439941  ...         9.0        12.0\n",
       "2016-01-10  685.900024  3160.219971  ...        12.0        12.0\n",
       "2016-01-17  648.380005  2972.570068  ...        12.0         9.0\n",
       "2016-01-24  655.340027  3013.870117  ...        12.0         9.0\n",
       "2016-01-31  618.659973  2796.469971  ...        13.0        12.0\n",
       "\n",
       "[5 rows x 11 columns]"
      ]
     },
     "execution_count": 16,
     "metadata": {
      "tags": []
     },
     "output_type": "execute_result"
    }
   ],
   "source": [
    "# merge all stock data \n",
    "data['healthcare.l1'] = data['healthcare'].shift(1)\n",
    "data['biotech.l1'] = data['biotech'].shift(1)\n",
    "data['healthcare.l4'] = data['healthcare'].shift(4)\n",
    "data['biotech.l4'] = data['biotech'].shift(4)\n",
    "data['vaccine.l1'] = data['vaccine'].shift(1)\n",
    "data['vaccine.l4'] = data['vaccine'].shift(4)\n",
    "data.dropna(inplace=True)\n",
    "data.head()"
   ]
  },
  {
   "cell_type": "code",
   "execution_count": 17,
   "metadata": {
    "colab": {
     "base_uri": "https://localhost:8080/"
    },
    "id": "NCfRGd0JFrtf",
    "outputId": "7bcb3e98-5fd8-4883-e073-8727e902bd13"
   },
   "outputs": [
    {
     "name": "stdout",
     "output_type": "stream",
     "text": [
      "                            OLS Regression Results                            \n",
      "==============================================================================\n",
      "Dep. Variable:             healthcare   R-squared:                       0.955\n",
      "Model:                            OLS   Adj. R-squared:                  0.955\n",
      "Method:                 Least Squares   F-statistic:                     2688.\n",
      "Date:                Fri, 18 Dec 2020   Prob (F-statistic):          1.27e-171\n",
      "Time:                        20:37:43   Log-Likelihood:                -1202.1\n",
      "No. Observations:                 257   AIC:                             2410.\n",
      "Df Residuals:                     254   BIC:                             2421.\n",
      "Df Model:                           2                                         \n",
      "Covariance Type:            nonrobust                                         \n",
      "=================================================================================\n",
      "                    coef    std err          t      P>|t|      [0.025      0.975]\n",
      "---------------------------------------------------------------------------------\n",
      "const             5.0211     11.180      0.449      0.654     -16.996      27.038\n",
      "healthcare.l1     0.9542      0.038     25.018      0.000       0.879       1.029\n",
      "healthcare.l4     0.0415      0.040      1.047      0.296      -0.037       0.120\n",
      "==============================================================================\n",
      "Omnibus:                       17.282   Durbin-Watson:                   2.036\n",
      "Prob(Omnibus):                  0.000   Jarque-Bera (JB):               35.633\n",
      "Skew:                          -0.319   Prob(JB):                     1.83e-08\n",
      "Kurtosis:                       4.709   Cond. No.                     7.69e+03\n",
      "==============================================================================\n",
      "\n",
      "Warnings:\n",
      "[1] Standard Errors assume that the covariance matrix of the errors is correctly specified.\n",
      "[2] The condition number is large, 7.69e+03. This might indicate that there are\n",
      "strong multicollinearity or other numerical problems.\n"
     ]
    }
   ],
   "source": [
    "# Simple linear model using data healthcare(t-1) and healthcare(t-4)\n",
    "X = data[['healthcare.l1', 'healthcare.l4']]\n",
    "X = sm.add_constant(X)\n",
    "y = data['healthcare']\n",
    "model = sm.OLS(y, X).fit()\n",
    "print(model.summary())"
   ]
  },
  {
   "cell_type": "markdown",
   "metadata": {
    "id": "5yU-p4rsFrtf"
   },
   "source": [
    "Old people always say that the stock market is unpredictable. We have learned the same lesson from the paper that we were asked to replicate. \n",
    "\n",
    "> As Nelson and Plosser (1982) and many subsequent authors have pointed out, it is very common for macroeconomic data to be represented as a random walk. For a random walk, the best univariate forecast for $y_t$ is simply $yt_1$. \n",
    "\n",
    "Let's see if we can gain slightly better $R^2$ by replacing $y_{t-4}^{health}$ with another feature."
   ]
  },
  {
   "cell_type": "code",
   "execution_count": 18,
   "metadata": {
    "colab": {
     "base_uri": "https://localhost:8080/"
    },
    "id": "ZFHin1fdFrtg",
    "outputId": "06e57ab7-5700-4f1e-812c-b66960c554d6"
   },
   "outputs": [
    {
     "name": "stdout",
     "output_type": "stream",
     "text": [
      "                            OLS Regression Results                            \n",
      "==============================================================================\n",
      "Dep. Variable:             healthcare   R-squared:                       0.956\n",
      "Model:                            OLS   Adj. R-squared:                  0.955\n",
      "Method:                 Least Squares   F-statistic:                     2738.\n",
      "Date:                Fri, 18 Dec 2020   Prob (F-statistic):          1.34e-172\n",
      "Time:                        20:37:43   Log-Likelihood:                -1199.8\n",
      "No. Observations:                 257   AIC:                             2406.\n",
      "Df Residuals:                     254   BIC:                             2416.\n",
      "Df Model:                           2                                         \n",
      "Covariance Type:            nonrobust                                         \n",
      "=================================================================================\n",
      "                    coef    std err          t      P>|t|      [0.025      0.975]\n",
      "---------------------------------------------------------------------------------\n",
      "const            38.2208     16.556      2.309      0.022       5.616      70.825\n",
      "healthcare.l1     1.1587      0.072     16.203      0.000       1.018       1.299\n",
      "biotech.l1       -0.0479      0.020     -2.380      0.018      -0.087      -0.008\n",
      "==============================================================================\n",
      "Omnibus:                       17.230   Durbin-Watson:                   2.057\n",
      "Prob(Omnibus):                  0.000   Jarque-Bera (JB):               37.475\n",
      "Skew:                          -0.294   Prob(JB):                     7.28e-09\n",
      "Kurtosis:                       4.776   Cond. No.                     3.58e+04\n",
      "==============================================================================\n",
      "\n",
      "Warnings:\n",
      "[1] Standard Errors assume that the covariance matrix of the errors is correctly specified.\n",
      "[2] The condition number is large, 3.58e+04. This might indicate that there are\n",
      "strong multicollinearity or other numerical problems.\n"
     ]
    }
   ],
   "source": [
    "# Do the same thing with two stock indicators\n",
    "X = data[['healthcare.l1', 'biotech.l1']]\n",
    "X = sm.add_constant(X)\n",
    "y = data['healthcare']\n",
    "model = sm.OLS(y, X).fit()\n",
    "print(model.summary())"
   ]
  },
  {
   "cell_type": "code",
   "execution_count": 19,
   "metadata": {
    "colab": {
     "base_uri": "https://localhost:8080/"
    },
    "id": "k0SW58JFFrtg",
    "outputId": "ced0faee-ee4c-4483-c9f9-cb54eef0f49d"
   },
   "outputs": [
    {
     "name": "stdout",
     "output_type": "stream",
     "text": [
      "                            OLS Regression Results                            \n",
      "==============================================================================\n",
      "Dep. Variable:             healthcare   R-squared:                       0.955\n",
      "Model:                            OLS   Adj. R-squared:                  0.955\n",
      "Method:                 Least Squares   F-statistic:                     2687.\n",
      "Date:                Fri, 18 Dec 2020   Prob (F-statistic):          1.32e-171\n",
      "Time:                        20:37:43   Log-Likelihood:                -1202.2\n",
      "No. Observations:                 257   AIC:                             2410.\n",
      "Df Residuals:                     254   BIC:                             2421.\n",
      "Df Model:                           2                                         \n",
      "Covariance Type:            nonrobust                                         \n",
      "=================================================================================\n",
      "                    coef    std err          t      P>|t|      [0.025      0.975]\n",
      "---------------------------------------------------------------------------------\n",
      "const            15.2324     12.865      1.184      0.238     -10.103      40.568\n",
      "healthcare.l1     0.9769      0.020     49.509      0.000       0.938       1.016\n",
      "vaccine.l1        0.2152      0.212      1.013      0.312      -0.203       0.634\n",
      "==============================================================================\n",
      "Omnibus:                       18.012   Durbin-Watson:                   2.107\n",
      "Prob(Omnibus):                  0.000   Jarque-Bera (JB):               38.089\n",
      "Skew:                          -0.327   Prob(JB):                     5.36e-09\n",
      "Kurtosis:                       4.769   Cond. No.                     6.28e+03\n",
      "==============================================================================\n",
      "\n",
      "Warnings:\n",
      "[1] Standard Errors assume that the covariance matrix of the errors is correctly specified.\n",
      "[2] The condition number is large, 6.28e+03. This might indicate that there are\n",
      "strong multicollinearity or other numerical problems.\n"
     ]
    }
   ],
   "source": [
    "# Add google trends vaccine\n",
    "X = data[['healthcare.l1', 'vaccine.l1']]\n",
    "X = sm.add_constant(X)\n",
    "y = data['healthcare']\n",
    "model = sm.OLS(y, X).fit()\n",
    "print(model.summary())  "
   ]
  },
  {
   "cell_type": "markdown",
   "metadata": {
    "id": "OEfhc1-jFrtg"
   },
   "source": [
    "We have tried NASDAQ Biotechnology index, Google Trends on \"Vaccine\", and both of the new features. A surprising find is that, in the long run (in our case, 5 years), only NASDAQ Biotechnology index brings tiny improvement to the models with convincing p-value. However, Google Trends is likely to make no contribution to the models."
   ]
  },
  {
   "cell_type": "markdown",
   "metadata": {
    "id": "hHWJL7ukFrtg"
   },
   "source": [
    "## A different direction: COVID-19 \n",
    "\n",
    "It's time to scale our scope to this extraordinary year. One of the most significant event has changed the lives of countless millions of people. COVID-19 is still rife and must have caused unfathomable imfluence over the global economics. \n",
    "\n",
    "There is no doubt that the most iconic data about COVID-19 is the number of new cases for each day in each area. In order to explore the changes of stock market as far as possible, we utilize the COVID-19 data that comes from the European Union and focus on the new cases in USA."
   ]
  },
  {
   "cell_type": "code",
   "execution_count": 20,
   "metadata": {
    "colab": {
     "base_uri": "https://localhost:8080/",
     "height": 342
    },
    "id": "21_y7RvcFrtg",
    "outputId": "1a35572c-7527-4a1a-8f1a-ed5987039d0a"
   },
   "outputs": [
    {
     "name": "stderr",
     "output_type": "stream",
     "text": [
      "/usr/local/lib/python3.6/dist-packages/pandas/core/frame.py:4327: SettingWithCopyWarning: \n",
      "A value is trying to be set on a copy of a slice from a DataFrame\n",
      "\n",
      "See the caveats in the documentation: https://pandas.pydata.org/pandas-docs/stable/user_guide/indexing.html#returning-a-view-versus-a-copy\n",
      "  downcast=downcast,\n"
     ]
    },
    {
     "data": {
      "text/html": [
       "<div>\n",
       "<style scoped>\n",
       "    .dataframe tbody tr th:only-of-type {\n",
       "        vertical-align: middle;\n",
       "    }\n",
       "\n",
       "    .dataframe tbody tr th {\n",
       "        vertical-align: top;\n",
       "    }\n",
       "\n",
       "    .dataframe thead th {\n",
       "        text-align: right;\n",
       "    }\n",
       "</style>\n",
       "<table border=\"1\" class=\"dataframe\">\n",
       "  <thead>\n",
       "    <tr style=\"text-align: right;\">\n",
       "      <th></th>\n",
       "      <th>new_cases</th>\n",
       "      <th>new_deaths</th>\n",
       "    </tr>\n",
       "    <tr>\n",
       "      <th>date</th>\n",
       "      <th></th>\n",
       "      <th></th>\n",
       "    </tr>\n",
       "  </thead>\n",
       "  <tbody>\n",
       "    <tr>\n",
       "      <th>2020-01-22</th>\n",
       "      <td>0.0</td>\n",
       "      <td>0.0</td>\n",
       "    </tr>\n",
       "    <tr>\n",
       "      <th>2020-01-23</th>\n",
       "      <td>0.0</td>\n",
       "      <td>0.0</td>\n",
       "    </tr>\n",
       "    <tr>\n",
       "      <th>2020-01-24</th>\n",
       "      <td>1.0</td>\n",
       "      <td>0.0</td>\n",
       "    </tr>\n",
       "    <tr>\n",
       "      <th>2020-01-25</th>\n",
       "      <td>0.0</td>\n",
       "      <td>0.0</td>\n",
       "    </tr>\n",
       "    <tr>\n",
       "      <th>2020-01-26</th>\n",
       "      <td>3.0</td>\n",
       "      <td>0.0</td>\n",
       "    </tr>\n",
       "  </tbody>\n",
       "</table>\n",
       "</div>"
      ],
      "text/plain": [
       "            new_cases  new_deaths\n",
       "date                             \n",
       "2020-01-22        0.0         0.0\n",
       "2020-01-23        0.0         0.0\n",
       "2020-01-24        1.0         0.0\n",
       "2020-01-25        0.0         0.0\n",
       "2020-01-26        3.0         0.0"
      ]
     },
     "execution_count": 20,
     "metadata": {
      "tags": []
     },
     "output_type": "execute_result"
    }
   ],
   "source": [
    "# df_us_covid contains number of new cases and new deaths in USA\n",
    "df_cases = pd.read_csv(DATA_DIR + 'covid.csv')\n",
    "df_us_covid = df_cases[df_cases['location'] == 'United States'] \n",
    "df_us_covid.set_index('date', inplace=True)\n",
    "df_us_covid.fillna(0, inplace=True)\n",
    "df_us_covid.index = pd.to_datetime(df_us_covid.index)\n",
    "df_us_covid = df_us_covid[pd.Timestamp('2020-1-1'):pd.Timestamp('2020-12-1')][['new_cases', 'new_deaths']]\n",
    "df_us_covid.head()"
   ]
  },
  {
   "cell_type": "code",
   "execution_count": 21,
   "metadata": {
    "colab": {
     "base_uri": "https://localhost:8080/",
     "height": 367
    },
    "id": "08BjtZNOJQ9q",
    "outputId": "4aad6023-c772-4494-8476-4f92e1ba14de"
   },
   "outputs": [
    {
     "data": {
      "text/plain": [
       "<matplotlib.legend.Legend at 0x7f16211d7668>"
      ]
     },
     "execution_count": 21,
     "metadata": {
      "tags": []
     },
     "output_type": "execute_result"
    },
    {
     "data": {
      "image/png": "[encoded data removed]",
      "text/plain": [
       "<Figure size 720x360 with 1 Axes>"
      ]
     },
     "metadata": {
      "needs_background": "light",
      "tags": []
     },
     "output_type": "display_data"
    }
   ],
   "source": [
    "plt.figure(figsize=(10, 5))\n",
    "plt.plot(df_us_covid['new_cases'], label='new cases')\n",
    "plt.plot(df_us_covid['new_deaths'], label='new deaths')\n",
    "plt.title('US COVID-19 situation')\n",
    "plt.xlabel('Date')\n",
    "plt.ylabel('Number of people')\n",
    "plt.legend()"
   ]
  },
  {
   "cell_type": "code",
   "execution_count": 22,
   "metadata": {
    "id": "J-f9APWdLjfs"
   },
   "outputs": [],
   "source": [
    "# Because number of new cases are too large, we take logorithm of two variables\n",
    "df_us_covid['new_cases.log'] = df_us_covid['new_cases'].apply(lambda x: 0 if x == 0 else np.log(x))\n",
    "df_us_covid['new_deaths.log'] = df_us_covid['new_deaths'].apply(lambda x: 0 if x == 0 else np.log(x))"
   ]
  },
  {
   "cell_type": "code",
   "execution_count": 23,
   "metadata": {
    "colab": {
     "base_uri": "https://localhost:8080/",
     "height": 367
    },
    "id": "U9vx-SpRNVpE",
    "outputId": "55c1abe8-aeeb-4900-d556-ca089f08ac59"
   },
   "outputs": [
    {
     "data": {
      "text/plain": [
       "<matplotlib.legend.Legend at 0x7f162114bb00>"
      ]
     },
     "execution_count": 23,
     "metadata": {
      "tags": []
     },
     "output_type": "execute_result"
    },
    {
     "data": {
      "image/png": "[encoded data removed]",
      "text/plain": [
       "<Figure size 720x360 with 1 Axes>"
      ]
     },
     "metadata": {
      "needs_background": "light",
      "tags": []
     },
     "output_type": "display_data"
    }
   ],
   "source": [
    "plt.figure(figsize=(10, 5))\n",
    "plt.plot(df_us_covid['new_cases.log'], label='new cases')\n",
    "plt.plot(df_us_covid['new_deaths.log'], label='new deaths')\n",
    "plt.title('US COVID-19 situation')\n",
    "plt.xlabel('Date')\n",
    "plt.ylabel('Number of people - Log')\n",
    "plt.legend()"
   ]
  },
  {
   "cell_type": "code",
   "execution_count": 24,
   "metadata": {
    "colab": {
     "base_uri": "https://localhost:8080/",
     "height": 203
    },
    "id": "1Q-dUCsFFrth",
    "outputId": "2e7b17f2-bd7c-48fd-adfb-fb26b64f9c16"
   },
   "outputs": [
    {
     "data": {
      "text/html": [
       "<div>\n",
       "<style scoped>\n",
       "    .dataframe tbody tr th:only-of-type {\n",
       "        vertical-align: middle;\n",
       "    }\n",
       "\n",
       "    .dataframe tbody tr th {\n",
       "        vertical-align: top;\n",
       "    }\n",
       "\n",
       "    .dataframe thead th {\n",
       "        text-align: right;\n",
       "    }\n",
       "</style>\n",
       "<table border=\"1\" class=\"dataframe\">\n",
       "  <thead>\n",
       "    <tr style=\"text-align: right;\">\n",
       "      <th></th>\n",
       "      <th>Open</th>\n",
       "      <th>High</th>\n",
       "      <th>Low</th>\n",
       "      <th>Close</th>\n",
       "      <th>Adj Close</th>\n",
       "      <th>Volume</th>\n",
       "    </tr>\n",
       "  </thead>\n",
       "  <tbody>\n",
       "    <tr>\n",
       "      <th>2020-01-01</th>\n",
       "      <td>9039.459961</td>\n",
       "      <td>9093.429688</td>\n",
       "      <td>9010.889648</td>\n",
       "      <td>9092.190430</td>\n",
       "      <td>9092.190430</td>\n",
       "      <td>2.848370e+09</td>\n",
       "    </tr>\n",
       "    <tr>\n",
       "      <th>2020-01-02</th>\n",
       "      <td>9039.459961</td>\n",
       "      <td>9093.429688</td>\n",
       "      <td>9010.889648</td>\n",
       "      <td>9092.190430</td>\n",
       "      <td>9092.190430</td>\n",
       "      <td>2.848370e+09</td>\n",
       "    </tr>\n",
       "    <tr>\n",
       "      <th>2020-01-03</th>\n",
       "      <td>8976.429688</td>\n",
       "      <td>9065.759766</td>\n",
       "      <td>8976.429688</td>\n",
       "      <td>9020.769531</td>\n",
       "      <td>9020.769531</td>\n",
       "      <td>2.567400e+09</td>\n",
       "    </tr>\n",
       "    <tr>\n",
       "      <th>2020-01-04</th>\n",
       "      <td>8965.453125</td>\n",
       "      <td>9067.976563</td>\n",
       "      <td>8965.453125</td>\n",
       "      <td>9037.669596</td>\n",
       "      <td>9037.669596</td>\n",
       "      <td>2.640973e+09</td>\n",
       "    </tr>\n",
       "    <tr>\n",
       "      <th>2020-01-05</th>\n",
       "      <td>8954.476563</td>\n",
       "      <td>9070.193359</td>\n",
       "      <td>8954.476563</td>\n",
       "      <td>9054.569662</td>\n",
       "      <td>9054.569662</td>\n",
       "      <td>2.714547e+09</td>\n",
       "    </tr>\n",
       "  </tbody>\n",
       "</table>\n",
       "</div>"
      ],
      "text/plain": [
       "                   Open         High  ...    Adj Close        Volume\n",
       "2020-01-01  9039.459961  9093.429688  ...  9092.190430  2.848370e+09\n",
       "2020-01-02  9039.459961  9093.429688  ...  9092.190430  2.848370e+09\n",
       "2020-01-03  8976.429688  9065.759766  ...  9020.769531  2.567400e+09\n",
       "2020-01-04  8965.453125  9067.976563  ...  9037.669596  2.640973e+09\n",
       "2020-01-05  8954.476563  9070.193359  ...  9054.569662  2.714547e+09\n",
       "\n",
       "[5 rows x 6 columns]"
      ]
     },
     "execution_count": 24,
     "metadata": {
      "tags": []
     },
     "output_type": "execute_result"
    }
   ],
   "source": [
    "# df_ns contains complete data of NASDAQ Composite\n",
    "df_ns = pd.read_csv(DATA_2020_DIR + '^IXIC.csv')\n",
    "df_ns['Date'] = pd.to_datetime(df_ns['Date'])\n",
    "df_ns.set_index('Date', inplace=True)\n",
    "\n",
    "df_ns = df_ns.reindex(pd.date_range(start=pd.Timestamp('2020-1-1'), end=pd.Timestamp('2020-12-1'), freq='1D'))\n",
    "df_ns.iloc[0] = df_ns.iloc[1]\n",
    "df_ns.interpolate(method='linear', inplace=True)    \n",
    "df_ns.head()"
   ]
  },
  {
   "cell_type": "code",
   "execution_count": 25,
   "metadata": {
    "colab": {
     "base_uri": "https://localhost:8080/",
     "height": 340
    },
    "id": "jnsG5JL3Frth",
    "outputId": "ba670d3b-940c-4915-e9c8-c8ee30ffbaa2"
   },
   "outputs": [
    {
     "data": {
      "text/html": [
       "<div>\n",
       "<style scoped>\n",
       "    .dataframe tbody tr th:only-of-type {\n",
       "        vertical-align: middle;\n",
       "    }\n",
       "\n",
       "    .dataframe tbody tr th {\n",
       "        vertical-align: top;\n",
       "    }\n",
       "\n",
       "    .dataframe thead th {\n",
       "        text-align: right;\n",
       "    }\n",
       "</style>\n",
       "<table border=\"1\" class=\"dataframe\">\n",
       "  <thead>\n",
       "    <tr style=\"text-align: right;\">\n",
       "      <th></th>\n",
       "      <th>vaccine_world</th>\n",
       "      <th>vaccine_US</th>\n",
       "      <th>unemployment_world</th>\n",
       "      <th>unemployment_US</th>\n",
       "      <th>trump_world</th>\n",
       "      <th>trump_US</th>\n",
       "      <th>lockdown_world</th>\n",
       "      <th>lockdown_US</th>\n",
       "      <th>loan_world</th>\n",
       "      <th>loan_US</th>\n",
       "      <th>italy_world</th>\n",
       "      <th>italy_US</th>\n",
       "      <th>election_world</th>\n",
       "      <th>election_US</th>\n",
       "      <th>covid_world</th>\n",
       "      <th>covid_US</th>\n",
       "      <th>china_world</th>\n",
       "      <th>china_US</th>\n",
       "    </tr>\n",
       "    <tr>\n",
       "      <th>date</th>\n",
       "      <th></th>\n",
       "      <th></th>\n",
       "      <th></th>\n",
       "      <th></th>\n",
       "      <th></th>\n",
       "      <th></th>\n",
       "      <th></th>\n",
       "      <th></th>\n",
       "      <th></th>\n",
       "      <th></th>\n",
       "      <th></th>\n",
       "      <th></th>\n",
       "      <th></th>\n",
       "      <th></th>\n",
       "      <th></th>\n",
       "      <th></th>\n",
       "      <th></th>\n",
       "      <th></th>\n",
       "    </tr>\n",
       "  </thead>\n",
       "  <tbody>\n",
       "    <tr>\n",
       "      <th>2020-11-27</th>\n",
       "      <td>36.0</td>\n",
       "      <td>42.0</td>\n",
       "      <td>17.36</td>\n",
       "      <td>14.422222</td>\n",
       "      <td>8.0</td>\n",
       "      <td>16.0</td>\n",
       "      <td>12.923077</td>\n",
       "      <td>2.516129</td>\n",
       "      <td>60.2250</td>\n",
       "      <td>33.354839</td>\n",
       "      <td>13.575758</td>\n",
       "      <td>12.579710</td>\n",
       "      <td>0.5</td>\n",
       "      <td>0.5</td>\n",
       "      <td>43.0</td>\n",
       "      <td>45.617647</td>\n",
       "      <td>27.0</td>\n",
       "      <td>24.5</td>\n",
       "    </tr>\n",
       "    <tr>\n",
       "      <th>2020-11-28</th>\n",
       "      <td>39.0</td>\n",
       "      <td>47.0</td>\n",
       "      <td>14.26</td>\n",
       "      <td>12.455556</td>\n",
       "      <td>7.0</td>\n",
       "      <td>14.0</td>\n",
       "      <td>12.000000</td>\n",
       "      <td>4.645161</td>\n",
       "      <td>55.6625</td>\n",
       "      <td>33.354839</td>\n",
       "      <td>15.515152</td>\n",
       "      <td>14.405797</td>\n",
       "      <td>0.5</td>\n",
       "      <td>1.0</td>\n",
       "      <td>44.0</td>\n",
       "      <td>48.529412</td>\n",
       "      <td>27.6</td>\n",
       "      <td>26.0</td>\n",
       "    </tr>\n",
       "    <tr>\n",
       "      <th>2020-11-29</th>\n",
       "      <td>41.0</td>\n",
       "      <td>49.0</td>\n",
       "      <td>26.04</td>\n",
       "      <td>27.533333</td>\n",
       "      <td>7.0</td>\n",
       "      <td>13.0</td>\n",
       "      <td>11.076923</td>\n",
       "      <td>4.064516</td>\n",
       "      <td>52.9250</td>\n",
       "      <td>31.225806</td>\n",
       "      <td>15.515152</td>\n",
       "      <td>14.000000</td>\n",
       "      <td>0.5</td>\n",
       "      <td>0.5</td>\n",
       "      <td>43.0</td>\n",
       "      <td>49.500000</td>\n",
       "      <td>27.6</td>\n",
       "      <td>25.5</td>\n",
       "    </tr>\n",
       "    <tr>\n",
       "      <th>2020-11-30</th>\n",
       "      <td>48.0</td>\n",
       "      <td>61.0</td>\n",
       "      <td>31.62</td>\n",
       "      <td>30.155556</td>\n",
       "      <td>6.0</td>\n",
       "      <td>12.0</td>\n",
       "      <td>14.769231</td>\n",
       "      <td>4.064516</td>\n",
       "      <td>70.2625</td>\n",
       "      <td>42.580645</td>\n",
       "      <td>14.303030</td>\n",
       "      <td>12.782609</td>\n",
       "      <td>0.5</td>\n",
       "      <td>0.5</td>\n",
       "      <td>47.0</td>\n",
       "      <td>55.323529</td>\n",
       "      <td>28.8</td>\n",
       "      <td>28.0</td>\n",
       "    </tr>\n",
       "    <tr>\n",
       "      <th>2020-12-01</th>\n",
       "      <td>50.0</td>\n",
       "      <td>68.0</td>\n",
       "      <td>27.90</td>\n",
       "      <td>24.911111</td>\n",
       "      <td>6.0</td>\n",
       "      <td>12.0</td>\n",
       "      <td>13.846154</td>\n",
       "      <td>3.870968</td>\n",
       "      <td>72.0875</td>\n",
       "      <td>46.838710</td>\n",
       "      <td>13.818182</td>\n",
       "      <td>12.782609</td>\n",
       "      <td>0.5</td>\n",
       "      <td>0.5</td>\n",
       "      <td>47.0</td>\n",
       "      <td>55.323529</td>\n",
       "      <td>29.4</td>\n",
       "      <td>31.5</td>\n",
       "    </tr>\n",
       "  </tbody>\n",
       "</table>\n",
       "</div>"
      ],
      "text/plain": [
       "            vaccine_world  vaccine_US  ...  china_world  china_US\n",
       "date                                   ...                       \n",
       "2020-11-27           36.0        42.0  ...         27.0      24.5\n",
       "2020-11-28           39.0        47.0  ...         27.6      26.0\n",
       "2020-11-29           41.0        49.0  ...         27.6      25.5\n",
       "2020-11-30           48.0        61.0  ...         28.8      28.0\n",
       "2020-12-01           50.0        68.0  ...         29.4      31.5\n",
       "\n",
       "[5 rows x 18 columns]"
      ]
     },
     "execution_count": 25,
     "metadata": {
      "tags": []
     },
     "output_type": "execute_result"
    }
   ],
   "source": [
    "# df_gt contains all the specific google trends we think may help with the prediction\n",
    "df_gt = pd.read_csv(DATA_2020_DIR + 'google_trends.csv')\n",
    "df_gt['date'] = pd.to_datetime(df_gt['date'])\n",
    "df_gt.set_index('date', inplace=True)\n",
    "df_gt.drop(['Unnamed: 0'], axis=1, inplace=True)\n",
    "df_gt = df_gt[pd.Timestamp('2020-1-1'):pd.Timestamp('2020-12-1')]\n",
    "df_gt.tail()"
   ]
  },
  {
   "cell_type": "code",
   "execution_count": 26,
   "metadata": {
    "colab": {
     "base_uri": "https://localhost:8080/",
     "height": 340
    },
    "id": "t3oiVbf4Frth",
    "outputId": "30727691-bc04-438e-af78-e22b016e0ee0"
   },
   "outputs": [
    {
     "data": {
      "text/html": [
       "<div>\n",
       "<style scoped>\n",
       "    .dataframe tbody tr th:only-of-type {\n",
       "        vertical-align: middle;\n",
       "    }\n",
       "\n",
       "    .dataframe tbody tr th {\n",
       "        vertical-align: top;\n",
       "    }\n",
       "\n",
       "    .dataframe thead th {\n",
       "        text-align: right;\n",
       "    }\n",
       "</style>\n",
       "<table border=\"1\" class=\"dataframe\">\n",
       "  <thead>\n",
       "    <tr style=\"text-align: right;\">\n",
       "      <th></th>\n",
       "      <th>vaccine_world</th>\n",
       "      <th>vaccine_US</th>\n",
       "      <th>unemployment_world</th>\n",
       "      <th>unemployment_US</th>\n",
       "      <th>trump_world</th>\n",
       "      <th>trump_US</th>\n",
       "      <th>lockdown_world</th>\n",
       "      <th>lockdown_US</th>\n",
       "      <th>loan_world</th>\n",
       "      <th>loan_US</th>\n",
       "      <th>italy_world</th>\n",
       "      <th>italy_US</th>\n",
       "      <th>election_world</th>\n",
       "      <th>election_US</th>\n",
       "      <th>covid_world</th>\n",
       "      <th>covid_US</th>\n",
       "      <th>china_world</th>\n",
       "      <th>china_US</th>\n",
       "      <th>close</th>\n",
       "      <th>new_cases.log</th>\n",
       "      <th>new_deaths.log</th>\n",
       "      <th>close.l1</th>\n",
       "    </tr>\n",
       "    <tr>\n",
       "      <th>date</th>\n",
       "      <th></th>\n",
       "      <th></th>\n",
       "      <th></th>\n",
       "      <th></th>\n",
       "      <th></th>\n",
       "      <th></th>\n",
       "      <th></th>\n",
       "      <th></th>\n",
       "      <th></th>\n",
       "      <th></th>\n",
       "      <th></th>\n",
       "      <th></th>\n",
       "      <th></th>\n",
       "      <th></th>\n",
       "      <th></th>\n",
       "      <th></th>\n",
       "      <th></th>\n",
       "      <th></th>\n",
       "      <th></th>\n",
       "      <th></th>\n",
       "      <th></th>\n",
       "      <th></th>\n",
       "    </tr>\n",
       "  </thead>\n",
       "  <tbody>\n",
       "    <tr>\n",
       "      <th>2020-01-02</th>\n",
       "      <td>0.000000</td>\n",
       "      <td>0.0</td>\n",
       "      <td>6.0</td>\n",
       "      <td>2.0</td>\n",
       "      <td>3.913043</td>\n",
       "      <td>6.835443</td>\n",
       "      <td>0.5</td>\n",
       "      <td>0.5</td>\n",
       "      <td>52.0</td>\n",
       "      <td>26.0</td>\n",
       "      <td>15.0</td>\n",
       "      <td>17.0</td>\n",
       "      <td>0.205882</td>\n",
       "      <td>0.181818</td>\n",
       "      <td>0.477778</td>\n",
       "      <td>0.5</td>\n",
       "      <td>27.0</td>\n",
       "      <td>29.0</td>\n",
       "      <td>9092.190430</td>\n",
       "      <td>0.0</td>\n",
       "      <td>0.0</td>\n",
       "      <td>9092.190430</td>\n",
       "    </tr>\n",
       "    <tr>\n",
       "      <th>2020-01-03</th>\n",
       "      <td>0.000000</td>\n",
       "      <td>0.0</td>\n",
       "      <td>10.0</td>\n",
       "      <td>4.0</td>\n",
       "      <td>3.521739</td>\n",
       "      <td>6.075949</td>\n",
       "      <td>0.5</td>\n",
       "      <td>0.5</td>\n",
       "      <td>74.0</td>\n",
       "      <td>45.0</td>\n",
       "      <td>15.0</td>\n",
       "      <td>16.0</td>\n",
       "      <td>0.264706</td>\n",
       "      <td>0.363636</td>\n",
       "      <td>0.477778</td>\n",
       "      <td>0.5</td>\n",
       "      <td>26.0</td>\n",
       "      <td>25.0</td>\n",
       "      <td>9020.769531</td>\n",
       "      <td>0.0</td>\n",
       "      <td>0.0</td>\n",
       "      <td>9092.190430</td>\n",
       "    </tr>\n",
       "    <tr>\n",
       "      <th>2020-01-04</th>\n",
       "      <td>0.384615</td>\n",
       "      <td>0.0</td>\n",
       "      <td>9.0</td>\n",
       "      <td>4.0</td>\n",
       "      <td>12.521739</td>\n",
       "      <td>16.708861</td>\n",
       "      <td>0.5</td>\n",
       "      <td>0.5</td>\n",
       "      <td>72.0</td>\n",
       "      <td>47.0</td>\n",
       "      <td>14.0</td>\n",
       "      <td>15.0</td>\n",
       "      <td>0.411765</td>\n",
       "      <td>0.363636</td>\n",
       "      <td>0.477778</td>\n",
       "      <td>0.5</td>\n",
       "      <td>27.0</td>\n",
       "      <td>28.0</td>\n",
       "      <td>9037.669596</td>\n",
       "      <td>0.0</td>\n",
       "      <td>0.0</td>\n",
       "      <td>9020.769531</td>\n",
       "    </tr>\n",
       "    <tr>\n",
       "      <th>2020-01-05</th>\n",
       "      <td>0.000000</td>\n",
       "      <td>0.0</td>\n",
       "      <td>6.0</td>\n",
       "      <td>2.0</td>\n",
       "      <td>10.369565</td>\n",
       "      <td>15.189873</td>\n",
       "      <td>0.5</td>\n",
       "      <td>0.5</td>\n",
       "      <td>63.0</td>\n",
       "      <td>37.0</td>\n",
       "      <td>15.0</td>\n",
       "      <td>17.0</td>\n",
       "      <td>0.294118</td>\n",
       "      <td>0.318182</td>\n",
       "      <td>0.477778</td>\n",
       "      <td>0.5</td>\n",
       "      <td>27.0</td>\n",
       "      <td>28.0</td>\n",
       "      <td>9054.569662</td>\n",
       "      <td>0.0</td>\n",
       "      <td>0.0</td>\n",
       "      <td>9037.669596</td>\n",
       "    </tr>\n",
       "    <tr>\n",
       "      <th>2020-01-06</th>\n",
       "      <td>0.000000</td>\n",
       "      <td>0.0</td>\n",
       "      <td>8.0</td>\n",
       "      <td>5.0</td>\n",
       "      <td>10.369565</td>\n",
       "      <td>14.430380</td>\n",
       "      <td>0.5</td>\n",
       "      <td>0.5</td>\n",
       "      <td>61.0</td>\n",
       "      <td>33.0</td>\n",
       "      <td>16.0</td>\n",
       "      <td>18.0</td>\n",
       "      <td>0.411765</td>\n",
       "      <td>0.363636</td>\n",
       "      <td>0.477778</td>\n",
       "      <td>0.5</td>\n",
       "      <td>27.0</td>\n",
       "      <td>27.0</td>\n",
       "      <td>9071.469727</td>\n",
       "      <td>0.0</td>\n",
       "      <td>0.0</td>\n",
       "      <td>9054.569662</td>\n",
       "    </tr>\n",
       "  </tbody>\n",
       "</table>\n",
       "</div>"
      ],
      "text/plain": [
       "            vaccine_world  vaccine_US  ...  new_deaths.log     close.l1\n",
       "date                                   ...                             \n",
       "2020-01-02       0.000000         0.0  ...             0.0  9092.190430\n",
       "2020-01-03       0.000000         0.0  ...             0.0  9092.190430\n",
       "2020-01-04       0.384615         0.0  ...             0.0  9020.769531\n",
       "2020-01-05       0.000000         0.0  ...             0.0  9037.669596\n",
       "2020-01-06       0.000000         0.0  ...             0.0  9054.569662\n",
       "\n",
       "[5 rows x 22 columns]"
      ]
     },
     "execution_count": 26,
     "metadata": {
      "tags": []
     },
     "output_type": "execute_result"
    }
   ],
   "source": [
    "# data_2020 includes data_gt and close price one day before as features\n",
    "data_2020 = df_gt.copy()\n",
    "data_2020['close'] = df_ns['Close']\n",
    "data_2020[['new_cases.log', 'new_deaths.log']] = df_us_covid[['new_cases.log', 'new_deaths.log']]\n",
    "data_2020.fillna(0, inplace=True)\n",
    "\n",
    "data_2020[['close.l1', 'new_cases.log', 'new_deaths.log']] = data_2020[['close', 'new_cases.log', 'new_deaths.log']].shift(1)\n",
    "for feature in df_gt.columns:\n",
    "    data_2020[feature] = data_2020[feature].shift(1)\n",
    "\n",
    "data_2020 = data_2020.dropna()\n",
    "data_2020.head()"
   ]
  },
  {
   "cell_type": "markdown",
   "metadata": {
    "id": "HjvZCLKeFrti"
   },
   "source": [
    "After preprocessing, we get the relevant data for each week:"
   ]
  },
  {
   "cell_type": "markdown",
   "metadata": {
    "id": "ET_leBsbFrti"
   },
   "source": [
    "Now integrate and filter the data in 2020."
   ]
  },
  {
   "cell_type": "markdown",
   "metadata": {
    "id": "eOKdnct2Frti"
   },
   "source": [
    "Another round of traing using data in 2020."
   ]
  },
  {
   "cell_type": "code",
   "execution_count": 27,
   "metadata": {
    "colab": {
     "base_uri": "https://localhost:8080/"
    },
    "id": "snXB27I6Frti",
    "outputId": "95f6d711-9764-4d5d-a4db-a38afea8cf9b"
   },
   "outputs": [
    {
     "name": "stdout",
     "output_type": "stream",
     "text": [
      "                            OLS Regression Results                            \n",
      "==============================================================================\n",
      "Dep. Variable:                  close   R-squared:                       0.987\n",
      "Model:                            OLS   Adj. R-squared:                  0.987\n",
      "Method:                 Least Squares   F-statistic:                 2.539e+04\n",
      "Date:                Fri, 18 Dec 2020   Prob (F-statistic):          2.10e-316\n",
      "Time:                        20:37:44   Log-Likelihood:                -2155.8\n",
      "No. Observations:                 335   AIC:                             4316.\n",
      "Df Residuals:                     333   BIC:                             4323.\n",
      "Df Model:                           1                                         \n",
      "Covariance Type:            nonrobust                                         \n",
      "==============================================================================\n",
      "                 coef    std err          t      P>|t|      [0.025      0.975]\n",
      "------------------------------------------------------------------------------\n",
      "const         33.0091     62.961      0.524      0.600     -90.842     156.860\n",
      "close.l1       0.9977      0.006    159.330      0.000       0.985       1.010\n",
      "==============================================================================\n",
      "Omnibus:                       57.315   Durbin-Watson:                   2.296\n",
      "Prob(Omnibus):                  0.000   Jarque-Bera (JB):              294.104\n",
      "Skew:                          -0.571   Prob(JB):                     1.37e-64\n",
      "Kurtosis:                       7.446   Cond. No.                     7.66e+04\n",
      "==============================================================================\n",
      "\n",
      "Warnings:\n",
      "[1] Standard Errors assume that the covariance matrix of the errors is correctly specified.\n",
      "[2] The condition number is large, 7.66e+04. This might indicate that there are\n",
      "strong multicollinearity or other numerical problems.\n"
     ]
    }
   ],
   "source": [
    "# let's experiment with base model with only one variable namely close_l1\n",
    "label = 'close'\n",
    "base_features = ['close.l1']\n",
    "\n",
    "base_X = data_2020[base_features]\n",
    "base_X = sm.add_constant(base_X)\n",
    "base_y = data_2020[label]\n",
    "base_model = sm.OLS(base_y, base_X).fit()\n",
    "print(base_model.summary())"
   ]
  },
  {
   "cell_type": "code",
   "execution_count": 28,
   "metadata": {
    "colab": {
     "base_uri": "https://localhost:8080/"
    },
    "id": "yLtx1lKrFrti",
    "outputId": "df439101-1514-45f0-8973-5d22e9019c4d"
   },
   "outputs": [
    {
     "name": "stdout",
     "output_type": "stream",
     "text": [
      "                            OLS Regression Results                            \n",
      "==============================================================================\n",
      "Dep. Variable:                  close   R-squared:                       0.987\n",
      "Model:                            OLS   Adj. R-squared:                  0.987\n",
      "Method:                 Least Squares   F-statistic:                     8554.\n",
      "Date:                Fri, 18 Dec 2020   Prob (F-statistic):          3.43e-313\n",
      "Time:                        20:37:44   Log-Likelihood:                -2153.0\n",
      "No. Observations:                 335   AIC:                             4314.\n",
      "Df Residuals:                     331   BIC:                             4329.\n",
      "Df Model:                           3                                         \n",
      "Covariance Type:            nonrobust                                         \n",
      "==================================================================================\n",
      "                     coef    std err          t      P>|t|      [0.025      0.975]\n",
      "----------------------------------------------------------------------------------\n",
      "const             35.9230     64.633      0.556      0.579     -91.221     163.067\n",
      "close.l1           0.9943      0.007    141.089      0.000       0.980       1.008\n",
      "new_cases.log     -5.9461      8.491     -0.700      0.484     -22.650      10.758\n",
      "new_deaths.log    15.3239     12.258      1.250      0.212      -8.790      39.438\n",
      "==============================================================================\n",
      "Omnibus:                       53.755   Durbin-Watson:                   2.341\n",
      "Prob(Omnibus):                  0.000   Jarque-Bera (JB):              299.654\n",
      "Skew:                          -0.486   Prob(JB):                     8.53e-66\n",
      "Kurtosis:                       7.530   Cond. No.                     7.91e+04\n",
      "==============================================================================\n",
      "\n",
      "Warnings:\n",
      "[1] Standard Errors assume that the covariance matrix of the errors is correctly specified.\n",
      "[2] The condition number is large, 7.91e+04. This might indicate that there are\n",
      "strong multicollinearity or other numerical problems.\n"
     ]
    }
   ],
   "source": [
    "# Add two cases as features\n",
    "covid_features = ['close.l1', 'new_cases.log', 'new_deaths.log']\n",
    "\n",
    "covid_X = data_2020[covid_features]\n",
    "covid_X = sm.add_constant(covid_X)\n",
    "covid_y = data_2020[label]\n",
    "covid_model = sm.OLS(covid_y, covid_X).fit()\n",
    "print(covid_model.summary())"
   ]
  },
  {
   "cell_type": "code",
   "execution_count": 29,
   "metadata": {
    "colab": {
     "base_uri": "https://localhost:8080/"
    },
    "id": "7Xjwa-lMFrti",
    "outputId": "3914d1da-687a-4fa9-f389-7ae4cf9829eb"
   },
   "outputs": [
    {
     "name": "stdout",
     "output_type": "stream",
     "text": [
      "google trends            coef         p-value\n",
      "================================================\n",
      "vaccine_world            0.846546    0.120363\n",
      "vaccine_US               0.234911    0.706978\n",
      "unemployment_world       0.824953    0.042066\n",
      "unemployment_US          0.750846    0.047501\n",
      "trump_world              1.605104    0.072550\n",
      "trump_US                 1.444274    0.041564\n",
      "lockdown_world           1.477151    0.005298\n",
      "lockdown_US              1.481149    0.132070\n",
      "loan_world               0.683976    0.471868\n",
      "loan_US                  1.178303    0.180012\n",
      "italy_world             -1.200994    0.143381\n",
      "italy_US                -1.249507    0.092010\n",
      "election_world           1.029566    0.294740\n",
      "election_US              1.089156    0.286975\n",
      "covid_world              0.780086    0.031134\n",
      "covid_US                 0.684776    0.037480\n",
      "china_world             -0.328304    0.720592\n",
      "china_US                -1.096129    0.229030\n"
     ]
    }
   ],
   "source": [
    "# Add one google trends each time to see the effect\n",
    "print(f'google trends            coef         p-value')\n",
    "print(f'================================================')\n",
    "for feature in data_2020.columns[0:len(df_gt.columns)]:\n",
    "    features = ['close.l1', feature]\n",
    "    X = data_2020[features]\n",
    "    X = sm.add_constant(X)\n",
    "    y = data_2020[label]\n",
    "    model = sm.OLS(y, X).fit()\n",
    "    print(f'{feature:20}   {model.params[feature]:10f}  {model.pvalues[feature]:10f}')"
   ]
  },
  {
   "cell_type": "code",
   "execution_count": 30,
   "metadata": {
    "colab": {
     "base_uri": "https://localhost:8080/"
    },
    "id": "3t19H_t3OkUt",
    "outputId": "da3fb37e-8711-4171-a5cc-50a9ea950ff0"
   },
   "outputs": [
    {
     "name": "stdout",
     "output_type": "stream",
     "text": [
      "                            OLS Regression Results                            \n",
      "==============================================================================\n",
      "Dep. Variable:                  close   R-squared:                       0.988\n",
      "Model:                            OLS   Adj. R-squared:                  0.988\n",
      "Method:                 Least Squares   F-statistic:                     1417.\n",
      "Date:                Fri, 18 Dec 2020   Prob (F-statistic):          4.25e-292\n",
      "Time:                        20:37:44   Log-Likelihood:                -2136.9\n",
      "No. Observations:                 335   AIC:                             4314.\n",
      "Df Residuals:                     315   BIC:                             4390.\n",
      "Df Model:                          19                                         \n",
      "Covariance Type:            nonrobust                                         \n",
      "======================================================================================\n",
      "                         coef    std err          t      P>|t|      [0.025      0.975]\n",
      "--------------------------------------------------------------------------------------\n",
      "const                578.3019    219.925      2.630      0.009     145.594    1011.010\n",
      "vaccine_world          4.1967      1.667      2.517      0.012       0.917       7.477\n",
      "vaccine_US            -4.0367      1.832     -2.203      0.028      -7.641      -0.432\n",
      "unemployment_world     3.1971      4.294      0.745      0.457      -5.252      11.646\n",
      "unemployment_US       -3.7554      3.708     -1.013      0.312     -11.051       3.540\n",
      "trump_world          -12.3232      8.967     -1.374      0.170     -29.967       5.320\n",
      "trump_US               8.2188      5.131      1.602      0.110      -1.877      18.315\n",
      "lockdown_world         0.3241      1.136      0.285      0.776      -1.912       2.560\n",
      "lockdown_US            3.6454      1.814      2.009      0.045       0.075       7.215\n",
      "loan_world            -2.5755      2.550     -1.010      0.313      -7.592       2.441\n",
      "loan_US                1.4052      2.578      0.545      0.586      -3.666       6.477\n",
      "italy_world           -1.3798      2.848     -0.485      0.628      -6.983       4.223\n",
      "italy_US              -4.2631      2.997     -1.423      0.156     -10.160       1.633\n",
      "election_world        -3.2004     19.857     -0.161      0.872     -42.270      35.870\n",
      "election_US            8.3525     20.751      0.403      0.688     -32.475      49.180\n",
      "covid_world           -1.0515      1.983     -0.530      0.596      -4.952       2.849\n",
      "covid_US               1.6479      1.734      0.950      0.343      -1.764       5.060\n",
      "china_world            0.3292      2.146      0.153      0.878      -3.893       4.551\n",
      "china_US              -1.3604      2.205     -0.617      0.538      -5.699       2.978\n",
      "close.l1               0.9611      0.017     58.162      0.000       0.929       0.994\n",
      "==============================================================================\n",
      "Omnibus:                       47.049   Durbin-Watson:                   2.366\n",
      "Prob(Omnibus):                  0.000   Jarque-Bera (JB):              388.923\n",
      "Skew:                           0.098   Prob(JB):                     3.52e-85\n",
      "Kurtosis:                       8.275   Cond. No.                     2.75e+05\n",
      "==============================================================================\n",
      "\n",
      "Warnings:\n",
      "[1] Standard Errors assume that the covariance matrix of the errors is correctly specified.\n",
      "[2] The condition number is large, 2.75e+05. This might indicate that there are\n",
      "strong multicollinearity or other numerical problems.\n"
     ]
    }
   ],
   "source": [
    "# add all google trends\n",
    "total_features = df_gt.columns.to_list()\n",
    "total_features.append('close.l1')\n",
    "\n",
    "X = data_2020[total_features]\n",
    "X = sm.add_constant(X)\n",
    "y = data_2020[label]\n",
    "model = sm.OLS(y, X).fit()\n",
    "print(model.summary())"
   ]
  },
  {
   "cell_type": "code",
   "execution_count": 31,
   "metadata": {
    "id": "hS7Mw2hNQESb"
   },
   "outputs": [],
   "source": [
    "df_params = pd.DataFrame(model.params[1:], columns=['coef'])\n",
    "df_params['ratio'] = abs(df_params['coef'])/abs(df_params['coef']).sum() * 100"
   ]
  },
  {
   "cell_type": "code",
   "execution_count": 32,
   "metadata": {
    "colab": {
     "base_uri": "https://localhost:8080/",
     "height": 282
    },
    "id": "yWxfLnBnUJlN",
    "outputId": "83e37f13-974e-4a61-de2e-80fdc1d5536e"
   },
   "outputs": [
    {
     "data": {
      "text/plain": [
       "<BarContainer object of 19 artists>"
      ]
     },
     "execution_count": 32,
     "metadata": {
      "tags": []
     },
     "output_type": "execute_result"
    },
    {
     "data": {
      "image/png": "[encoded data removed]",
      "text/plain": [
       "<Figure size 432x288 with 1 Axes>"
      ]
     },
     "metadata": {
      "needs_background": "light",
      "tags": []
     },
     "output_type": "display_data"
    }
   ],
   "source": [
    "plt.barh(y=df_params.index, width=df_params['coef'])"
   ]
  },
  {
   "cell_type": "code",
   "execution_count": 33,
   "metadata": {
    "colab": {
     "base_uri": "https://localhost:8080/",
     "height": 922
    },
    "id": "80ZK73zcUKRP",
    "outputId": "0fe985dc-b9e5-4f59-eba0-6eeae1b004b1"
   },
   "outputs": [
    {
     "data": {
      "text/plain": [
       "([<matplotlib.patches.Wedge at 0x7f16211810f0>,\n",
       "  <matplotlib.patches.Wedge at 0x7f16211a23c8>,\n",
       "  <matplotlib.patches.Wedge at 0x7f16211a2748>,\n",
       "  <matplotlib.patches.Wedge at 0x7f16211a2b70>,\n",
       "  <matplotlib.patches.Wedge at 0x7f1621ba36a0>,\n",
       "  <matplotlib.patches.Wedge at 0x7f162113ac50>,\n",
       "  <matplotlib.patches.Wedge at 0x7f162113a940>,\n",
       "  <matplotlib.patches.Wedge at 0x7f1621113208>,\n",
       "  <matplotlib.patches.Wedge at 0x7f162131fda0>,\n",
       "  <matplotlib.patches.Wedge at 0x7f16212e3dd8>,\n",
       "  <matplotlib.patches.Wedge at 0x7f1621195ef0>,\n",
       "  <matplotlib.patches.Wedge at 0x7f162130e898>,\n",
       "  <matplotlib.patches.Wedge at 0x7f16210b25f8>,\n",
       "  <matplotlib.patches.Wedge at 0x7f16210b24a8>,\n",
       "  <matplotlib.patches.Wedge at 0x7f16210bcb00>,\n",
       "  <matplotlib.patches.Wedge at 0x7f16210bc6d8>,\n",
       "  <matplotlib.patches.Wedge at 0x7f16210b8240>,\n",
       "  <matplotlib.patches.Wedge at 0x7f16210b89e8>,\n",
       "  <matplotlib.patches.Wedge at 0x7f1621119128>],\n",
       " [Text(1.078272854747086, 0.2175491914845233, 'vaccine_world'),\n",
       "  Text(0.9142387109268283, 0.6116923895577349, 'vaccine_US'),\n",
       "  Text(0.6551196643804644, 0.8836391940956602, 'unemployment_world'),\n",
       "  Text(0.3336258427807277, 1.0481859553671045, 'unemployment_US'),\n",
       "  Text(-0.48301395656777313, 0.988280080625298, 'trump_world'),\n",
       "  Text(-1.088974385395347, 0.1553537510098365, 'trump_US'),\n",
       "  Text(-1.0620142772931511, -0.286575775015102, 'lockdown_world'),\n",
       "  Text(-0.9895928691036263, -0.48031859574583774, 'lockdown_US'),\n",
       "  Text(-0.8071111119612393, -0.7473765135115579, 'loan_world'),\n",
       "  Text(-0.6524648412070772, -0.8856012821742208, 'loan_US'),\n",
       "  Text(-0.530117539380784, -0.9638336964647289, 'italy_world'),\n",
       "  Text(-0.25629618950349403, -1.069725321400774, 'italy_US'),\n",
       "  Text(0.13048327526678635, -1.0922335441084257, 'election_world'),\n",
       "  Text(0.6804570334817688, -0.8642790206786181, 'election_US'),\n",
       "  Text(0.9867655910485312, -0.4861004714281224, 'covid_world'),\n",
       "  Text(1.040763229040559, -0.3561065866802646, 'covid_US'),\n",
       "  Text(1.069539642166069, -0.2570699395792464, 'china_world'),\n",
       "  Text(1.0866890451320321, -0.17060750039207698, 'china_US'),\n",
       "  Text(1.0988568257022, -0.050136579537152094, 'close.l1')])"
      ]
     },
     "execution_count": 33,
     "metadata": {
      "tags": []
     },
     "output_type": "execute_result"
    },
    {
     "data": {
      "image/png": "[encoded data removed]",
      "text/plain": [
       "<Figure size 432x288 with 1 Axes>"
      ]
     },
     "metadata": {
      "tags": []
     },
     "output_type": "display_data"
    }
   ],
   "source": [
    "plt.pie(df_params['ratio'], labels=df_params.index)"
   ]
  },
  {
   "cell_type": "code",
   "execution_count": 34,
   "metadata": {
    "id": "O5pVjpr-Frtj"
   },
   "outputs": [],
   "source": [
    "start_date = pd.Timestamp('2020-2-1')\n",
    "start_index = data_2020.index.tolist().index(start_date)\n",
    "\n",
    "base = [-1.0] * start_index\n",
    "cases = [-1.0] * start_index\n",
    "deaths = [-1.0] * start_index\n",
    "\n",
    "### Traing for out-sample forecasting. Here we use sklearn library. \n",
    "out_base_model = LinearRegression()\n",
    "out_cases_model = LinearRegression()\n",
    "out_deaths_model = LinearRegression()\n",
    "\n",
    "cases_features = ['close.l1', 'new_cases.log']\n",
    "deaths_features = ['close.l1', 'new_deaths.log']"
   ]
  },
  {
   "cell_type": "code",
   "execution_count": 35,
   "metadata": {
    "id": "lYOvYcvbFrtj"
   },
   "outputs": [],
   "source": [
    "# As the rolling window become broader, more data can be used for trainig. \n",
    "for i in range(start_index, len(data_2020)):\n",
    "    # Base model traing and predicting.\n",
    "    out_base_model.fit(data_2020[:i][base_features], data_2020[:i][label])\n",
    "    base_pred = out_base_model.predict([data_2020.iloc[i][base_features]])\n",
    "    base.append(base_pred[0])\n",
    "    \n",
    "    out_cases_model.fit(data_2020[:i][cases_features], data_2020[:i][label])\n",
    "    cases_pred = out_cases_model.predict([data_2020.iloc[i][cases_features]])\n",
    "    cases.append(cases_pred[0])\n",
    "    \n",
    "    out_deaths_model.fit(data_2020[:i][deaths_features], data_2020[:i][label])\n",
    "    deaths_pred = out_deaths_model.predict([data_2020.iloc[i][deaths_features]])\n",
    "    deaths.append(deaths_pred[0])"
   ]
  },
  {
   "cell_type": "code",
   "execution_count": 36,
   "metadata": {
    "id": "4E9dnWaqFrtj"
   },
   "outputs": [],
   "source": [
    "data_2020['base'] = base\n",
    "data_2020['cases'] = cases\n",
    "data_2020['deaths'] = deaths"
   ]
  },
  {
   "cell_type": "code",
   "execution_count": 37,
   "metadata": {
    "colab": {
     "base_uri": "https://localhost:8080/",
     "height": 334
    },
    "id": "MA6tcu3zFrtj",
    "outputId": "1051a223-223f-438d-8c10-054fd3908b1c"
   },
   "outputs": [
    {
     "data": {
      "text/plain": [
       "<matplotlib.legend.Legend at 0x7f161e819898>"
      ]
     },
     "execution_count": 37,
     "metadata": {
      "tags": []
     },
     "output_type": "execute_result"
    },
    {
     "data": {
      "image/png": "[encoded data removed]",
      "text/plain": [
       "<Figure size 1440x576 with 1 Axes>"
      ]
     },
     "metadata": {
      "needs_background": "light",
      "tags": []
     },
     "output_type": "display_data"
    }
   ],
   "source": [
    "plt.figure(figsize=(20, 8))\n",
    "plt.plot(standardization(data_2020[start_date:]['close']), 'k', label='groundtruth')\n",
    "plt.plot(standardization(data_2020[start_date:]['base']), label='base')\n",
    "plt.plot(standardization(data_2020[start_date:]['cases']), '--', label='cases')\n",
    "plt.plot(standardization(data_2020[start_date:]['deaths']), '--', label='deaths')\n",
    "# plt.plot(data_2020[start_date:]['close'], label='groundtruth')\n",
    "# plt.plot(data_2020[start_date:]['base'], label='base')\n",
    "# plt.plot(data_2020[start_date:]['cases'], '--', label='cases')\n",
    "# plt.plot(data_2020[start_date:]['deaths'], '--', label='deaths')\n",
    "plt.legend()"
   ]
  },
  {
   "cell_type": "code",
   "execution_count": 38,
   "metadata": {
    "colab": {
     "base_uri": "https://localhost:8080/"
    },
    "id": "dQrNNstVFrtk",
    "outputId": "9989c4b6-d2a3-4953-e9ab-9609c0647d1a"
   },
   "outputs": [
    {
     "name": "stdout",
     "output_type": "stream",
     "text": [
      "111.86161143073446\n",
      "111.3620282294857\n",
      "106.33130006703873\n"
     ]
    }
   ],
   "source": [
    "# MAE of three model: death cases improves a lot\n",
    "result = data_2020[start_date:]\n",
    "base_mae = sum(abs(result['base'] - result[label]))/len(result[label])\n",
    "cases_mae = sum(abs(result['cases'] - result[label]))/len(result[label])\n",
    "deaths_mae = sum(abs(result['deaths'] - result[label]))/len(result[label])\n",
    "print(base_mae)\n",
    "print(cases_mae)\n",
    "print(deaths_mae)"
   ]
  },
  {
   "cell_type": "code",
   "execution_count": 39,
   "metadata": {
    "id": "2K95l0ojFrtk"
   },
   "outputs": [],
   "source": [
    "df_results = data_2020[['close', 'base', 'cases', 'deaths']].copy()\n",
    "\n",
    "for feature in data_2020.columns[0:len(df_gt.columns)]:\n",
    "    trends = [-1.0] * start_index\n",
    "    trends_features = ['close.l1', feature]\n",
    "    out_trends_model = LinearRegression()\n",
    "    for i in range(start_index, len(data_2020)):\n",
    "        # Trends model training and predicting.\n",
    "        out_trends_model.fit(data_2020[:i][trends_features], data_2020[:i][label])\n",
    "        trends_pred = out_trends_model.predict([data_2020.iloc[i][trends_features]])\n",
    "        trends.append(trends_pred[0])\n",
    "    df_results[feature] = trends"
   ]
  },
  {
   "cell_type": "code",
   "execution_count": 40,
   "metadata": {
    "colab": {
     "base_uri": "https://localhost:8080/"
    },
    "id": "3gVaMeuuFrtk",
    "outputId": "1edaac87-9ed5-43bb-d227-080f6c361087"
   },
   "outputs": [
    {
     "name": "stdout",
     "output_type": "stream",
     "text": [
      "feature                MAE\n",
      "=================================\n",
      "close                  0.000000\n",
      "base                 111.861611\n",
      "cases                111.362028\n",
      "deaths               106.331300\n",
      "vaccine_world        111.744920\n",
      "vaccine_US           116.618413\n",
      "unemployment_world   111.927515\n",
      "unemployment_US      112.396836\n",
      "trump_world          111.951980\n",
      "trump_US             112.255973\n",
      "lockdown_world       114.344501\n",
      "lockdown_US          115.509797\n",
      "loan_world           112.436685\n",
      "loan_US              111.698660\n",
      "italy_world          116.318567\n",
      "italy_US             115.139538\n",
      "election_world       125.238454\n",
      "election_US          119.769683\n",
      "covid_world          108.633433\n",
      "covid_US             110.582560\n",
      "china_world          112.592957\n",
      "china_US             112.674001\n"
     ]
    }
   ],
   "source": [
    "# Calculate MAE for adding each google trends\n",
    "result = df_results[start_date:]\n",
    "print(f'feature                MAE')\n",
    "print('=================================')\n",
    "for i in result.columns:\n",
    "    mae = sum(abs(result[i] - result[label]))/len(result[label])\n",
    "    print(f'{i:20} {mae:10f}')"
   ]
  },
  {
   "cell_type": "code",
   "execution_count": 42,
   "metadata": {
    "id": "q_4kTiIwFrtl"
   },
   "outputs": [],
   "source": [
    "# define turning points\n",
    "turning_points = [[pd.Timestamp('2020-02-10'), pd.Timestamp('2020-02-25')],\n",
    "                  [pd.Timestamp('2020-03-10'), pd.Timestamp('2020-03-30')],\n",
    "                  [pd.Timestamp('2020-08-20'), pd.Timestamp('2020-09-15')],\n",
    "                  [pd.Timestamp('2020-10-10'), pd.Timestamp('2020-11-10')]]"
   ]
  },
  {
   "cell_type": "code",
   "execution_count": 43,
   "metadata": {
    "colab": {
     "base_uri": "https://localhost:8080/",
     "height": 334
    },
    "id": "jqGebLOXFrtl",
    "outputId": "f87cf831-1109-4dd9-81f0-5b65a3201ebb"
   },
   "outputs": [
    {
     "data": {
      "image/png": "[encoded data removed]",
      "text/plain": [
       "<Figure size 1008x432 with 1 Axes>"
      ]
     },
     "metadata": {
      "needs_background": "light",
      "tags": []
     },
     "output_type": "display_data"
    }
   ],
   "source": [
    "plt.figure(figsize=(14, 6))\n",
    "y_min, y_max = 6500, 12500\n",
    "plt.ylim([y_min, y_max])\n",
    "\n",
    "plt.plot(df_ns['Close'])\n",
    "for point_i in turning_points:\n",
    "    plt.fill_betweenx([y_min, y_max], point_i[0], point_i[1], alpha=0.2)"
   ]
  },
  {
   "cell_type": "code",
   "execution_count": 44,
   "metadata": {
    "colab": {
     "base_uri": "https://localhost:8080/"
    },
    "id": "FEYqgYGgFrtl",
    "outputId": "1437d11d-2f43-43ae-b830-e78d459eb0cc"
   },
   "outputs": [
    {
     "name": "stdout",
     "output_type": "stream",
     "text": [
      "[73.10888791968773, 307.13146561164604, 113.64825468897187, 103.55070906773523]\n",
      "[75.18790768374754, 321.09822112384256, 111.23447154785741, 103.29042538861563]\n",
      "[73.10888791968773, 312.3182862058438, 111.43753593457149, 103.0212412949844]\n"
     ]
    }
   ],
   "source": [
    "# calculate MAE for four turning points\n",
    "df_turnings = pd.DataFrame(df_gt.columns.to_list(), columns=['Features'])\n",
    "\n",
    "base_turning_maes = []\n",
    "cases_turning_maes = []\n",
    "deaths_turning_maes = []\n",
    "for i in range(len(turning_points)):\n",
    "    data_period = df_results[turning_points[i][0]:turning_points[i][1]]\n",
    "    mae = sum(abs(data_period['base'] - data_period[label]))/len(data_period)\n",
    "    base_turning_maes.append(mae)\n",
    "    mae = sum(abs(data_period['cases'] - data_period[label]))/len(data_period)\n",
    "    cases_turning_maes.append(mae)\n",
    "    mae = sum(abs(data_period['deaths'] - data_period[label]))/len(data_period)\n",
    "    deaths_turning_maes.append(mae)\n",
    "    \n",
    "print(base_turning_maes)\n",
    "print(cases_turning_maes)\n",
    "print(deaths_turning_maes)"
   ]
  },
  {
   "cell_type": "code",
   "execution_count": 45,
   "metadata": {
    "id": "GJa_4_JiFrtl"
   },
   "outputs": [],
   "source": [
    "# Do the same thing for each google trends\n",
    "for i in range(len(turning_points)):\n",
    "    data_period = df_results[turning_points[i][0]:turning_points[i][1]]\n",
    "    mae_col = f'Period_{i+1}'\n",
    "    improvement_col = f'{mae_col}_ratio'\n",
    "    maes = []\n",
    "    for trend in df_turnings['Features']:\n",
    "        mae = sum(abs(data_period[trend] - data_period[label]))/len(data_period)\n",
    "        maes.append(mae)\n",
    "    df_turnings[mae_col] = maes\n",
    "    df_turnings[improvement_col] = -(df_turnings[mae_col] - base_turning_maes[i])/base_turning_maes[i]"
   ]
  },
  {
   "cell_type": "code",
   "execution_count": 46,
   "metadata": {
    "colab": {
     "base_uri": "https://localhost:8080/",
     "height": 625
    },
    "id": "jOWyGgsPFrtl",
    "outputId": "39ac8a98-87a8-4f43-c665-b3ef3c7d356f"
   },
   "outputs": [
    {
     "data": {
      "text/html": [
       "<div>\n",
       "<style scoped>\n",
       "    .dataframe tbody tr th:only-of-type {\n",
       "        vertical-align: middle;\n",
       "    }\n",
       "\n",
       "    .dataframe tbody tr th {\n",
       "        vertical-align: top;\n",
       "    }\n",
       "\n",
       "    .dataframe thead th {\n",
       "        text-align: right;\n",
       "    }\n",
       "</style>\n",
       "<table border=\"1\" class=\"dataframe\">\n",
       "  <thead>\n",
       "    <tr style=\"text-align: right;\">\n",
       "      <th></th>\n",
       "      <th>Features</th>\n",
       "      <th>Period_1</th>\n",
       "      <th>Period_1_ratio</th>\n",
       "      <th>Period_2</th>\n",
       "      <th>Period_2_ratio</th>\n",
       "      <th>Period_3</th>\n",
       "      <th>Period_3_ratio</th>\n",
       "      <th>Period_4</th>\n",
       "      <th>Period_4_ratio</th>\n",
       "    </tr>\n",
       "  </thead>\n",
       "  <tbody>\n",
       "    <tr>\n",
       "      <th>0</th>\n",
       "      <td>vaccine_world</td>\n",
       "      <td>72.801791</td>\n",
       "      <td>0.004201</td>\n",
       "      <td>307.749603</td>\n",
       "      <td>-0.002013</td>\n",
       "      <td>113.301656</td>\n",
       "      <td>0.003050</td>\n",
       "      <td>106.069103</td>\n",
       "      <td>-0.024320</td>\n",
       "    </tr>\n",
       "    <tr>\n",
       "      <th>1</th>\n",
       "      <td>vaccine_US</td>\n",
       "      <td>72.127055</td>\n",
       "      <td>0.013430</td>\n",
       "      <td>293.091340</td>\n",
       "      <td>0.045714</td>\n",
       "      <td>113.731134</td>\n",
       "      <td>-0.000729</td>\n",
       "      <td>103.375827</td>\n",
       "      <td>0.001689</td>\n",
       "    </tr>\n",
       "    <tr>\n",
       "      <th>2</th>\n",
       "      <td>unemployment_world</td>\n",
       "      <td>70.843047</td>\n",
       "      <td>0.030993</td>\n",
       "      <td>335.868552</td>\n",
       "      <td>-0.093566</td>\n",
       "      <td>110.175424</td>\n",
       "      <td>0.030558</td>\n",
       "      <td>103.708718</td>\n",
       "      <td>-0.001526</td>\n",
       "    </tr>\n",
       "    <tr>\n",
       "      <th>3</th>\n",
       "      <td>unemployment_US</td>\n",
       "      <td>70.721880</td>\n",
       "      <td>0.032650</td>\n",
       "      <td>337.974421</td>\n",
       "      <td>-0.100423</td>\n",
       "      <td>110.926453</td>\n",
       "      <td>0.023949</td>\n",
       "      <td>103.881593</td>\n",
       "      <td>-0.003195</td>\n",
       "    </tr>\n",
       "    <tr>\n",
       "      <th>4</th>\n",
       "      <td>trump_world</td>\n",
       "      <td>73.688757</td>\n",
       "      <td>-0.007932</td>\n",
       "      <td>314.647118</td>\n",
       "      <td>-0.024470</td>\n",
       "      <td>113.280068</td>\n",
       "      <td>0.003240</td>\n",
       "      <td>114.660231</td>\n",
       "      <td>-0.107286</td>\n",
       "    </tr>\n",
       "    <tr>\n",
       "      <th>5</th>\n",
       "      <td>trump_US</td>\n",
       "      <td>72.161093</td>\n",
       "      <td>0.012964</td>\n",
       "      <td>321.572181</td>\n",
       "      <td>-0.047018</td>\n",
       "      <td>113.609109</td>\n",
       "      <td>0.000344</td>\n",
       "      <td>112.330720</td>\n",
       "      <td>-0.084789</td>\n",
       "    </tr>\n",
       "    <tr>\n",
       "      <th>6</th>\n",
       "      <td>lockdown_world</td>\n",
       "      <td>73.436381</td>\n",
       "      <td>-0.004480</td>\n",
       "      <td>391.318120</td>\n",
       "      <td>-0.274106</td>\n",
       "      <td>108.369640</td>\n",
       "      <td>0.046447</td>\n",
       "      <td>110.060532</td>\n",
       "      <td>-0.062866</td>\n",
       "    </tr>\n",
       "    <tr>\n",
       "      <th>7</th>\n",
       "      <td>lockdown_US</td>\n",
       "      <td>72.760097</td>\n",
       "      <td>0.004771</td>\n",
       "      <td>384.684561</td>\n",
       "      <td>-0.252508</td>\n",
       "      <td>108.414815</td>\n",
       "      <td>0.046049</td>\n",
       "      <td>104.988354</td>\n",
       "      <td>-0.013883</td>\n",
       "    </tr>\n",
       "    <tr>\n",
       "      <th>8</th>\n",
       "      <td>loan_world</td>\n",
       "      <td>71.416844</td>\n",
       "      <td>0.023144</td>\n",
       "      <td>308.732653</td>\n",
       "      <td>-0.005213</td>\n",
       "      <td>115.368832</td>\n",
       "      <td>-0.015139</td>\n",
       "      <td>103.742583</td>\n",
       "      <td>-0.001853</td>\n",
       "    </tr>\n",
       "    <tr>\n",
       "      <th>9</th>\n",
       "      <td>loan_US</td>\n",
       "      <td>73.278909</td>\n",
       "      <td>-0.002326</td>\n",
       "      <td>306.052774</td>\n",
       "      <td>0.003512</td>\n",
       "      <td>114.767822</td>\n",
       "      <td>-0.009851</td>\n",
       "      <td>104.410933</td>\n",
       "      <td>-0.008307</td>\n",
       "    </tr>\n",
       "    <tr>\n",
       "      <th>10</th>\n",
       "      <td>italy_world</td>\n",
       "      <td>58.550725</td>\n",
       "      <td>0.199130</td>\n",
       "      <td>317.288807</td>\n",
       "      <td>-0.033072</td>\n",
       "      <td>120.332246</td>\n",
       "      <td>-0.058813</td>\n",
       "      <td>101.574156</td>\n",
       "      <td>0.019088</td>\n",
       "    </tr>\n",
       "    <tr>\n",
       "      <th>11</th>\n",
       "      <td>italy_US</td>\n",
       "      <td>51.607893</td>\n",
       "      <td>0.294095</td>\n",
       "      <td>286.990011</td>\n",
       "      <td>0.065579</td>\n",
       "      <td>120.553545</td>\n",
       "      <td>-0.060760</td>\n",
       "      <td>100.919023</td>\n",
       "      <td>0.025414</td>\n",
       "    </tr>\n",
       "    <tr>\n",
       "      <th>12</th>\n",
       "      <td>election_world</td>\n",
       "      <td>88.667418</td>\n",
       "      <td>-0.212813</td>\n",
       "      <td>304.970285</td>\n",
       "      <td>0.007037</td>\n",
       "      <td>111.862985</td>\n",
       "      <td>0.015709</td>\n",
       "      <td>222.234341</td>\n",
       "      <td>-1.146140</td>\n",
       "    </tr>\n",
       "    <tr>\n",
       "      <th>13</th>\n",
       "      <td>election_US</td>\n",
       "      <td>80.105777</td>\n",
       "      <td>-0.095705</td>\n",
       "      <td>302.775126</td>\n",
       "      <td>0.014184</td>\n",
       "      <td>112.228893</td>\n",
       "      <td>0.012489</td>\n",
       "      <td>174.445567</td>\n",
       "      <td>-0.684639</td>\n",
       "    </tr>\n",
       "    <tr>\n",
       "      <th>14</th>\n",
       "      <td>covid_world</td>\n",
       "      <td>68.466946</td>\n",
       "      <td>0.063494</td>\n",
       "      <td>325.730965</td>\n",
       "      <td>-0.060559</td>\n",
       "      <td>109.686187</td>\n",
       "      <td>0.034863</td>\n",
       "      <td>104.526009</td>\n",
       "      <td>-0.009419</td>\n",
       "    </tr>\n",
       "    <tr>\n",
       "      <th>15</th>\n",
       "      <td>covid_US</td>\n",
       "      <td>72.542898</td>\n",
       "      <td>0.007742</td>\n",
       "      <td>338.929804</td>\n",
       "      <td>-0.103533</td>\n",
       "      <td>111.125993</td>\n",
       "      <td>0.022194</td>\n",
       "      <td>104.389462</td>\n",
       "      <td>-0.008100</td>\n",
       "    </tr>\n",
       "    <tr>\n",
       "      <th>16</th>\n",
       "      <td>china_world</td>\n",
       "      <td>73.631885</td>\n",
       "      <td>-0.007154</td>\n",
       "      <td>310.869045</td>\n",
       "      <td>-0.012169</td>\n",
       "      <td>113.540943</td>\n",
       "      <td>0.000944</td>\n",
       "      <td>103.118055</td>\n",
       "      <td>0.004178</td>\n",
       "    </tr>\n",
       "    <tr>\n",
       "      <th>17</th>\n",
       "      <td>china_US</td>\n",
       "      <td>74.594019</td>\n",
       "      <td>-0.020314</td>\n",
       "      <td>310.616318</td>\n",
       "      <td>-0.011346</td>\n",
       "      <td>115.036137</td>\n",
       "      <td>-0.012212</td>\n",
       "      <td>101.851000</td>\n",
       "      <td>0.016414</td>\n",
       "    </tr>\n",
       "  </tbody>\n",
       "</table>\n",
       "</div>"
      ],
      "text/plain": [
       "              Features   Period_1  ...    Period_4  Period_4_ratio\n",
       "0        vaccine_world  72.801791  ...  106.069103       -0.024320\n",
       "1           vaccine_US  72.127055  ...  103.375827        0.001689\n",
       "2   unemployment_world  70.843047  ...  103.708718       -0.001526\n",
       "3      unemployment_US  70.721880  ...  103.881593       -0.003195\n",
       "4          trump_world  73.688757  ...  114.660231       -0.107286\n",
       "5             trump_US  72.161093  ...  112.330720       -0.084789\n",
       "6       lockdown_world  73.436381  ...  110.060532       -0.062866\n",
       "7          lockdown_US  72.760097  ...  104.988354       -0.013883\n",
       "8           loan_world  71.416844  ...  103.742583       -0.001853\n",
       "9              loan_US  73.278909  ...  104.410933       -0.008307\n",
       "10         italy_world  58.550725  ...  101.574156        0.019088\n",
       "11            italy_US  51.607893  ...  100.919023        0.025414\n",
       "12      election_world  88.667418  ...  222.234341       -1.146140\n",
       "13         election_US  80.105777  ...  174.445567       -0.684639\n",
       "14         covid_world  68.466946  ...  104.526009       -0.009419\n",
       "15            covid_US  72.542898  ...  104.389462       -0.008100\n",
       "16         china_world  73.631885  ...  103.118055        0.004178\n",
       "17            china_US  74.594019  ...  101.851000        0.016414\n",
       "\n",
       "[18 rows x 9 columns]"
      ]
     },
     "execution_count": 46,
     "metadata": {
      "tags": []
     },
     "output_type": "execute_result"
    }
   ],
   "source": [
    "df_turnings"
   ]
  },
  {
   "cell_type": "code",
   "execution_count": 47,
   "metadata": {
    "colab": {
     "base_uri": "https://localhost:8080/",
     "height": 282
    },
    "id": "SSJdm-3hFrtl",
    "outputId": "ec3fb022-0e0b-4ea0-aada-b8918b4efd32"
   },
   "outputs": [
    {
     "data": {
      "text/plain": [
       "<BarContainer object of 18 artists>"
      ]
     },
     "execution_count": 47,
     "metadata": {
      "tags": []
     },
     "output_type": "execute_result"
    },
    {
     "data": {
      "image/png": "[encoded data removed]",
      "text/plain": [
       "<Figure size 432x288 with 1 Axes>"
      ]
     },
     "metadata": {
      "needs_background": "light",
      "tags": []
     },
     "output_type": "display_data"
    }
   ],
   "source": [
    "plt.barh(y=df_turnings['Features'], width=df_turnings['Period_1_ratio'])"
   ]
  },
  {
   "cell_type": "code",
   "execution_count": 48,
   "metadata": {
    "colab": {
     "base_uri": "https://localhost:8080/",
     "height": 282
    },
    "id": "VIeuzbJZFrtm",
    "outputId": "747aa109-1859-4e3c-f323-7ed13a587972"
   },
   "outputs": [
    {
     "data": {
      "text/plain": [
       "<BarContainer object of 18 artists>"
      ]
     },
     "execution_count": 48,
     "metadata": {
      "tags": []
     },
     "output_type": "execute_result"
    },
    {
     "data": {
      "image/png": "[encoded data removed]",
      "text/plain": [
       "<Figure size 432x288 with 1 Axes>"
      ]
     },
     "metadata": {
      "needs_background": "light",
      "tags": []
     },
     "output_type": "display_data"
    }
   ],
   "source": [
    "plt.barh(y=df_turnings['Features'], width=df_turnings['Period_2_ratio'])"
   ]
  },
  {
   "cell_type": "code",
   "execution_count": 49,
   "metadata": {
    "colab": {
     "base_uri": "https://localhost:8080/",
     "height": 282
    },
    "id": "NZYmk59aFrtm",
    "outputId": "ea72063e-e0a3-4239-e536-88f866b466b6"
   },
   "outputs": [
    {
     "data": {
      "text/plain": [
       "<BarContainer object of 18 artists>"
      ]
     },
     "execution_count": 49,
     "metadata": {
      "tags": []
     },
     "output_type": "execute_result"
    },
    {
     "data": {
      "image/png": "[encoded data removed]",
      "text/plain": [
       "<Figure size 432x288 with 1 Axes>"
      ]
     },
     "metadata": {
      "needs_background": "light",
      "tags": []
     },
     "output_type": "display_data"
    }
   ],
   "source": [
    "plt.barh(y=df_turnings['Features'], width=df_turnings['Period_3_ratio'])"
   ]
  },
  {
   "cell_type": "code",
   "execution_count": 50,
   "metadata": {
    "colab": {
     "base_uri": "https://localhost:8080/",
     "height": 282
    },
    "id": "0Fc_LUJ4Frtm",
    "outputId": "db6d3bab-32fc-4ead-cb2b-586ec3e7c98f"
   },
   "outputs": [
    {
     "data": {
      "text/plain": [
       "<BarContainer object of 18 artists>"
      ]
     },
     "execution_count": 50,
     "metadata": {
      "tags": []
     },
     "output_type": "execute_result"
    },
    {
     "data": {
      "image/png": "[encoded data removed]",
      "text/plain": [
       "<Figure size 432x288 with 1 Axes>"
      ]
     },
     "metadata": {
      "needs_background": "light",
      "tags": []
     },
     "output_type": "display_data"
    }
   ],
   "source": [
    "plt.barh(y=df_turnings['Features'], width=df_turnings['Period_4_ratio'])"
   ]
  },
  {
   "cell_type": "code",
   "execution_count": 58,
   "metadata": {
    "colab": {
     "base_uri": "https://localhost:8080/",
     "height": 203
    },
    "id": "o8Joh3LdFrtm",
    "outputId": "25688c88-5f4c-4dd3-d36d-ad111b95ab0e"
   },
   "outputs": [
    {
     "data": {
      "text/html": [
       "<div>\n",
       "<style scoped>\n",
       "    .dataframe tbody tr th:only-of-type {\n",
       "        vertical-align: middle;\n",
       "    }\n",
       "\n",
       "    .dataframe tbody tr th {\n",
       "        vertical-align: top;\n",
       "    }\n",
       "\n",
       "    .dataframe thead th {\n",
       "        text-align: right;\n",
       "    }\n",
       "</style>\n",
       "<table border=\"1\" class=\"dataframe\">\n",
       "  <thead>\n",
       "    <tr style=\"text-align: right;\">\n",
       "      <th></th>\n",
       "      <th>Features</th>\n",
       "      <th>Period</th>\n",
       "      <th>ratio</th>\n",
       "    </tr>\n",
       "  </thead>\n",
       "  <tbody>\n",
       "    <tr>\n",
       "      <th>0</th>\n",
       "      <td>vaccine_world</td>\n",
       "      <td>Period_1_ratio</td>\n",
       "      <td>0.004201</td>\n",
       "    </tr>\n",
       "    <tr>\n",
       "      <th>1</th>\n",
       "      <td>vaccine_US</td>\n",
       "      <td>Period_1_ratio</td>\n",
       "      <td>0.013430</td>\n",
       "    </tr>\n",
       "    <tr>\n",
       "      <th>2</th>\n",
       "      <td>unemployment_world</td>\n",
       "      <td>Period_1_ratio</td>\n",
       "      <td>0.030993</td>\n",
       "    </tr>\n",
       "    <tr>\n",
       "      <th>3</th>\n",
       "      <td>unemployment_US</td>\n",
       "      <td>Period_1_ratio</td>\n",
       "      <td>0.032650</td>\n",
       "    </tr>\n",
       "    <tr>\n",
       "      <th>4</th>\n",
       "      <td>trump_world</td>\n",
       "      <td>Period_1_ratio</td>\n",
       "      <td>-0.007932</td>\n",
       "    </tr>\n",
       "  </tbody>\n",
       "</table>\n",
       "</div>"
      ],
      "text/plain": [
       "             Features          Period     ratio\n",
       "0       vaccine_world  Period_1_ratio  0.004201\n",
       "1          vaccine_US  Period_1_ratio  0.013430\n",
       "2  unemployment_world  Period_1_ratio  0.030993\n",
       "3     unemployment_US  Period_1_ratio  0.032650\n",
       "4         trump_world  Period_1_ratio -0.007932"
      ]
     },
     "execution_count": 58,
     "metadata": {
      "tags": []
     },
     "output_type": "execute_result"
    }
   ],
   "source": [
    "import seaborn as sns\n",
    "\n",
    "improvement_cols = ['Period_1_ratio', 'Period_2_ratio', 'Period_3_ratio', 'Period_4_ratio']\n",
    "df_melt = pd.melt(df_turnings, id_vars=['Features'], value_vars=improvement_cols, var_name='Period', value_name='ratio')\n",
    "df_melt.head()"
   ]
  },
  {
   "cell_type": "code",
   "execution_count": 52,
   "metadata": {
    "colab": {
     "base_uri": "https://localhost:8080/",
     "height": 473
    },
    "id": "Pskl-hMLWtep",
    "outputId": "27eced67-9e54-4571-c9dc-4f75b8f7d13d"
   },
   "outputs": [
    {
     "data": {
      "image/png": "[encoded data removed]",
      "text/plain": [
       "<Figure size 1008x576 with 18 Axes>"
      ]
     },
     "metadata": {
      "needs_background": "light",
      "tags": []
     },
     "output_type": "display_data"
    }
   ],
   "source": [
    "g = sns.catplot(x='Period', y='ratio', col='Features', col_wrap=5, data=df_melt, \n",
    "                kind=\"point\", orient=\"v\", height=2,  aspect=1.4, sharey=False)\n",
    "# g.set(ylim=(df_melt['ratio'].min(), df_melt['ratio'].max()))\n",
    "g.set(ylim=(-0.5, 0.5))\n",
    "g.set_xticklabels(['period-1', 'period-2', 'period-3', 'period-4'], rotation=45)\n",
    "axes = g.fig.axes\n",
    "for ax in axes:\n",
    "    ax.axhline(0, color='r', ls='--')"
   ]
  },
  {
   "cell_type": "markdown",
   "metadata": {
    "id": "W4W7cEaeE8CX"
   },
   "source": [
    "### Select categories"
   ]
  },
  {
   "cell_type": "code",
   "execution_count": 53,
   "metadata": {
    "colab": {
     "base_uri": "https://localhost:8080/",
     "height": 439
    },
    "id": "umNz0VkYFDKB",
    "outputId": "9a5bde05-478f-455b-db0e-9917f6e9cdad"
   },
   "outputs": [
    {
     "data": {
      "text/html": [
       "<div>\n",
       "<style scoped>\n",
       "    .dataframe tbody tr th:only-of-type {\n",
       "        vertical-align: middle;\n",
       "    }\n",
       "\n",
       "    .dataframe tbody tr th {\n",
       "        vertical-align: top;\n",
       "    }\n",
       "\n",
       "    .dataframe thead th {\n",
       "        text-align: right;\n",
       "    }\n",
       "</style>\n",
       "<table border=\"1\" class=\"dataframe\">\n",
       "  <thead>\n",
       "    <tr style=\"text-align: right;\">\n",
       "      <th></th>\n",
       "      <th>close</th>\n",
       "      <th>Arts &amp; Entertainment</th>\n",
       "      <th>Autos &amp; Vehicles</th>\n",
       "      <th>Beauty &amp; Fitness</th>\n",
       "      <th>Books &amp; Literature</th>\n",
       "      <th>Business &amp; Industrial</th>\n",
       "      <th>Computers &amp; Electronics</th>\n",
       "      <th>Finance</th>\n",
       "      <th>Food &amp; Drink</th>\n",
       "      <th>Games</th>\n",
       "      <th>Health</th>\n",
       "      <th>Hobbies &amp; Leisure</th>\n",
       "      <th>Home &amp; Garden</th>\n",
       "      <th>Internet &amp; Telecom</th>\n",
       "      <th>Jobs &amp; Education</th>\n",
       "      <th>Law &amp; Government</th>\n",
       "      <th>News</th>\n",
       "      <th>Online Communities</th>\n",
       "      <th>People &amp; Society</th>\n",
       "      <th>Pets &amp; Animals</th>\n",
       "      <th>Real Estate</th>\n",
       "      <th>Reference</th>\n",
       "      <th>Science</th>\n",
       "      <th>Shopping</th>\n",
       "      <th>Sports</th>\n",
       "      <th>Travel</th>\n",
       "      <th>Celebrities &amp; Entertainment News</th>\n",
       "      <th>Comics &amp; Animation</th>\n",
       "      <th>Entertainment Industry</th>\n",
       "      <th>Events &amp; Listings</th>\n",
       "      <th>Fun &amp; Trivia</th>\n",
       "      <th>Humor</th>\n",
       "      <th>Movies</th>\n",
       "      <th>Music &amp; Audio</th>\n",
       "      <th>Offbeat</th>\n",
       "      <th>Online Media</th>\n",
       "      <th>Performing Arts</th>\n",
       "      <th>TV &amp; Video</th>\n",
       "      <th>Visual Art &amp; Design</th>\n",
       "      <th>Automotive Industry</th>\n",
       "      <th>...</th>\n",
       "      <th>Stock Photography</th>\n",
       "      <th>Sports Memorabilia</th>\n",
       "      <th>Boxing</th>\n",
       "      <th>Martial Arts</th>\n",
       "      <th>Wrestling</th>\n",
       "      <th>Drag &amp; Street Racing</th>\n",
       "      <th>Stunts &amp; Dangerous Feats</th>\n",
       "      <th>Golf</th>\n",
       "      <th>Gymnastics</th>\n",
       "      <th>Racquet Sports</th>\n",
       "      <th>Skate Sports</th>\n",
       "      <th>Track &amp; Field</th>\n",
       "      <th>American Football</th>\n",
       "      <th>Baseball</th>\n",
       "      <th>Basketball</th>\n",
       "      <th>Cheerleading</th>\n",
       "      <th>Cricket</th>\n",
       "      <th>Handball</th>\n",
       "      <th>Hockey</th>\n",
       "      <th>Rugby</th>\n",
       "      <th>Soccer</th>\n",
       "      <th>Volleyball</th>\n",
       "      <th>Ice Skating</th>\n",
       "      <th>Skiing &amp; Snowboarding</th>\n",
       "      <th>Olympics</th>\n",
       "      <th>Airport Parking &amp; Transportation</th>\n",
       "      <th>Adventure Travel</th>\n",
       "      <th>Agritourism</th>\n",
       "      <th>Ecotourism</th>\n",
       "      <th>Sightseeing Tours</th>\n",
       "      <th>Vineyards &amp; Wine Tourism</th>\n",
       "      <th>Beaches &amp; Islands</th>\n",
       "      <th>Historical Sites &amp; Buildings</th>\n",
       "      <th>Lakes &amp; Rivers</th>\n",
       "      <th>Mountain &amp; Ski Resorts</th>\n",
       "      <th>Regional Parks &amp; Gardens</th>\n",
       "      <th>Theme Parks</th>\n",
       "      <th>Tourist Boards &amp; Visitor Centers</th>\n",
       "      <th>Vacation Offers</th>\n",
       "      <th>close_l1</th>\n",
       "    </tr>\n",
       "    <tr>\n",
       "      <th>date</th>\n",
       "      <th></th>\n",
       "      <th></th>\n",
       "      <th></th>\n",
       "      <th></th>\n",
       "      <th></th>\n",
       "      <th></th>\n",
       "      <th></th>\n",
       "      <th></th>\n",
       "      <th></th>\n",
       "      <th></th>\n",
       "      <th></th>\n",
       "      <th></th>\n",
       "      <th></th>\n",
       "      <th></th>\n",
       "      <th></th>\n",
       "      <th></th>\n",
       "      <th></th>\n",
       "      <th></th>\n",
       "      <th></th>\n",
       "      <th></th>\n",
       "      <th></th>\n",
       "      <th></th>\n",
       "      <th></th>\n",
       "      <th></th>\n",
       "      <th></th>\n",
       "      <th></th>\n",
       "      <th></th>\n",
       "      <th></th>\n",
       "      <th></th>\n",
       "      <th></th>\n",
       "      <th></th>\n",
       "      <th></th>\n",
       "      <th></th>\n",
       "      <th></th>\n",
       "      <th></th>\n",
       "      <th></th>\n",
       "      <th></th>\n",
       "      <th></th>\n",
       "      <th></th>\n",
       "      <th></th>\n",
       "      <th></th>\n",
       "      <th></th>\n",
       "      <th></th>\n",
       "      <th></th>\n",
       "      <th></th>\n",
       "      <th></th>\n",
       "      <th></th>\n",
       "      <th></th>\n",
       "      <th></th>\n",
       "      <th></th>\n",
       "      <th></th>\n",
       "      <th></th>\n",
       "      <th></th>\n",
       "      <th></th>\n",
       "      <th></th>\n",
       "      <th></th>\n",
       "      <th></th>\n",
       "      <th></th>\n",
       "      <th></th>\n",
       "      <th></th>\n",
       "      <th></th>\n",
       "      <th></th>\n",
       "      <th></th>\n",
       "      <th></th>\n",
       "      <th></th>\n",
       "      <th></th>\n",
       "      <th></th>\n",
       "      <th></th>\n",
       "      <th></th>\n",
       "      <th></th>\n",
       "      <th></th>\n",
       "      <th></th>\n",
       "      <th></th>\n",
       "      <th></th>\n",
       "      <th></th>\n",
       "      <th></th>\n",
       "      <th></th>\n",
       "      <th></th>\n",
       "      <th></th>\n",
       "      <th></th>\n",
       "      <th></th>\n",
       "    </tr>\n",
       "  </thead>\n",
       "  <tbody>\n",
       "    <tr>\n",
       "      <th>2020-01-02</th>\n",
       "      <td>9092.190430</td>\n",
       "      <td>100.0</td>\n",
       "      <td>75.307692</td>\n",
       "      <td>92.0</td>\n",
       "      <td>50.0</td>\n",
       "      <td>47.0</td>\n",
       "      <td>63.228916</td>\n",
       "      <td>37.0</td>\n",
       "      <td>76.766667</td>\n",
       "      <td>85.0</td>\n",
       "      <td>45.0</td>\n",
       "      <td>100.0</td>\n",
       "      <td>59.0</td>\n",
       "      <td>62.0</td>\n",
       "      <td>38.557377</td>\n",
       "      <td>39.0</td>\n",
       "      <td>5.901639</td>\n",
       "      <td>94.0</td>\n",
       "      <td>84.0</td>\n",
       "      <td>74.0</td>\n",
       "      <td>73.561224</td>\n",
       "      <td>74.211765</td>\n",
       "      <td>36.515625</td>\n",
       "      <td>68.25</td>\n",
       "      <td>42.0</td>\n",
       "      <td>81.0</td>\n",
       "      <td>39.00</td>\n",
       "      <td>75.454545</td>\n",
       "      <td>14.0</td>\n",
       "      <td>96.0</td>\n",
       "      <td>68.0</td>\n",
       "      <td>82.0</td>\n",
       "      <td>83.870968</td>\n",
       "      <td>97.0</td>\n",
       "      <td>60.0</td>\n",
       "      <td>83.337662</td>\n",
       "      <td>73.0</td>\n",
       "      <td>89.24</td>\n",
       "      <td>45.0</td>\n",
       "      <td>8.0</td>\n",
       "      <td>...</td>\n",
       "      <td>71.0</td>\n",
       "      <td>48.0</td>\n",
       "      <td>2.857143</td>\n",
       "      <td>8.0</td>\n",
       "      <td>36.0</td>\n",
       "      <td>45.0</td>\n",
       "      <td>50.133333</td>\n",
       "      <td>23.448276</td>\n",
       "      <td>46.0</td>\n",
       "      <td>12.000000</td>\n",
       "      <td>44.25</td>\n",
       "      <td>44.0</td>\n",
       "      <td>26.0</td>\n",
       "      <td>14.928571</td>\n",
       "      <td>6.0</td>\n",
       "      <td>38.0</td>\n",
       "      <td>100.0</td>\n",
       "      <td>63.0</td>\n",
       "      <td>82.0</td>\n",
       "      <td>36.0</td>\n",
       "      <td>49</td>\n",
       "      <td>51.0</td>\n",
       "      <td>82.0</td>\n",
       "      <td>88.0</td>\n",
       "      <td>18.0</td>\n",
       "      <td>79.0</td>\n",
       "      <td>83.0</td>\n",
       "      <td>25.0</td>\n",
       "      <td>66.920635</td>\n",
       "      <td>81.0</td>\n",
       "      <td>46.097561</td>\n",
       "      <td>76</td>\n",
       "      <td>48.164706</td>\n",
       "      <td>45.584416</td>\n",
       "      <td>93.0</td>\n",
       "      <td>56.64</td>\n",
       "      <td>55.0</td>\n",
       "      <td>59.0</td>\n",
       "      <td>74.0</td>\n",
       "      <td>9092.190430</td>\n",
       "    </tr>\n",
       "    <tr>\n",
       "      <th>2020-01-03</th>\n",
       "      <td>9020.769531</td>\n",
       "      <td>83.0</td>\n",
       "      <td>85.087912</td>\n",
       "      <td>98.0</td>\n",
       "      <td>52.0</td>\n",
       "      <td>60.0</td>\n",
       "      <td>81.012048</td>\n",
       "      <td>59.0</td>\n",
       "      <td>54.716667</td>\n",
       "      <td>82.0</td>\n",
       "      <td>57.0</td>\n",
       "      <td>68.0</td>\n",
       "      <td>61.0</td>\n",
       "      <td>71.0</td>\n",
       "      <td>59.672131</td>\n",
       "      <td>49.0</td>\n",
       "      <td>5.770492</td>\n",
       "      <td>82.0</td>\n",
       "      <td>84.0</td>\n",
       "      <td>73.0</td>\n",
       "      <td>87.183673</td>\n",
       "      <td>79.094118</td>\n",
       "      <td>48.093750</td>\n",
       "      <td>63.00</td>\n",
       "      <td>36.0</td>\n",
       "      <td>82.0</td>\n",
       "      <td>28.60</td>\n",
       "      <td>70.909091</td>\n",
       "      <td>12.0</td>\n",
       "      <td>73.0</td>\n",
       "      <td>70.0</td>\n",
       "      <td>67.0</td>\n",
       "      <td>72.129032</td>\n",
       "      <td>77.0</td>\n",
       "      <td>60.0</td>\n",
       "      <td>75.272727</td>\n",
       "      <td>64.0</td>\n",
       "      <td>76.36</td>\n",
       "      <td>47.0</td>\n",
       "      <td>13.0</td>\n",
       "      <td>...</td>\n",
       "      <td>88.0</td>\n",
       "      <td>49.0</td>\n",
       "      <td>3.047619</td>\n",
       "      <td>8.0</td>\n",
       "      <td>35.0</td>\n",
       "      <td>46.0</td>\n",
       "      <td>44.266667</td>\n",
       "      <td>24.620690</td>\n",
       "      <td>45.0</td>\n",
       "      <td>14.571429</td>\n",
       "      <td>43.50</td>\n",
       "      <td>50.0</td>\n",
       "      <td>21.0</td>\n",
       "      <td>15.714286</td>\n",
       "      <td>6.0</td>\n",
       "      <td>42.0</td>\n",
       "      <td>73.0</td>\n",
       "      <td>54.0</td>\n",
       "      <td>48.0</td>\n",
       "      <td>38.0</td>\n",
       "      <td>37</td>\n",
       "      <td>58.0</td>\n",
       "      <td>63.0</td>\n",
       "      <td>95.0</td>\n",
       "      <td>15.0</td>\n",
       "      <td>94.0</td>\n",
       "      <td>97.0</td>\n",
       "      <td>30.0</td>\n",
       "      <td>77.746032</td>\n",
       "      <td>79.0</td>\n",
       "      <td>35.560976</td>\n",
       "      <td>77</td>\n",
       "      <td>46.541176</td>\n",
       "      <td>47.272727</td>\n",
       "      <td>95.0</td>\n",
       "      <td>53.76</td>\n",
       "      <td>54.0</td>\n",
       "      <td>95.0</td>\n",
       "      <td>82.0</td>\n",
       "      <td>9092.190430</td>\n",
       "    </tr>\n",
       "    <tr>\n",
       "      <th>2020-01-04</th>\n",
       "      <td>9037.669596</td>\n",
       "      <td>81.0</td>\n",
       "      <td>83.131868</td>\n",
       "      <td>94.0</td>\n",
       "      <td>49.0</td>\n",
       "      <td>62.0</td>\n",
       "      <td>80.024096</td>\n",
       "      <td>60.0</td>\n",
       "      <td>53.083333</td>\n",
       "      <td>73.0</td>\n",
       "      <td>57.0</td>\n",
       "      <td>63.0</td>\n",
       "      <td>60.0</td>\n",
       "      <td>73.0</td>\n",
       "      <td>56.918033</td>\n",
       "      <td>52.0</td>\n",
       "      <td>6.557377</td>\n",
       "      <td>80.0</td>\n",
       "      <td>82.0</td>\n",
       "      <td>69.0</td>\n",
       "      <td>84.459184</td>\n",
       "      <td>79.094118</td>\n",
       "      <td>47.203125</td>\n",
       "      <td>61.50</td>\n",
       "      <td>32.0</td>\n",
       "      <td>83.0</td>\n",
       "      <td>35.88</td>\n",
       "      <td>66.363636</td>\n",
       "      <td>12.0</td>\n",
       "      <td>78.0</td>\n",
       "      <td>69.0</td>\n",
       "      <td>65.0</td>\n",
       "      <td>67.096774</td>\n",
       "      <td>72.0</td>\n",
       "      <td>59.0</td>\n",
       "      <td>73.480519</td>\n",
       "      <td>64.0</td>\n",
       "      <td>76.36</td>\n",
       "      <td>45.0</td>\n",
       "      <td>13.0</td>\n",
       "      <td>...</td>\n",
       "      <td>77.0</td>\n",
       "      <td>50.0</td>\n",
       "      <td>2.666667</td>\n",
       "      <td>8.0</td>\n",
       "      <td>35.0</td>\n",
       "      <td>50.0</td>\n",
       "      <td>38.400000</td>\n",
       "      <td>26.379310</td>\n",
       "      <td>46.0</td>\n",
       "      <td>15.428571</td>\n",
       "      <td>43.50</td>\n",
       "      <td>47.0</td>\n",
       "      <td>19.0</td>\n",
       "      <td>15.714286</td>\n",
       "      <td>6.0</td>\n",
       "      <td>37.0</td>\n",
       "      <td>29.0</td>\n",
       "      <td>60.0</td>\n",
       "      <td>60.0</td>\n",
       "      <td>41.0</td>\n",
       "      <td>32</td>\n",
       "      <td>55.0</td>\n",
       "      <td>67.0</td>\n",
       "      <td>88.0</td>\n",
       "      <td>16.0</td>\n",
       "      <td>85.0</td>\n",
       "      <td>87.0</td>\n",
       "      <td>42.0</td>\n",
       "      <td>62.984127</td>\n",
       "      <td>76.0</td>\n",
       "      <td>40.829268</td>\n",
       "      <td>74</td>\n",
       "      <td>41.129412</td>\n",
       "      <td>47.272727</td>\n",
       "      <td>100.0</td>\n",
       "      <td>55.68</td>\n",
       "      <td>49.0</td>\n",
       "      <td>90.0</td>\n",
       "      <td>77.0</td>\n",
       "      <td>9020.769531</td>\n",
       "    </tr>\n",
       "    <tr>\n",
       "      <th>2020-01-05</th>\n",
       "      <td>9054.569662</td>\n",
       "      <td>86.0</td>\n",
       "      <td>82.153846</td>\n",
       "      <td>98.0</td>\n",
       "      <td>47.0</td>\n",
       "      <td>49.0</td>\n",
       "      <td>69.156627</td>\n",
       "      <td>44.0</td>\n",
       "      <td>61.250000</td>\n",
       "      <td>79.0</td>\n",
       "      <td>47.0</td>\n",
       "      <td>65.0</td>\n",
       "      <td>64.0</td>\n",
       "      <td>64.0</td>\n",
       "      <td>44.065574</td>\n",
       "      <td>43.0</td>\n",
       "      <td>5.901639</td>\n",
       "      <td>76.0</td>\n",
       "      <td>80.0</td>\n",
       "      <td>74.0</td>\n",
       "      <td>79.010204</td>\n",
       "      <td>71.282353</td>\n",
       "      <td>39.187500</td>\n",
       "      <td>61.50</td>\n",
       "      <td>42.0</td>\n",
       "      <td>83.0</td>\n",
       "      <td>37.44</td>\n",
       "      <td>69.090909</td>\n",
       "      <td>13.0</td>\n",
       "      <td>89.0</td>\n",
       "      <td>64.0</td>\n",
       "      <td>71.0</td>\n",
       "      <td>78.000000</td>\n",
       "      <td>74.0</td>\n",
       "      <td>63.0</td>\n",
       "      <td>74.376623</td>\n",
       "      <td>67.0</td>\n",
       "      <td>77.28</td>\n",
       "      <td>42.0</td>\n",
       "      <td>13.0</td>\n",
       "      <td>...</td>\n",
       "      <td>69.0</td>\n",
       "      <td>54.0</td>\n",
       "      <td>2.666667</td>\n",
       "      <td>9.0</td>\n",
       "      <td>50.0</td>\n",
       "      <td>44.0</td>\n",
       "      <td>42.133333</td>\n",
       "      <td>26.965517</td>\n",
       "      <td>47.0</td>\n",
       "      <td>14.571429</td>\n",
       "      <td>48.00</td>\n",
       "      <td>58.0</td>\n",
       "      <td>35.0</td>\n",
       "      <td>14.928571</td>\n",
       "      <td>7.0</td>\n",
       "      <td>46.0</td>\n",
       "      <td>30.0</td>\n",
       "      <td>50.0</td>\n",
       "      <td>61.0</td>\n",
       "      <td>42.0</td>\n",
       "      <td>55</td>\n",
       "      <td>66.0</td>\n",
       "      <td>81.0</td>\n",
       "      <td>91.0</td>\n",
       "      <td>16.0</td>\n",
       "      <td>87.0</td>\n",
       "      <td>86.0</td>\n",
       "      <td>54.0</td>\n",
       "      <td>61.015873</td>\n",
       "      <td>91.0</td>\n",
       "      <td>41.487805</td>\n",
       "      <td>76</td>\n",
       "      <td>41.129412</td>\n",
       "      <td>47.272727</td>\n",
       "      <td>88.0</td>\n",
       "      <td>51.84</td>\n",
       "      <td>47.0</td>\n",
       "      <td>57.0</td>\n",
       "      <td>76.0</td>\n",
       "      <td>9037.669596</td>\n",
       "    </tr>\n",
       "    <tr>\n",
       "      <th>2020-01-06</th>\n",
       "      <td>9071.469727</td>\n",
       "      <td>89.0</td>\n",
       "      <td>75.307692</td>\n",
       "      <td>97.0</td>\n",
       "      <td>49.0</td>\n",
       "      <td>47.0</td>\n",
       "      <td>68.168675</td>\n",
       "      <td>35.0</td>\n",
       "      <td>62.883333</td>\n",
       "      <td>82.0</td>\n",
       "      <td>46.0</td>\n",
       "      <td>66.0</td>\n",
       "      <td>66.0</td>\n",
       "      <td>62.0</td>\n",
       "      <td>44.983607</td>\n",
       "      <td>41.0</td>\n",
       "      <td>5.770492</td>\n",
       "      <td>78.0</td>\n",
       "      <td>86.0</td>\n",
       "      <td>73.0</td>\n",
       "      <td>76.285714</td>\n",
       "      <td>70.305882</td>\n",
       "      <td>40.078125</td>\n",
       "      <td>64.50</td>\n",
       "      <td>66.0</td>\n",
       "      <td>80.0</td>\n",
       "      <td>36.92</td>\n",
       "      <td>69.090909</td>\n",
       "      <td>19.0</td>\n",
       "      <td>78.0</td>\n",
       "      <td>65.0</td>\n",
       "      <td>68.0</td>\n",
       "      <td>78.838710</td>\n",
       "      <td>76.0</td>\n",
       "      <td>60.0</td>\n",
       "      <td>75.272727</td>\n",
       "      <td>65.0</td>\n",
       "      <td>81.88</td>\n",
       "      <td>43.0</td>\n",
       "      <td>13.0</td>\n",
       "      <td>...</td>\n",
       "      <td>75.0</td>\n",
       "      <td>59.0</td>\n",
       "      <td>2.666667</td>\n",
       "      <td>8.0</td>\n",
       "      <td>43.0</td>\n",
       "      <td>39.0</td>\n",
       "      <td>41.600000</td>\n",
       "      <td>25.793103</td>\n",
       "      <td>45.0</td>\n",
       "      <td>13.714286</td>\n",
       "      <td>46.50</td>\n",
       "      <td>46.0</td>\n",
       "      <td>97.0</td>\n",
       "      <td>14.928571</td>\n",
       "      <td>6.0</td>\n",
       "      <td>49.0</td>\n",
       "      <td>41.0</td>\n",
       "      <td>45.0</td>\n",
       "      <td>59.0</td>\n",
       "      <td>37.0</td>\n",
       "      <td>48</td>\n",
       "      <td>67.0</td>\n",
       "      <td>72.0</td>\n",
       "      <td>84.0</td>\n",
       "      <td>15.0</td>\n",
       "      <td>83.0</td>\n",
       "      <td>98.0</td>\n",
       "      <td>41.0</td>\n",
       "      <td>73.809524</td>\n",
       "      <td>80.0</td>\n",
       "      <td>34.902439</td>\n",
       "      <td>75</td>\n",
       "      <td>44.376471</td>\n",
       "      <td>43.896104</td>\n",
       "      <td>84.0</td>\n",
       "      <td>52.80</td>\n",
       "      <td>48.0</td>\n",
       "      <td>48.0</td>\n",
       "      <td>74.0</td>\n",
       "      <td>9054.569662</td>\n",
       "    </tr>\n",
       "  </tbody>\n",
       "</table>\n",
       "<p>5 rows × 916 columns</p>\n",
       "</div>"
      ],
      "text/plain": [
       "                  close  Arts & Entertainment  ...  Vacation Offers     close_l1\n",
       "date                                           ...                              \n",
       "2020-01-02  9092.190430                 100.0  ...             74.0  9092.190430\n",
       "2020-01-03  9020.769531                  83.0  ...             82.0  9092.190430\n",
       "2020-01-04  9037.669596                  81.0  ...             77.0  9020.769531\n",
       "2020-01-05  9054.569662                  86.0  ...             76.0  9037.669596\n",
       "2020-01-06  9071.469727                  89.0  ...             74.0  9054.569662\n",
       "\n",
       "[5 rows x 916 columns]"
      ]
     },
     "execution_count": 53,
     "metadata": {
      "tags": []
     },
     "output_type": "execute_result"
    }
   ],
   "source": [
    "# dataframe for all categories of google trends\n",
    "df_ct = pd.read_csv(DATA_2020_DIR + 'categories.csv',parse_dates=['date'])\n",
    "df_ct['date'] = df_ct['date'] + pd.Timedelta('1d')\n",
    "df_ct.set_index('date',inplace = True)\n",
    "df_ct = df_ct[:-4]\n",
    "df_ct.insert(0,'close',df_ns['Close'][1:])\n",
    "df_ct['close_l1'] = df_ns['Close'][:-1].values\n",
    "df_ct.head()"
   ]
  },
  {
   "cell_type": "code",
   "execution_count": 54,
   "metadata": {
    "colab": {
     "base_uri": "https://localhost:8080/",
     "height": 203
    },
    "id": "DPUud1CeaqQ5",
    "outputId": "1cbac80a-02da-449a-8bfc-8a53040ede96"
   },
   "outputs": [
    {
     "data": {
      "text/html": [
       "<div>\n",
       "<style scoped>\n",
       "    .dataframe tbody tr th:only-of-type {\n",
       "        vertical-align: middle;\n",
       "    }\n",
       "\n",
       "    .dataframe tbody tr th {\n",
       "        vertical-align: top;\n",
       "    }\n",
       "\n",
       "    .dataframe thead th {\n",
       "        text-align: right;\n",
       "    }\n",
       "</style>\n",
       "<table border=\"1\" class=\"dataframe\">\n",
       "  <thead>\n",
       "    <tr style=\"text-align: right;\">\n",
       "      <th></th>\n",
       "      <th>name</th>\n",
       "      <th>id</th>\n",
       "      <th>level</th>\n",
       "    </tr>\n",
       "  </thead>\n",
       "  <tbody>\n",
       "    <tr>\n",
       "      <th>0</th>\n",
       "      <td>All categories</td>\n",
       "      <td>0</td>\n",
       "      <td>0</td>\n",
       "    </tr>\n",
       "    <tr>\n",
       "      <th>1</th>\n",
       "      <td>Arts &amp; Entertainment</td>\n",
       "      <td>3</td>\n",
       "      <td>1</td>\n",
       "    </tr>\n",
       "    <tr>\n",
       "      <th>2</th>\n",
       "      <td>Autos &amp; Vehicles</td>\n",
       "      <td>47</td>\n",
       "      <td>1</td>\n",
       "    </tr>\n",
       "    <tr>\n",
       "      <th>3</th>\n",
       "      <td>Beauty &amp; Fitness</td>\n",
       "      <td>44</td>\n",
       "      <td>1</td>\n",
       "    </tr>\n",
       "    <tr>\n",
       "      <th>4</th>\n",
       "      <td>Books &amp; Literature</td>\n",
       "      <td>22</td>\n",
       "      <td>1</td>\n",
       "    </tr>\n",
       "  </tbody>\n",
       "</table>\n",
       "</div>"
      ],
      "text/plain": [
       "                   name  id  level\n",
       "0        All categories   0      0\n",
       "1  Arts & Entertainment   3      1\n",
       "2      Autos & Vehicles  47      1\n",
       "3      Beauty & Fitness  44      1\n",
       "4    Books & Literature  22      1"
      ]
     },
     "execution_count": 54,
     "metadata": {
      "tags": []
     },
     "output_type": "execute_result"
    }
   ],
   "source": [
    "import json\n",
    "# build a dataframe saving relationship of all categories of google trends\n",
    "def extract_categories(level=0, return_key='name'):\n",
    "    cates = []\n",
    "    with open(DATA_2020_DIR + 'cat.json') as f:\n",
    "        data = json.load(f)\n",
    "        if level == 0:\n",
    "            cates.append(data[return_key])\n",
    "        if level == 1:\n",
    "            for i in data['children']:\n",
    "                cates.append(i[return_key])\n",
    "        if level == 2:\n",
    "            for i in data['children']:\n",
    "                for j in i['children']:\n",
    "                    cates.append(j[return_key])\n",
    "        if level == 3:\n",
    "            for i in data['children']:\n",
    "                for j in i['children']:\n",
    "                    if 'children' in j:\n",
    "                        for k in j['children']:\n",
    "                            cates.append(k[return_key])\n",
    "    return cates\n",
    "df_cat = pd.DataFrame({'name':[], 'id':[], 'level':[]})\n",
    "for i in [0,1,2,3]:\n",
    "    df_temp = pd.DataFrame({'name':extract_categories(i,'name'), 'id':extract_categories(i,'id'), 'level':i})\n",
    "    df_cat = df_cat.append(df_temp)\n",
    "df_cat['level'] = df_cat['level'].astype(int)\n",
    "df_cat['id'] = df_cat['id'].astype(int)\n",
    "df_cat = df_cat.drop_duplicates(subset=['name'], keep='first')\n",
    "df_cat = df_cat.reset_index(drop='True')\n",
    "df_cat.head()"
   ]
  },
  {
   "cell_type": "code",
   "execution_count": null,
   "metadata": {
    "colab": {
     "base_uri": "https://localhost:8080/"
    },
    "id": "AgUqrZaGK81e",
    "outputId": "61a133da-e4eb-44ea-cbe2-0ce11c06ae58"
   },
   "outputs": [
    {
     "name": "stderr",
     "output_type": "stream",
     "text": [
      "/usr/local/lib/python3.6/dist-packages/ipykernel_launcher.py:2: SettingWithCopyWarning: \n",
      "A value is trying to be set on a copy of a slice from a DataFrame.\n",
      "Try using .loc[row_indexer,col_indexer] = value instead\n",
      "\n",
      "See the caveats in the documentation: https://pandas.pydata.org/pandas-docs/stable/user_guide/indexing.html#returning-a-view-versus-a-copy\n",
      "  \n"
     ]
    }
   ],
   "source": [
    "# build first level trainging data\n",
    "X_ct1 = df_ct[df_cat[df_cat['level'] == 1]['name'].values] \n",
    "X_ct1['close_l1'] = df_ct['close_l1']\n",
    "y_ct = df_ct['close']"
   ]
  },
  {
   "cell_type": "markdown",
   "metadata": {
    "id": "Ju4zGeUmly7n"
   },
   "source": [
    "Spike and slab model setup: $y_t = a_0b_0y_{t-1}$ + $\\sum_{i=1}^n a_ib_itrends_i$ + $\\alpha$, where y_t is the close price on day t, $trends_i$ is ith query of google trends on day $t-1$, $a_i$ has a prior Bernoulli distribution with mean $x_i$, $b_i$ has prior Normal distribution with mean 1 and steddv 5. We assume $p(y_t|a_i,b_i,\\alpha)\\sim N(y_{observed},noise)$ where $noise\\sim Gamma(2,1)$. Through MCMC algorithm, we compute posterior marginal distribution $p(a_i|data),p(\\alpha|data)$ and $p(b_i|data)$."
   ]
  },
  {
   "cell_type": "code",
   "execution_count": null,
   "metadata": {
    "id": "yn0rXtoTMDSP"
   },
   "outputs": [],
   "source": [
    "def get_model(y, X):\n",
    "    model = pm.Model()\n",
    "    with model:\n",
    "        xi = pm.Bernoulli('xi', .1, shape=X.shape[1]) #prior inclusion probability for each variable\n",
    "        alpha = pm.Normal('alpha', mu = 0, sd = 500) # prior Intercept distribution\n",
    "        beta = pm.Normal('beta', mu = 1, sd = 5 , shape=X.shape[1]) #Prior for the non-zero coefficients\n",
    "        p = pm.math.dot(X, xi * beta) #Deterministic function to map the stochastics to the output\n",
    "        noise = pm.Gamma('noise', alpha=2, beta=1) #noise\n",
    "        y_obs = pm.Normal('y_obs', mu = p, sd = noise ,observed = y)  #Data likelihood\n",
    "    return model"
   ]
  },
  {
   "cell_type": "code",
   "execution_count": null,
   "metadata": {
    "id": "UDRTMyQXMQij"
   },
   "outputs": [],
   "source": [
    "model_spike = get_model(y_ct, X_ct1)\n",
    "# sampling\n",
    "with model_spike:\n",
    "    trace = pm.sample(5000, random_seed = 4816, cores = 1, progressbar = True, chains = 2)"
   ]
  },
  {
   "cell_type": "code",
   "execution_count": 169,
   "metadata": {
    "colab": {
     "base_uri": "https://localhost:8080/",
     "height": 234
    },
    "id": "LBFAbnzNMdZY",
    "outputId": "49f51cd4-297d-4455-dd76-3ed420fc0aff"
   },
   "outputs": [
    {
     "data": {
      "text/html": [
       "<div>\n",
       "<style scoped>\n",
       "    .dataframe tbody tr th:only-of-type {\n",
       "        vertical-align: middle;\n",
       "    }\n",
       "\n",
       "    .dataframe tbody tr th {\n",
       "        vertical-align: top;\n",
       "    }\n",
       "\n",
       "    .dataframe thead th {\n",
       "        text-align: right;\n",
       "    }\n",
       "</style>\n",
       "<table border=\"1\" class=\"dataframe\">\n",
       "  <thead>\n",
       "    <tr style=\"text-align: right;\">\n",
       "      <th></th>\n",
       "      <th>var</th>\n",
       "      <th>inclusion_probability</th>\n",
       "      <th>beta</th>\n",
       "      <th>beta_given_inclusion</th>\n",
       "    </tr>\n",
       "  </thead>\n",
       "  <tbody>\n",
       "    <tr>\n",
       "      <th>25</th>\n",
       "      <td>close_l1</td>\n",
       "      <td>1.0000</td>\n",
       "      <td>0.998561</td>\n",
       "      <td>0.998561</td>\n",
       "    </tr>\n",
       "    <tr>\n",
       "      <th>15</th>\n",
       "      <td>News</td>\n",
       "      <td>0.6174</td>\n",
       "      <td>0.953432</td>\n",
       "      <td>1.140536</td>\n",
       "    </tr>\n",
       "    <tr>\n",
       "      <th>20</th>\n",
       "      <td>Reference</td>\n",
       "      <td>0.5000</td>\n",
       "      <td>-0.885383</td>\n",
       "      <td>-2.770766</td>\n",
       "    </tr>\n",
       "    <tr>\n",
       "      <th>12</th>\n",
       "      <td>Internet &amp; Telecom</td>\n",
       "      <td>0.5000</td>\n",
       "      <td>2.385304</td>\n",
       "      <td>3.770608</td>\n",
       "    </tr>\n",
       "    <tr>\n",
       "      <th>18</th>\n",
       "      <td>Pets &amp; Animals</td>\n",
       "      <td>0.0185</td>\n",
       "      <td>0.853469</td>\n",
       "      <td>-0.169355</td>\n",
       "    </tr>\n",
       "    <tr>\n",
       "      <th>9</th>\n",
       "      <td>Health</td>\n",
       "      <td>0.0125</td>\n",
       "      <td>1.240406</td>\n",
       "      <td>-0.237030</td>\n",
       "    </tr>\n",
       "  </tbody>\n",
       "</table>\n",
       "</div>"
      ],
      "text/plain": [
       "                   var  inclusion_probability      beta  beta_given_inclusion\n",
       "25            close_l1                 1.0000  0.998561              0.998561\n",
       "15                News                 0.6174  0.953432              1.140536\n",
       "20           Reference                 0.5000 -0.885383             -2.770766\n",
       "12  Internet & Telecom                 0.5000  2.385304              3.770608\n",
       "18      Pets & Animals                 0.0185  0.853469             -0.169355\n",
       "9               Health                 0.0125  1.240406             -0.237030"
      ]
     },
     "execution_count": 169,
     "metadata": {
      "tags": []
     },
     "output_type": "execute_result"
    }
   ],
   "source": [
    "results_spike = pd.DataFrame({'var': X_ct1.columns, \n",
    "                        'inclusion_probability':np.apply_along_axis(np.mean, 0, trace['xi']),\n",
    "                       'beta':np.apply_along_axis(np.mean, 0, trace['beta']),\n",
    "                       'beta_given_inclusion': np.apply_along_axis(np.sum, 0, trace['xi']*trace['beta'])\n",
    "                            /np.apply_along_axis(np.sum, 0, trace['xi'])\n",
    "                       })\n",
    "# save results for the first level\n",
    "spike_level0 = results_spike.sort_values('inclusion_probability', ascending = False)\n",
    "spike_level0 = spike_level0[spike_level0['inclusion_probability']>0.01] #default accept probability\n",
    "spike_level0"
   ]
  },
  {
   "cell_type": "code",
   "execution_count": 170,
   "metadata": {
    "colab": {
     "base_uri": "https://localhost:8080/",
     "height": 297
    },
    "id": "t6Trpb0JumC9",
    "outputId": "7b303d40-ca6f-4cd5-ede5-0cf8d1ead52e"
   },
   "outputs": [
    {
     "data": {
      "text/plain": [
       "<matplotlib.axes._subplots.AxesSubplot at 0x7f3f2f9c2668>"
      ]
     },
     "execution_count": 170,
     "metadata": {
      "tags": []
     },
     "output_type": "execute_result"
    },
    {
     "data": {
      "image/png": "[encoded data removed]",
      "text/plain": [
       "<Figure size 432x288 with 1 Axes>"
      ]
     },
     "metadata": {
      "needs_background": "light",
      "tags": []
     },
     "output_type": "display_data"
    }
   ],
   "source": [
    "import seaborn as sns\n",
    "sns.barplot(y = 'var',x = 'inclusion_probability',data = spike_level0)"
   ]
  },
  {
   "cell_type": "code",
   "execution_count": null,
   "metadata": {
    "id": "ET1f3s0LKDCO"
   },
   "outputs": [],
   "source": [
    "pm.plot_posterior(trace)"
   ]
  },
  {
   "cell_type": "code",
   "execution_count": 172,
   "metadata": {
    "id": "F0KQtJBr4yx4"
   },
   "outputs": [],
   "source": [
    "parent = pd.read_csv(DATA_2020_DIR + 'categories_id_level_parent.csv')\n",
    "# df_ct_2 contain all the sub topics of the topics selected above\n",
    "df_ct_2 = parent[parent['parent_id'].isin(parent[parent['name'].isin(spike_level0['var'])]['id'])]"
   ]
  },
  {
   "cell_type": "code",
   "execution_count": null,
   "metadata": {
    "id": "cdNIFGih_JT8"
   },
   "outputs": [],
   "source": [
    "X_ct2 = df_ct[df_ct_2['name'].values]\n",
    "X_ct2['close_l1'] = df_ct['close_l1']\n",
    "model_spike_2 = get_model(y_ct, X_ct2)\n",
    "with model_spike_2:\n",
    "    trace2 = pm.sample(5000, random_seed = 4816, cores = 1, progressbar = True, chains = 2)"
   ]
  },
  {
   "cell_type": "code",
   "execution_count": 174,
   "metadata": {
    "colab": {
     "base_uri": "https://localhost:8080/",
     "height": 327
    },
    "id": "2J7i_QNuAfE8",
    "outputId": "edd43735-5807-4c96-9673-50e2d1cc13cf"
   },
   "outputs": [
    {
     "data": {
      "text/html": [
       "<div>\n",
       "<style scoped>\n",
       "    .dataframe tbody tr th:only-of-type {\n",
       "        vertical-align: middle;\n",
       "    }\n",
       "\n",
       "    .dataframe tbody tr th {\n",
       "        vertical-align: top;\n",
       "    }\n",
       "\n",
       "    .dataframe thead th {\n",
       "        text-align: right;\n",
       "    }\n",
       "</style>\n",
       "<table border=\"1\" class=\"dataframe\">\n",
       "  <thead>\n",
       "    <tr style=\"text-align: right;\">\n",
       "      <th></th>\n",
       "      <th>var</th>\n",
       "      <th>inclusion_probability</th>\n",
       "      <th>beta</th>\n",
       "      <th>beta_given_inclusion</th>\n",
       "    </tr>\n",
       "  </thead>\n",
       "  <tbody>\n",
       "    <tr>\n",
       "      <th>49</th>\n",
       "      <td>close_l1</td>\n",
       "      <td>1.0000</td>\n",
       "      <td>1.000298</td>\n",
       "      <td>1.000298</td>\n",
       "    </tr>\n",
       "    <tr>\n",
       "      <th>30</th>\n",
       "      <td>Broadcast &amp; Network News</td>\n",
       "      <td>0.8165</td>\n",
       "      <td>1.777214</td>\n",
       "      <td>2.064110</td>\n",
       "    </tr>\n",
       "    <tr>\n",
       "      <th>0</th>\n",
       "      <td>Aging &amp; Geriatrics</td>\n",
       "      <td>0.5000</td>\n",
       "      <td>-1.252772</td>\n",
       "      <td>-3.505543</td>\n",
       "    </tr>\n",
       "    <tr>\n",
       "      <th>11</th>\n",
       "      <td>Nursing</td>\n",
       "      <td>0.1200</td>\n",
       "      <td>1.253237</td>\n",
       "      <td>2.641407</td>\n",
       "    </tr>\n",
       "    <tr>\n",
       "      <th>15</th>\n",
       "      <td>Pharmacy</td>\n",
       "      <td>0.1046</td>\n",
       "      <td>0.921307</td>\n",
       "      <td>2.198345</td>\n",
       "    </tr>\n",
       "    <tr>\n",
       "      <th>34</th>\n",
       "      <td>Newspapers</td>\n",
       "      <td>0.0776</td>\n",
       "      <td>0.990786</td>\n",
       "      <td>2.284369</td>\n",
       "    </tr>\n",
       "    <tr>\n",
       "      <th>7</th>\n",
       "      <td>Medical Facilities &amp; Services</td>\n",
       "      <td>0.0720</td>\n",
       "      <td>0.778409</td>\n",
       "      <td>1.406490</td>\n",
       "    </tr>\n",
       "    <tr>\n",
       "      <th>35</th>\n",
       "      <td>Politics</td>\n",
       "      <td>0.0571</td>\n",
       "      <td>0.801258</td>\n",
       "      <td>-2.084113</td>\n",
       "    </tr>\n",
       "    <tr>\n",
       "      <th>42</th>\n",
       "      <td>Directories &amp; Listings</td>\n",
       "      <td>0.0536</td>\n",
       "      <td>1.103734</td>\n",
       "      <td>1.873192</td>\n",
       "    </tr>\n",
       "  </tbody>\n",
       "</table>\n",
       "</div>"
      ],
      "text/plain": [
       "                              var  ...  beta_given_inclusion\n",
       "49                       close_l1  ...              1.000298\n",
       "30       Broadcast & Network News  ...              2.064110\n",
       "0              Aging & Geriatrics  ...             -3.505543\n",
       "11                        Nursing  ...              2.641407\n",
       "15                       Pharmacy  ...              2.198345\n",
       "34                     Newspapers  ...              2.284369\n",
       "7   Medical Facilities & Services  ...              1.406490\n",
       "35                       Politics  ...             -2.084113\n",
       "42         Directories & Listings  ...              1.873192\n",
       "\n",
       "[9 rows x 4 columns]"
      ]
     },
     "execution_count": 174,
     "metadata": {
      "tags": []
     },
     "output_type": "execute_result"
    }
   ],
   "source": [
    "results_spike_2 = pd.DataFrame({'var': X_ct2.columns, \n",
    "                        'inclusion_probability':np.apply_along_axis(np.mean, 0, trace2['xi']),\n",
    "                       'beta':np.apply_along_axis(np.mean, 0, trace2['beta']),\n",
    "                       'beta_given_inclusion': np.apply_along_axis(np.sum, 0, trace2['xi']*trace2['beta'])\n",
    "                            /np.apply_along_axis(np.sum, 0, trace2['xi'])\n",
    "                       })\n",
    "spike_level1 = results_spike_2.sort_values('inclusion_probability', ascending = False)\n",
    "spike_level1 = spike_level1[spike_level1['inclusion_probability']>0.05] #default accept probability\n",
    "spike_level1"
   ]
  },
  {
   "cell_type": "code",
   "execution_count": 175,
   "metadata": {
    "colab": {
     "base_uri": "https://localhost:8080/",
     "height": 297
    },
    "id": "kqFLvM3vD0ro",
    "outputId": "6b7f252a-0f24-4f3b-ac78-3c3d9940eed3"
   },
   "outputs": [
    {
     "data": {
      "text/plain": [
       "<matplotlib.axes._subplots.AxesSubplot at 0x7f3f30120b38>"
      ]
     },
     "execution_count": 175,
     "metadata": {
      "tags": []
     },
     "output_type": "execute_result"
    },
    {
     "data": {
      "image/png": "[encoded data removed]",
      "text/plain": [
       "<Figure size 432x288 with 1 Axes>"
      ]
     },
     "metadata": {
      "needs_background": "light",
      "tags": []
     },
     "output_type": "display_data"
    }
   ],
   "source": [
    "sns.barplot(y = 'var', x = 'inclusion_probability', data = spike_level1)"
   ]
  },
  {
   "cell_type": "code",
   "execution_count": null,
   "metadata": {
    "id": "1Gca-bcLD754"
   },
   "outputs": [],
   "source": [
    "df_ct_3 = parent[parent['parent_id'].isin(parent[parent['name'].isin(spike_level1['var'])]['id'])]\n",
    "X_ct3 = df_ct[df_ct_3['name'].values]\n",
    "X_ct3['close_l1'] = df_ct['close_l1']\n",
    "model_spike_3 = get_model(y_ct, X_ct3)\n",
    "with model_spike_3:\n",
    "    trace3 = pm.sample(5000, random_seed = 4816, cores = 1, progressbar = True, chains = 2)"
   ]
  },
  {
   "cell_type": "code",
   "execution_count": 177,
   "metadata": {
    "colab": {
     "base_uri": "https://localhost:8080/",
     "height": 234
    },
    "id": "9Mem-jXhEmGq",
    "outputId": "fa63f1ac-6850-4329-a12a-53aed737cf07"
   },
   "outputs": [
    {
     "data": {
      "text/html": [
       "<div>\n",
       "<style scoped>\n",
       "    .dataframe tbody tr th:only-of-type {\n",
       "        vertical-align: middle;\n",
       "    }\n",
       "\n",
       "    .dataframe tbody tr th {\n",
       "        vertical-align: top;\n",
       "    }\n",
       "\n",
       "    .dataframe thead th {\n",
       "        text-align: right;\n",
       "    }\n",
       "</style>\n",
       "<table border=\"1\" class=\"dataframe\">\n",
       "  <thead>\n",
       "    <tr style=\"text-align: right;\">\n",
       "      <th></th>\n",
       "      <th>var</th>\n",
       "      <th>inclusion_probability</th>\n",
       "      <th>beta</th>\n",
       "      <th>beta_given_inclusion</th>\n",
       "    </tr>\n",
       "  </thead>\n",
       "  <tbody>\n",
       "    <tr>\n",
       "      <th>14</th>\n",
       "      <td>close_l1</td>\n",
       "      <td>1.0000</td>\n",
       "      <td>1.000255</td>\n",
       "      <td>1.000255</td>\n",
       "    </tr>\n",
       "    <tr>\n",
       "      <th>11</th>\n",
       "      <td>Political Polls &amp; Surveys</td>\n",
       "      <td>0.6902</td>\n",
       "      <td>1.188949</td>\n",
       "      <td>1.470422</td>\n",
       "    </tr>\n",
       "    <tr>\n",
       "      <th>7</th>\n",
       "      <td>Campaigns &amp; Elections</td>\n",
       "      <td>0.5385</td>\n",
       "      <td>1.101872</td>\n",
       "      <td>0.935614</td>\n",
       "    </tr>\n",
       "    <tr>\n",
       "      <th>12</th>\n",
       "      <td>Right-Wing Politics</td>\n",
       "      <td>0.0158</td>\n",
       "      <td>1.026692</td>\n",
       "      <td>0.449111</td>\n",
       "    </tr>\n",
       "    <tr>\n",
       "      <th>8</th>\n",
       "      <td>Left-Wing Politics</td>\n",
       "      <td>0.0136</td>\n",
       "      <td>0.969531</td>\n",
       "      <td>0.737818</td>\n",
       "    </tr>\n",
       "    <tr>\n",
       "      <th>0</th>\n",
       "      <td>Alzheimer's Disease</td>\n",
       "      <td>0.0109</td>\n",
       "      <td>0.886187</td>\n",
       "      <td>-0.304198</td>\n",
       "    </tr>\n",
       "  </tbody>\n",
       "</table>\n",
       "</div>"
      ],
      "text/plain": [
       "                          var  ...  beta_given_inclusion\n",
       "14                   close_l1  ...              1.000255\n",
       "11  Political Polls & Surveys  ...              1.470422\n",
       "7       Campaigns & Elections  ...              0.935614\n",
       "12        Right-Wing Politics  ...              0.449111\n",
       "8          Left-Wing Politics  ...              0.737818\n",
       "0         Alzheimer's Disease  ...             -0.304198\n",
       "\n",
       "[6 rows x 4 columns]"
      ]
     },
     "execution_count": 177,
     "metadata": {
      "tags": []
     },
     "output_type": "execute_result"
    }
   ],
   "source": [
    "results_spike_3 = pd.DataFrame({'var': X_ct3.columns, \n",
    "                        'inclusion_probability':np.apply_along_axis(np.mean, 0, trace3['xi']),\n",
    "                       'beta':np.apply_along_axis(np.mean, 0, trace3['beta']),\n",
    "                       'beta_given_inclusion': np.apply_along_axis(np.sum, 0, trace3['xi']*trace3['beta'])\n",
    "                            /np.apply_along_axis(np.sum, 0, trace3['xi'])\n",
    "                       })\n",
    "spike_level2 = results_spike_3.sort_values('inclusion_probability', ascending = False)\n",
    "spike_level2 = spike_level2[spike_level2['inclusion_probability']>0.01] #default accept probability\n",
    "spike_level2"
   ]
  },
  {
   "cell_type": "code",
   "execution_count": 178,
   "metadata": {
    "colab": {
     "base_uri": "https://localhost:8080/",
     "height": 297
    },
    "id": "QxpDN0CaFDwK",
    "outputId": "7fe4a5c2-3970-4e3d-8e69-e343d3a5517d"
   },
   "outputs": [
    {
     "data": {
      "text/plain": [
       "<matplotlib.axes._subplots.AxesSubplot at 0x7f3f2ee1e668>"
      ]
     },
     "execution_count": 178,
     "metadata": {
      "tags": []
     },
     "output_type": "execute_result"
    },
    {
     "data": {
      "image/png": "[encoded data removed]",
      "text/plain": [
       "<Figure size 432x288 with 1 Axes>"
      ]
     },
     "metadata": {
      "needs_background": "light",
      "tags": []
     },
     "output_type": "display_data"
    }
   ],
   "source": [
    "sns.barplot(y = 'var', x = 'inclusion_probability',data = spike_level2)"
   ]
  },
  {
   "cell_type": "code",
   "execution_count": null,
   "metadata": {
    "id": "oQ1s0zl11FC4"
   },
   "outputs": [],
   "source": []
  }
 ],
 "metadata": {
  "colab": {
   "collapsed_sections": [],
   "name": "p4.ipynb",
   "provenance": [],
   "toc_visible": true
  },
  "kernelspec": {
   "display_name": "Python 3",
   "language": "python",
   "name": "python3"
  },
  "language_info": {
   "codemirror_mode": {
    "name": "ipython",
    "version": 3
   },
   "file_extension": ".py",
   "mimetype": "text/x-python",
   "name": "python",
   "nbconvert_exporter": "python",
   "pygments_lexer": "ipython3",
   "version": "3.8.3"
  }
 },
 "nbformat": 4,
 "nbformat_minor": 1
}
